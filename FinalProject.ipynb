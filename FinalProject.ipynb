{
 "cells": [
  {
   "cell_type": "code",
   "source": "import keras\nimport matplotlib.pyplot as plt\nimport tensorflow as tf\nimport numpy as np\nimport pandas as pd\nfrom keras import models\nfrom keras.layers import Dropout",
   "metadata": {
    "cell_id": "00b1f1d132644c70a677106c9c5ccc3c",
    "tags": [],
    "deepnote_to_be_reexecuted": false,
    "source_hash": "17a80f35",
    "execution_start": 1659751399268,
    "execution_millis": 6405,
    "deepnote_app_coordinates": {
     "x": 0,
     "y": 1,
     "w": 12,
     "h": 5
    },
    "deepnote_cell_type": "code",
    "deepnote_cell_height": 239.375
   },
   "outputs": [
    {
     "name": "stderr",
     "text": "2022-08-06 02:03:19.382456: W tensorflow/stream_executor/platform/default/dso_loader.cc:64] Could not load dynamic library 'libcudart.so.11.0'; dlerror: libcudart.so.11.0: cannot open shared object file: No such file or directory\n2022-08-06 02:03:19.382494: I tensorflow/stream_executor/cuda/cudart_stub.cc:29] Ignore above cudart dlerror if you do not have a GPU set up on your machine.\n",
     "output_type": "stream"
    }
   ],
   "execution_count": null
  },
  {
   "cell_type": "code",
   "source": "from sklearn.model_selection import train_test_split\nfrom keras.models import Sequential\nfrom keras.layers import Dense, SimpleRNN\nfrom keras.optimizers import RMSprop\nfrom pandas import DataFrame\nfrom pandas import concat\nfrom keras import layers\nfrom sklearn.preprocessing import StandardScaler\nfrom sklearn.preprocessing import MinMaxScaler",
   "metadata": {
    "cell_id": "0b5e6e7d1f6c4dce91e6863740fa3da2",
    "tags": [],
    "deepnote_to_be_reexecuted": false,
    "source_hash": "2239c7c0",
    "execution_start": 1659751405721,
    "execution_millis": 801,
    "deepnote_app_coordinates": {
     "x": 0,
     "y": 7,
     "w": 12,
     "h": 5
    },
    "deepnote_cell_type": "code",
    "deepnote_cell_height": 220
   },
   "outputs": [],
   "execution_count": null
  },
  {
   "cell_type": "code",
   "source": "CPI_monthly = pd.read_csv(\"CPI_monthly.csv\", parse_dates=True, index_col='Date')\nCPI = CPI_monthly[\"CPI\"]\nxt = CPI.reset_index(drop=True)",
   "metadata": {
    "cell_id": "135184814b844ac4b28d6942f8d826c0",
    "tags": [],
    "deepnote_to_be_reexecuted": false,
    "source_hash": "1bbc754a",
    "execution_start": 1659751406533,
    "execution_millis": 35,
    "deepnote_app_coordinates": {
     "x": 0,
     "y": 13,
     "w": 12,
     "h": 5
    },
    "deepnote_cell_type": "code",
    "deepnote_cell_height": 112
   },
   "outputs": [],
   "execution_count": null
  },
  {
   "cell_type": "code",
   "source": "xt = pd.Series(xt)\ndata = concat([xt.shift(2), xt.shift(1), xt], axis=1)\ndata.columns = ['x(t-2)', 'x(t-1)', 'x(t)']\ndisplay(data.head())",
   "metadata": {
    "cell_id": "522857a3ca0742129c56b9a33be96f28",
    "tags": [],
    "deepnote_to_be_reexecuted": false,
    "source_hash": "98c98926",
    "execution_start": 1659751406573,
    "execution_millis": 32,
    "deepnote_app_coordinates": {
     "x": 0,
     "y": 19,
     "w": 12,
     "h": 5
    },
    "deepnote_cell_type": "code",
    "deepnote_cell_height": 444
   },
   "outputs": [
    {
     "data": {
      "application/vnd.deepnote.dataframe.v3+json": {
       "column_count": 3,
       "row_count": 5,
       "columns": [
        {
         "name": "x(t-2)",
         "dtype": "float64",
         "stats": {
          "unique_count": 1,
          "nan_count": 2,
          "min": "9.8",
          "max": "9.8",
          "histogram": [
           {
            "bin_start": 9.3,
            "bin_end": 9.4,
            "count": 0
           },
           {
            "bin_start": 9.4,
            "bin_end": 9.5,
            "count": 0
           },
           {
            "bin_start": 9.5,
            "bin_end": 9.600000000000001,
            "count": 0
           },
           {
            "bin_start": 9.600000000000001,
            "bin_end": 9.700000000000001,
            "count": 0
           },
           {
            "bin_start": 9.700000000000001,
            "bin_end": 9.8,
            "count": 0
           },
           {
            "bin_start": 9.8,
            "bin_end": 9.9,
            "count": 3
           },
           {
            "bin_start": 9.9,
            "bin_end": 10,
            "count": 0
           },
           {
            "bin_start": 10,
            "bin_end": 10.100000000000001,
            "count": 0
           },
           {
            "bin_start": 10.100000000000001,
            "bin_end": 10.200000000000001,
            "count": 0
           },
           {
            "bin_start": 10.200000000000001,
            "bin_end": 10.3,
            "count": 0
           }
          ]
         }
        },
        {
         "name": "x(t-1)",
         "dtype": "float64",
         "stats": {
          "unique_count": 1,
          "nan_count": 1,
          "min": "9.8",
          "max": "9.8",
          "histogram": [
           {
            "bin_start": 9.3,
            "bin_end": 9.4,
            "count": 0
           },
           {
            "bin_start": 9.4,
            "bin_end": 9.5,
            "count": 0
           },
           {
            "bin_start": 9.5,
            "bin_end": 9.600000000000001,
            "count": 0
           },
           {
            "bin_start": 9.600000000000001,
            "bin_end": 9.700000000000001,
            "count": 0
           },
           {
            "bin_start": 9.700000000000001,
            "bin_end": 9.8,
            "count": 0
           },
           {
            "bin_start": 9.8,
            "bin_end": 9.9,
            "count": 4
           },
           {
            "bin_start": 9.9,
            "bin_end": 10,
            "count": 0
           },
           {
            "bin_start": 10,
            "bin_end": 10.100000000000001,
            "count": 0
           },
           {
            "bin_start": 10.100000000000001,
            "bin_end": 10.200000000000001,
            "count": 0
           },
           {
            "bin_start": 10.200000000000001,
            "bin_end": 10.3,
            "count": 0
           }
          ]
         }
        },
        {
         "name": "x(t)",
         "dtype": "float64",
         "stats": {
          "unique_count": 2,
          "nan_count": 0,
          "min": "9.7",
          "max": "9.8",
          "histogram": [
           {
            "bin_start": 9.7,
            "bin_end": 9.709999999999999,
            "count": 1
           },
           {
            "bin_start": 9.709999999999999,
            "bin_end": 9.719999999999999,
            "count": 0
           },
           {
            "bin_start": 9.719999999999999,
            "bin_end": 9.73,
            "count": 0
           },
           {
            "bin_start": 9.73,
            "bin_end": 9.74,
            "count": 0
           },
           {
            "bin_start": 9.74,
            "bin_end": 9.75,
            "count": 0
           },
           {
            "bin_start": 9.75,
            "bin_end": 9.76,
            "count": 0
           },
           {
            "bin_start": 9.76,
            "bin_end": 9.77,
            "count": 0
           },
           {
            "bin_start": 9.77,
            "bin_end": 9.780000000000001,
            "count": 0
           },
           {
            "bin_start": 9.780000000000001,
            "bin_end": 9.790000000000001,
            "count": 0
           },
           {
            "bin_start": 9.790000000000001,
            "bin_end": 9.8,
            "count": 4
           }
          ]
         }
        },
        {
         "name": "_deepnote_index_column",
         "dtype": "int64"
        }
       ],
       "rows": [
        {
         "x(t-2)": "nan",
         "x(t-1)": "nan",
         "x(t)": 9.8,
         "_deepnote_index_column": 0
        },
        {
         "x(t-2)": "nan",
         "x(t-1)": 9.8,
         "x(t)": 9.8,
         "_deepnote_index_column": 1
        },
        {
         "x(t-2)": 9.8,
         "x(t-1)": 9.8,
         "x(t)": 9.8,
         "_deepnote_index_column": 2
        },
        {
         "x(t-2)": 9.8,
         "x(t-1)": 9.8,
         "x(t)": 9.8,
         "_deepnote_index_column": 3
        },
        {
         "x(t-2)": 9.8,
         "x(t-1)": 9.8,
         "x(t)": 9.7,
         "_deepnote_index_column": 4
        }
       ]
      },
      "text/plain": "   x(t-2)  x(t-1)  x(t)\n0     NaN     NaN   9.8\n1     NaN     9.8   9.8\n2     9.8     9.8   9.8\n3     9.8     9.8   9.8\n4     9.8     9.8   9.7",
      "text/html": "<div>\n<style scoped>\n    .dataframe tbody tr th:only-of-type {\n        vertical-align: middle;\n    }\n\n    .dataframe tbody tr th {\n        vertical-align: top;\n    }\n\n    .dataframe thead th {\n        text-align: right;\n    }\n</style>\n<table border=\"1\" class=\"dataframe\">\n  <thead>\n    <tr style=\"text-align: right;\">\n      <th></th>\n      <th>x(t-2)</th>\n      <th>x(t-1)</th>\n      <th>x(t)</th>\n    </tr>\n  </thead>\n  <tbody>\n    <tr>\n      <th>0</th>\n      <td>NaN</td>\n      <td>NaN</td>\n      <td>9.8</td>\n    </tr>\n    <tr>\n      <th>1</th>\n      <td>NaN</td>\n      <td>9.8</td>\n      <td>9.8</td>\n    </tr>\n    <tr>\n      <th>2</th>\n      <td>9.8</td>\n      <td>9.8</td>\n      <td>9.8</td>\n    </tr>\n    <tr>\n      <th>3</th>\n      <td>9.8</td>\n      <td>9.8</td>\n      <td>9.8</td>\n    </tr>\n    <tr>\n      <th>4</th>\n      <td>9.8</td>\n      <td>9.8</td>\n      <td>9.7</td>\n    </tr>\n  </tbody>\n</table>\n</div>"
     },
     "metadata": {},
     "output_type": "display_data"
    }
   ],
   "execution_count": null
  },
  {
   "cell_type": "code",
   "source": "n_timesteps = 14\n\nfeatures_set = []\nlabels = []\nfor i in range(n_timesteps, xt.shape[0]):\n    features_set.append(xt[i-n_timesteps:i])\n    labels.append(xt[i])\n    \nfeatures_set, labels = np.array(features_set), np.array(labels)\nfeatures_set = np.reshape(features_set,(features_set.shape[0], features_set.shape[1], 1))",
   "metadata": {
    "cell_id": "ed44e2effb664055b69882a48426f631",
    "tags": [],
    "deepnote_to_be_reexecuted": false,
    "source_hash": "63abafd7",
    "execution_start": 1659751406670,
    "execution_millis": 5,
    "deepnote_app_coordinates": {
     "x": 0,
     "y": 25,
     "w": 12,
     "h": 5
    },
    "deepnote_cell_type": "code",
    "deepnote_cell_height": 238
   },
   "outputs": [],
   "execution_count": null
  },
  {
   "cell_type": "code",
   "source": "print(\"features_set.shape is \", features_set.shape)\nprint(\"labels.shape is \", labels.shape)",
   "metadata": {
    "cell_id": "debddba4ebf64a619f05a62048328c8d",
    "tags": [],
    "deepnote_to_be_reexecuted": false,
    "source_hash": "514696a6",
    "execution_start": 1659751406717,
    "execution_millis": 4,
    "deepnote_app_coordinates": {
     "x": 0,
     "y": 31,
     "w": 12,
     "h": 5
    },
    "deepnote_cell_type": "code",
    "deepnote_cell_height": 145.375
   },
   "outputs": [
    {
     "name": "stdout",
     "text": "features_set.shape is  (1282, 14, 1)\nlabels.shape is  (1282,)\n",
     "output_type": "stream"
    }
   ],
   "execution_count": null
  },
  {
   "cell_type": "code",
   "source": "n = features_set.shape[0]\nn_train = int(n * 0.80)\nn_test = n - n_train\n#print(\"n_train = \",str(n_train))\n#print(\"n_test = \",str(n_test))\n\nfeatures_set_train, features_set_test =  features_set[0:n_train,:,:], features_set[n_train:n,:,:]\nlabels_train, labels_test =  labels[0:n_train], labels[n_train:n]\n\nprint(\"features_set_train.shape is \", features_set_train.shape)\nprint(\"labels_train.shape is \", labels_train.shape)\nprint(\"\\nfeatures_set_test.shape is \", features_set_test.shape)\nprint(\"labels_test.shape is \", labels_test.shape)",
   "metadata": {
    "cell_id": "e08d2ec8753741ed8a2cf62bc188b50c",
    "tags": [],
    "deepnote_to_be_reexecuted": false,
    "source_hash": "789bc739",
    "execution_start": 1659751406719,
    "execution_millis": 2,
    "deepnote_app_coordinates": {
     "x": 0,
     "y": 37,
     "w": 12,
     "h": 5
    },
    "deepnote_cell_type": "code",
    "deepnote_cell_height": 403.9375
   },
   "outputs": [
    {
     "name": "stdout",
     "text": "features_set_train.shape is  (1025, 14, 1)\nlabels_train.shape is  (1025,)\n\nfeatures_set_test.shape is  (257, 14, 1)\nlabels_test.shape is  (257,)\n",
     "output_type": "stream"
    }
   ],
   "execution_count": null
  },
  {
   "cell_type": "code",
   "source": "\nmodel = Sequential()\nmodel.add(SimpleRNN(6, input_shape=(1,2), activation=\"relu\"))\nmodel.add(Dropout(0.2, input_shape=(1,)))\nmodel.add(Dense(32, activation=\"relu\"))\nmodel.add(Dense(1))\nmodel.compile(loss='mean_squared_error', optimizer=RMSprop(learning_rate=0.001),metrics=['mse'])",
   "metadata": {
    "cell_id": "5d5045f75ed14a8ab585057348baaccd",
    "tags": [],
    "deepnote_to_be_reexecuted": false,
    "source_hash": "b483faf5",
    "execution_start": 1659751406719,
    "execution_millis": 843,
    "deepnote_app_coordinates": {
     "x": 0,
     "y": 43,
     "w": 12,
     "h": 5
    },
    "deepnote_cell_type": "code",
    "deepnote_cell_height": 299.9375
   },
   "outputs": [
    {
     "name": "stderr",
     "text": "2022-08-06 02:03:26.697200: W tensorflow/stream_executor/platform/default/dso_loader.cc:64] Could not load dynamic library 'libcuda.so.1'; dlerror: libcuda.so.1: cannot open shared object file: No such file or directory\n2022-08-06 02:03:26.697235: W tensorflow/stream_executor/cuda/cuda_driver.cc:269] failed call to cuInit: UNKNOWN ERROR (303)\n2022-08-06 02:03:26.697254: I tensorflow/stream_executor/cuda/cuda_diagnostics.cc:156] kernel driver does not appear to be running on this host (p-da06c7de-90de-4eea-9ffe-050b3a97225e): /proc/driver/nvidia/version does not exist\n2022-08-06 02:03:26.697489: I tensorflow/core/platform/cpu_feature_guard.cc:193] This TensorFlow binary is optimized with oneAPI Deep Neural Network Library (oneDNN) to use the following CPU instructions in performance-critical operations:  AVX2 AVX512F FMA\nTo enable them in other operations, rebuild TensorFlow with the appropriate compiler flags.\n",
     "output_type": "stream"
    }
   ],
   "execution_count": null
  },
  {
   "cell_type": "code",
   "source": "print(\"2 first features:\")\ndisplay(features_set_train[0:2,:,0])\nprint(\"2 first labels:\")\ndisplay(labels_train[0:2])",
   "metadata": {
    "cell_id": "25e5455d5ab8413da8927e9936ffb129",
    "tags": [],
    "deepnote_to_be_reexecuted": false,
    "source_hash": "df870e0e",
    "execution_start": 1659751406793,
    "execution_millis": 799,
    "deepnote_app_coordinates": {
     "x": 0,
     "y": 49,
     "w": 12,
     "h": 5
    },
    "deepnote_cell_type": "code",
    "deepnote_cell_height": 369.3125,
    "deepnote_output_heights": [
     null,
     78.75,
     null,
     21.1875
    ]
   },
   "outputs": [
    {
     "name": "stdout",
     "text": "2 first features:\n",
     "output_type": "stream"
    },
    {
     "data": {
      "text/plain": "array([[ 9.8,  9.8,  9.8,  9.8,  9.7,  9.8,  9.9,  9.9, 10. , 10. , 10.1,\n        10. , 10. ,  9.9],\n       [ 9.8,  9.8,  9.8,  9.7,  9.8,  9.9,  9.9, 10. , 10. , 10.1, 10. ,\n        10. ,  9.9,  9.9]])"
     },
     "metadata": {},
     "output_type": "display_data"
    },
    {
     "name": "stdout",
     "text": "2 first labels:\n",
     "output_type": "stream"
    },
    {
     "data": {
      "text/plain": "array([9.9, 9.8])"
     },
     "metadata": {},
     "output_type": "display_data"
    }
   ],
   "execution_count": null
  },
  {
   "cell_type": "code",
   "source": "n_features = 1\n\nmodel = models.Sequential()\n\nmodel.add(layers.SimpleRNN(6, activation='relu', input_shape=(n_timesteps,n_features)))\nmodel.add(layers.Dense(1, activation='linear')) \n\n\nmodel.summary()",
   "metadata": {
    "cell_id": "83bd6f1a6ad4421a8e0bd1ef608d9b13",
    "tags": [],
    "deepnote_to_be_reexecuted": false,
    "source_hash": "88556ca",
    "execution_start": 1659751406807,
    "execution_millis": 790,
    "deepnote_app_coordinates": {
     "x": 0,
     "y": 55,
     "w": 12,
     "h": 5
    },
    "deepnote_cell_type": "code",
    "deepnote_cell_height": 493.4375
   },
   "outputs": [
    {
     "name": "stdout",
     "text": "Model: \"sequential_1\"\n_________________________________________________________________\n Layer (type)                Output Shape              Param #   \n=================================================================\n simple_rnn_1 (SimpleRNN)    (None, 6)                 48        \n                                                                 \n dense_2 (Dense)             (None, 1)                 7         \n                                                                 \n=================================================================\nTotal params: 55\nTrainable params: 55\nNon-trainable params: 0\n_________________________________________________________________\n",
     "output_type": "stream"
    }
   ],
   "execution_count": null
  },
  {
   "cell_type": "code",
   "source": "nepochs = 128\nmodel.compile(optimizer=\"adam\",\n              loss='mse')\nhistory = model.fit(features_set_train, labels_train,\n          epochs=nepochs,\n          batch_size=32,\n          validation_data=(features_set_test, labels_test))\nhistory = history.history",
   "metadata": {
    "cell_id": "3584053046664a98971e5216035d100d",
    "tags": [],
    "deepnote_to_be_reexecuted": false,
    "source_hash": "2f95596e",
    "execution_start": 1659751406897,
    "execution_millis": 21296,
    "deepnote_app_coordinates": {
     "x": 0,
     "y": 61,
     "w": 12,
     "h": 5
    },
    "deepnote_cell_type": "code",
    "deepnote_cell_height": 822
   },
   "outputs": [
    {
     "name": "stdout",
     "text": "Epoch 1/128\n33/33 [==============================] - 1s 10ms/step - loss: 8432.6230 - val_loss: 78831.0625\nEpoch 2/128\n33/33 [==============================] - 0s 5ms/step - loss: 6841.0615 - val_loss: 67563.3047\nEpoch 3/128\n33/33 [==============================] - 0s 4ms/step - loss: 5975.7725 - val_loss: 60172.1758\nEpoch 4/128\n33/33 [==============================] - 0s 4ms/step - loss: 5353.4087 - val_loss: 53911.5586\nEpoch 5/128\n33/33 [==============================] - 0s 4ms/step - loss: 4562.0044 - val_loss: 40574.2227\nEpoch 6/128\n33/33 [==============================] - 0s 4ms/step - loss: 3166.8906 - val_loss: 26200.8809\nEpoch 7/128\n33/33 [==============================] - 0s 4ms/step - loss: 1819.1285 - val_loss: 12430.5947\nEpoch 8/128\n33/33 [==============================] - 0s 4ms/step - loss: 679.4050 - val_loss: 2273.3408\nEpoch 9/128\n33/33 [==============================] - 0s 4ms/step - loss: 51.5532 - val_loss: 2.9691\nEpoch 10/128\n33/33 [==============================] - 0s 5ms/step - loss: 1.0764 - val_loss: 3.0986\nEpoch 11/128\n33/33 [==============================] - 0s 4ms/step - loss: 0.2772 - val_loss: 1.8894\nEpoch 12/128\n33/33 [==============================] - 0s 4ms/step - loss: 0.2660 - val_loss: 1.8455\nEpoch 13/128\n33/33 [==============================] - 0s 4ms/step - loss: 0.2638 - val_loss: 1.8454\nEpoch 14/128\n33/33 [==============================] - 0s 4ms/step - loss: 0.2622 - val_loss: 1.8453\nEpoch 15/128\n33/33 [==============================] - 0s 4ms/step - loss: 0.2612 - val_loss: 1.8472\nEpoch 16/128\n33/33 [==============================] - 0s 5ms/step - loss: 0.2605 - val_loss: 1.8468\nEpoch 17/128\n33/33 [==============================] - 0s 4ms/step - loss: 0.2593 - val_loss: 1.8460\nEpoch 18/128\n33/33 [==============================] - 0s 4ms/step - loss: 0.2582 - val_loss: 1.8510\nEpoch 19/128\n33/33 [==============================] - 0s 4ms/step - loss: 0.2577 - val_loss: 1.8554\nEpoch 20/128\n33/33 [==============================] - 0s 4ms/step - loss: 0.2559 - val_loss: 1.8502\nEpoch 21/128\n33/33 [==============================] - 0s 4ms/step - loss: 0.2548 - val_loss: 1.8467\nEpoch 22/128\n33/33 [==============================] - 0s 4ms/step - loss: 0.2535 - val_loss: 1.8522\nEpoch 23/128\n33/33 [==============================] - 0s 4ms/step - loss: 0.2524 - val_loss: 1.8520\nEpoch 24/128\n33/33 [==============================] - 0s 4ms/step - loss: 0.2511 - val_loss: 1.8558\nEpoch 25/128\n33/33 [==============================] - 0s 4ms/step - loss: 0.2502 - val_loss: 1.8501\nEpoch 26/128\n33/33 [==============================] - 0s 4ms/step - loss: 0.2489 - val_loss: 1.8473\nEpoch 27/128\n33/33 [==============================] - 0s 6ms/step - loss: 0.2479 - val_loss: 1.8580\nEpoch 28/128\n33/33 [==============================] - 0s 4ms/step - loss: 0.2462 - val_loss: 1.8505\nEpoch 29/128\n33/33 [==============================] - 0s 5ms/step - loss: 0.2453 - val_loss: 1.8602\nEpoch 30/128\n33/33 [==============================] - 0s 5ms/step - loss: 0.2447 - val_loss: 1.8486\nEpoch 31/128\n33/33 [==============================] - 0s 4ms/step - loss: 0.2427 - val_loss: 1.8684\nEpoch 32/128\n33/33 [==============================] - 0s 4ms/step - loss: 0.2415 - val_loss: 1.8508\nEpoch 33/128\n33/33 [==============================] - 0s 4ms/step - loss: 0.2399 - val_loss: 1.8660\nEpoch 34/128\n33/33 [==============================] - 0s 5ms/step - loss: 0.2387 - val_loss: 1.8543\nEpoch 35/128\n33/33 [==============================] - 0s 4ms/step - loss: 0.2379 - val_loss: 1.9244\nEpoch 36/128\n33/33 [==============================] - 0s 4ms/step - loss: 0.2447 - val_loss: 1.8713\nEpoch 37/128\n33/33 [==============================] - 0s 4ms/step - loss: 0.2399 - val_loss: 1.8651\nEpoch 38/128\n33/33 [==============================] - 0s 4ms/step - loss: 0.2329 - val_loss: 1.9331\nEpoch 39/128\n33/33 [==============================] - 0s 4ms/step - loss: 0.2419 - val_loss: 1.8610\nEpoch 40/128\n33/33 [==============================] - 0s 5ms/step - loss: 0.2303 - val_loss: 1.8928\nEpoch 41/128\n33/33 [==============================] - 0s 4ms/step - loss: 0.2293 - val_loss: 1.8791\nEpoch 42/128\n33/33 [==============================] - 0s 4ms/step - loss: 0.2278 - val_loss: 1.9020\nEpoch 43/128\n33/33 [==============================] - 0s 5ms/step - loss: 0.2268 - val_loss: 1.8608\nEpoch 44/128\n33/33 [==============================] - 0s 5ms/step - loss: 0.2258 - val_loss: 1.8536\nEpoch 45/128\n33/33 [==============================] - 0s 5ms/step - loss: 0.2244 - val_loss: 1.9201\nEpoch 46/128\n33/33 [==============================] - 0s 5ms/step - loss: 0.2219 - val_loss: 1.8532\nEpoch 47/128\n33/33 [==============================] - 0s 4ms/step - loss: 0.2208 - val_loss: 1.9168\nEpoch 48/128\n33/33 [==============================] - 0s 5ms/step - loss: 0.2201 - val_loss: 1.9469\nEpoch 49/128\n33/33 [==============================] - 0s 4ms/step - loss: 0.2237 - val_loss: 1.8622\nEpoch 50/128\n33/33 [==============================] - 0s 4ms/step - loss: 0.2182 - val_loss: 1.8601\nEpoch 51/128\n33/33 [==============================] - 0s 4ms/step - loss: 0.2160 - val_loss: 1.8622\nEpoch 52/128\n33/33 [==============================] - 0s 4ms/step - loss: 0.2143 - val_loss: 2.0471\nEpoch 53/128\n33/33 [==============================] - 0s 5ms/step - loss: 0.2210 - val_loss: 1.8877\nEpoch 54/128\n33/33 [==============================] - 0s 4ms/step - loss: 0.2122 - val_loss: 1.8810\nEpoch 55/128\n33/33 [==============================] - 0s 4ms/step - loss: 0.2108 - val_loss: 1.8870\nEpoch 56/128\n33/33 [==============================] - 0s 4ms/step - loss: 0.2090 - val_loss: 1.9978\nEpoch 57/128\n33/33 [==============================] - 0s 5ms/step - loss: 0.2083 - val_loss: 1.9487\nEpoch 58/128\n33/33 [==============================] - 0s 4ms/step - loss: 0.2068 - val_loss: 1.8832\nEpoch 59/128\n33/33 [==============================] - 0s 4ms/step - loss: 0.2067 - val_loss: 1.8617\nEpoch 60/128\n33/33 [==============================] - 0s 4ms/step - loss: 0.2074 - val_loss: 1.8862\nEpoch 61/128\n33/33 [==============================] - 0s 3ms/step - loss: 0.2023 - val_loss: 1.9531\nEpoch 62/128\n33/33 [==============================] - 0s 4ms/step - loss: 0.2011 - val_loss: 2.0185\nEpoch 63/128\n33/33 [==============================] - 0s 4ms/step - loss: 0.2022 - val_loss: 1.9686\nEpoch 64/128\n33/33 [==============================] - 0s 5ms/step - loss: 0.2004 - val_loss: 2.0443\nEpoch 65/128\n33/33 [==============================] - 0s 4ms/step - loss: 0.2182 - val_loss: 1.9758\nEpoch 66/128\n33/33 [==============================] - 0s 4ms/step - loss: 0.1972 - val_loss: 1.9802\nEpoch 67/128\n33/33 [==============================] - 0s 4ms/step - loss: 0.1955 - val_loss: 2.0084\nEpoch 68/128\n33/33 [==============================] - 0s 4ms/step - loss: 0.1949 - val_loss: 2.0203\nEpoch 69/128\n33/33 [==============================] - 0s 4ms/step - loss: 0.1963 - val_loss: 2.0251\nEpoch 70/128\n33/33 [==============================] - 0s 4ms/step - loss: 0.1924 - val_loss: 2.1611\nEpoch 71/128\n33/33 [==============================] - 0s 4ms/step - loss: 0.1963 - val_loss: 2.0186\nEpoch 72/128\n33/33 [==============================] - 0s 5ms/step - loss: 0.1918 - val_loss: 1.9471\nEpoch 73/128\n33/33 [==============================] - 0s 5ms/step - loss: 0.1895 - val_loss: 2.0382\nEpoch 74/128\n33/33 [==============================] - 0s 4ms/step - loss: 0.1886 - val_loss: 1.8961\nEpoch 75/128\n33/33 [==============================] - 0s 4ms/step - loss: 0.1889 - val_loss: 1.8704\nEpoch 76/128\n33/33 [==============================] - 0s 4ms/step - loss: 0.1877 - val_loss: 2.0078\nEpoch 77/128\n33/33 [==============================] - 0s 4ms/step - loss: 0.1855 - val_loss: 2.0588\nEpoch 78/128\n33/33 [==============================] - 0s 4ms/step - loss: 0.1844 - val_loss: 2.0944\nEpoch 79/128\n33/33 [==============================] - 0s 4ms/step - loss: 0.1835 - val_loss: 2.3317\nEpoch 80/128\n33/33 [==============================] - 0s 4ms/step - loss: 0.2006 - val_loss: 2.1592\nEpoch 81/128\n33/33 [==============================] - 0s 4ms/step - loss: 0.1822 - val_loss: 2.0241\nEpoch 82/128\n33/33 [==============================] - 0s 4ms/step - loss: 0.1819 - val_loss: 2.1772\nEpoch 83/128\n33/33 [==============================] - 0s 4ms/step - loss: 0.1822 - val_loss: 2.3765\nEpoch 84/128\n33/33 [==============================] - 0s 4ms/step - loss: 0.1811 - val_loss: 2.0641\nEpoch 85/128\n33/33 [==============================] - 0s 4ms/step - loss: 0.1809 - val_loss: 2.1058\nEpoch 86/128\n33/33 [==============================] - 0s 4ms/step - loss: 0.1788 - val_loss: 2.0371\nEpoch 87/128\n33/33 [==============================] - 0s 4ms/step - loss: 0.1800 - val_loss: 1.8948\nEpoch 88/128\n33/33 [==============================] - 0s 4ms/step - loss: 0.1778 - val_loss: 1.9769\nEpoch 89/128\n33/33 [==============================] - 0s 4ms/step - loss: 0.1773 - val_loss: 1.9337\nEpoch 90/128\n33/33 [==============================] - 0s 4ms/step - loss: 0.1810 - val_loss: 1.9087\nEpoch 91/128\n33/33 [==============================] - 0s 4ms/step - loss: 0.1782 - val_loss: 1.9539\nEpoch 92/128\n33/33 [==============================] - 0s 4ms/step - loss: 0.1749 - val_loss: 2.0775\nEpoch 93/128\n33/33 [==============================] - 0s 4ms/step - loss: 0.1741 - val_loss: 1.9009\nEpoch 94/128\n33/33 [==============================] - 0s 4ms/step - loss: 0.1801 - val_loss: 2.0018\nEpoch 95/128\n33/33 [==============================] - 0s 5ms/step - loss: 0.1737 - val_loss: 2.1435\nEpoch 96/128\n33/33 [==============================] - 0s 4ms/step - loss: 0.1734 - val_loss: 2.0380\nEpoch 97/128\n33/33 [==============================] - 0s 5ms/step - loss: 0.1720 - val_loss: 2.5864\nEpoch 98/128\n33/33 [==============================] - 0s 4ms/step - loss: 0.1770 - val_loss: 2.5775\nEpoch 99/128\n33/33 [==============================] - 0s 4ms/step - loss: 0.1788 - val_loss: 2.2033\nEpoch 100/128\n33/33 [==============================] - 0s 4ms/step - loss: 0.1708 - val_loss: 2.1857\nEpoch 101/128\n33/33 [==============================] - 0s 4ms/step - loss: 0.1704 - val_loss: 2.5666\nEpoch 102/128\n33/33 [==============================] - 0s 5ms/step - loss: 0.1728 - val_loss: 2.3018\nEpoch 103/128\n33/33 [==============================] - 0s 4ms/step - loss: 0.1735 - val_loss: 1.9759\nEpoch 104/128\n33/33 [==============================] - 0s 5ms/step - loss: 0.1716 - val_loss: 2.1447\nEpoch 105/128\n33/33 [==============================] - 0s 4ms/step - loss: 0.1718 - val_loss: 2.2274\nEpoch 106/128\n33/33 [==============================] - 0s 4ms/step - loss: 0.1687 - val_loss: 2.0343\nEpoch 107/128\n33/33 [==============================] - 0s 4ms/step - loss: 0.1718 - val_loss: 2.4381\nEpoch 108/128\n33/33 [==============================] - 0s 4ms/step - loss: 0.1695 - val_loss: 2.1429\nEpoch 109/128\n33/33 [==============================] - 0s 5ms/step - loss: 0.1733 - val_loss: 2.2192\nEpoch 110/128\n33/33 [==============================] - 0s 4ms/step - loss: 0.1715 - val_loss: 2.2253\nEpoch 111/128\n33/33 [==============================] - 0s 4ms/step - loss: 0.1689 - val_loss: 2.4852\nEpoch 112/128\n33/33 [==============================] - 0s 4ms/step - loss: 0.1705 - val_loss: 2.3052\nEpoch 113/128\n33/33 [==============================] - 0s 4ms/step - loss: 0.1673 - val_loss: 2.1480\nEpoch 114/128\n33/33 [==============================] - 0s 4ms/step - loss: 0.1674 - val_loss: 1.8823\nEpoch 115/128\n33/33 [==============================] - 0s 4ms/step - loss: 0.1697 - val_loss: 2.5314\nEpoch 116/128\n33/33 [==============================] - 0s 4ms/step - loss: 0.1669 - val_loss: 3.3438\nEpoch 117/128\n33/33 [==============================] - 0s 5ms/step - loss: 0.2160 - val_loss: 1.9393\nEpoch 118/128\n33/33 [==============================] - 0s 4ms/step - loss: 0.1730 - val_loss: 2.5245\nEpoch 119/128\n33/33 [==============================] - 0s 4ms/step - loss: 0.1851 - val_loss: 2.0375\nEpoch 120/128\n33/33 [==============================] - 0s 4ms/step - loss: 0.1661 - val_loss: 1.9084\nEpoch 121/128\n33/33 [==============================] - 0s 4ms/step - loss: 0.1656 - val_loss: 1.9780\nEpoch 122/128\n33/33 [==============================] - 0s 4ms/step - loss: 0.1727 - val_loss: 2.5871\nEpoch 123/128\n33/33 [==============================] - 0s 4ms/step - loss: 0.1671 - val_loss: 2.6464\nEpoch 124/128\n33/33 [==============================] - 0s 5ms/step - loss: 0.1682 - val_loss: 2.6355\nEpoch 125/128\n33/33 [==============================] - 0s 4ms/step - loss: 0.1649 - val_loss: 3.0516\nEpoch 126/128\n33/33 [==============================] - 0s 4ms/step - loss: 0.1733 - val_loss: 2.0591\nEpoch 127/128\n33/33 [==============================] - 0s 4ms/step - loss: 0.1690 - val_loss: 2.6092\nEpoch 128/128\n33/33 [==============================] - 0s 4ms/step - loss: 0.1704 - val_loss: 2.5120\n",
     "output_type": "stream"
    }
   ],
   "execution_count": null
  },
  {
   "cell_type": "code",
   "source": "features_set.shape\nxhat = model.predict(features_set)",
   "metadata": {
    "cell_id": "fa3a4bf322c949c3a5dd46acff93228d",
    "tags": [],
    "deepnote_to_be_reexecuted": false,
    "source_hash": "65d6e0f8",
    "execution_start": 1659751428200,
    "execution_millis": 324,
    "deepnote_app_coordinates": {
     "x": 0,
     "y": 67,
     "w": 12,
     "h": 5
    },
    "deepnote_cell_type": "code",
    "deepnote_cell_height": 125.1875
   },
   "outputs": [
    {
     "name": "stdout",
     "text": "41/41 [==============================] - 0s 2ms/step\n",
     "output_type": "stream"
    }
   ],
   "execution_count": null
  },
  {
   "cell_type": "code",
   "source": "window = np.arange(10,1200)\n\nplt.figure(figsize=(16,6))\nplt.title(\"1 step ahead predictions by Simple RNN\",fontsize=16)\n\nplt.axvline(x=1,linestyle=':',color='k')\nplt.plot(xt.index[window],xt[window], linestyle=':', marker='o',color='blue',label = \"$x_t$\")\nplt.plot(xt.index[window],xhat[window-n_timesteps], linestyle=':', marker='o',color='red',label = \"$\\hat{x}_t$\")\n\nplt.grid(True)\nplt.legend(loc = 'upper left',fontsize=16)\nplt.show()",
   "metadata": {
    "cell_id": "4e97bc9af33345d1bb92483a67d2600b",
    "tags": [],
    "deepnote_to_be_reexecuted": false,
    "source_hash": "8024c3f6",
    "execution_start": 1659751428529,
    "execution_millis": 419,
    "deepnote_app_coordinates": {
     "x": 0,
     "y": 73,
     "w": 12,
     "h": 5
    },
    "deepnote_cell_type": "code",
    "deepnote_cell_height": 628,
    "deepnote_output_heights": [
     333,
     347.40625
    ]
   },
   "outputs": [
    {
     "data": {
      "text/plain": "<Figure size 1152x432 with 1 Axes>",
      "image/png": "[encoded data removed]"
     },
     "metadata": {
      "needs_background": "light",
      "image/png": {
       "width": 933,
       "height": 375
      }
     },
     "output_type": "display_data"
    }
   ],
   "execution_count": null
  },
  {
   "cell_type": "code",
   "source": "data = []\n\ndf = pd.DataFrame(data)",
   "metadata": {
    "cell_id": "8c4ed0568b0445f690c580f26747a4fa",
    "tags": [],
    "deepnote_to_be_reexecuted": false,
    "source_hash": "dea3e960",
    "execution_start": 1659751428946,
    "execution_millis": 0,
    "deepnote_app_coordinates": {
     "x": 0,
     "y": 85,
     "w": 12,
     "h": 5
    },
    "deepnote_cell_type": "code",
    "deepnote_cell_height": 112
   },
   "outputs": [],
   "execution_count": null
  },
  {
   "cell_type": "code",
   "source": "df = pd.DataFrame(xhat[window-n_timesteps], columns = [\"predicted\"])\ndf[\"real\"] = xt[window]\ndf = df.iloc[20:]",
   "metadata": {
    "cell_id": "d2cf6dffff9346428833e448c5e356ed",
    "tags": [],
    "deepnote_to_be_reexecuted": false,
    "source_hash": "33169fd8",
    "execution_start": 1659751428947,
    "execution_millis": 0,
    "deepnote_app_coordinates": {
     "x": 0,
     "y": 91,
     "w": 12,
     "h": 5
    },
    "deepnote_cell_type": "code",
    "deepnote_cell_height": 112,
    "deepnote_output_heights": [
     136.3125
    ]
   },
   "outputs": [],
   "execution_count": null
  },
  {
   "cell_type": "code",
   "source": "df",
   "metadata": {
    "cell_id": "6f60221b8a8c4f7daf9eefce6bdc828f",
    "tags": [],
    "deepnote_to_be_reexecuted": false,
    "source_hash": "f804c160",
    "execution_start": 1659751428948,
    "execution_millis": 27,
    "deepnote_table_state": {
     "pageSize": 10,
     "pageIndex": 0,
     "filters": [],
     "sortBy": []
    },
    "deepnote_table_loading": false,
    "deepnote_app_coordinates": {
     "x": 0,
     "y": 97,
     "w": 12,
     "h": 5
    },
    "deepnote_cell_type": "code",
    "deepnote_cell_height": 595
   },
   "outputs": [
    {
     "output_type": "execute_result",
     "execution_count": 16,
     "data": {
      "application/vnd.deepnote.dataframe.v3+json": {
       "column_count": 2,
       "row_count": 1170,
       "columns": [
        {
         "name": "predicted",
         "dtype": "float32",
         "stats": {
          "unique_count": 1169,
          "nan_count": 0,
          "min": "10.164299011230469",
          "max": "232.6316375732422",
          "histogram": [
           {
            "bin_start": 10.164299011230469,
            "bin_end": 32.411033630371094,
            "count": 611
           },
           {
            "bin_start": 32.411033630371094,
            "bin_end": 54.65776824951172,
            "count": 112
           },
           {
            "bin_start": 54.65776824951172,
            "bin_end": 76.90450286865234,
            "count": 52
           },
           {
            "bin_start": 76.90450286865234,
            "bin_end": 99.15123748779297,
            "count": 40
           },
           {
            "bin_start": 99.15123748779297,
            "bin_end": 121.39796447753906,
            "count": 68
           },
           {
            "bin_start": 121.39796447753906,
            "bin_end": 143.6446990966797,
            "count": 50
           },
           {
            "bin_start": 143.6446990966797,
            "bin_end": 165.8914337158203,
            "count": 73
           },
           {
            "bin_start": 165.8914337158203,
            "bin_end": 188.13816833496094,
            "count": 60
           },
           {
            "bin_start": 188.13816833496094,
            "bin_end": 210.38490295410156,
            "count": 43
           },
           {
            "bin_start": 210.38490295410156,
            "bin_end": 232.6316375732422,
            "count": 61
           }
          ]
         }
        },
        {
         "name": "real",
         "dtype": "float64",
         "stats": {
          "unique_count": 683,
          "nan_count": 0,
          "min": "9.9",
          "max": "227.663",
          "histogram": [
           {
            "bin_start": 9.9,
            "bin_end": 31.676299999999998,
            "count": 613
           },
           {
            "bin_start": 31.676299999999998,
            "bin_end": 53.4526,
            "count": 116
           },
           {
            "bin_start": 53.4526,
            "bin_end": 75.22890000000001,
            "count": 53
           },
           {
            "bin_start": 75.22890000000001,
            "bin_end": 97.0052,
            "count": 32
           },
           {
            "bin_start": 97.0052,
            "bin_end": 118.7815,
            "count": 73
           },
           {
            "bin_start": 118.7815,
            "bin_end": 140.55780000000001,
            "count": 48
           },
           {
            "bin_start": 140.55780000000001,
            "bin_end": 162.3341,
            "count": 68
           },
           {
            "bin_start": 162.3341,
            "bin_end": 184.1104,
            "count": 63
           },
           {
            "bin_start": 184.1104,
            "bin_end": 205.8867,
            "count": 45
           },
           {
            "bin_start": 205.8867,
            "bin_end": 227.663,
            "count": 59
           }
          ]
         }
        },
        {
         "name": "_deepnote_index_column",
         "dtype": "int64"
        }
       ],
       "rows": [
        {
         "predicted": 10.164299011230469,
         "real": 10.2,
         "_deepnote_index_column": 20
        },
        {
         "predicted": 10.209465980529785,
         "real": 10.1,
         "_deepnote_index_column": 21
        },
        {
         "predicted": 10.230347633361816,
         "real": 10.2,
         "_deepnote_index_column": 22
        },
        {
         "predicted": 10.23324203491211,
         "real": 10.1,
         "_deepnote_index_column": 23
        },
        {
         "predicted": 10.257478713989258,
         "real": 10.1,
         "_deepnote_index_column": 24
        },
        {
         "predicted": 10.309298515319824,
         "real": 10,
         "_deepnote_index_column": 25
        },
        {
         "predicted": 10.366934776306152,
         "real": 9.9,
         "_deepnote_index_column": 26
        },
        {
         "predicted": 10.440315246582031,
         "real": 10,
         "_deepnote_index_column": 27
        },
        {
         "predicted": 10.485954284667969,
         "real": 10.1,
         "_deepnote_index_column": 28
        },
        {
         "predicted": 10.545181274414062,
         "real": 10.1,
         "_deepnote_index_column": 29
        }
       ]
      },
      "text/plain": "       predicted     real\n20     10.164299   10.200\n21     10.209466   10.100\n22     10.230348   10.200\n23     10.233242   10.100\n24     10.257479   10.100\n...          ...      ...\n1185  231.369919  226.421\n1186  231.446075  226.230\n1187  231.855331  225.672\n1188  232.428711  226.665\n1189  232.631638  227.663\n\n[1170 rows x 2 columns]",
      "text/html": "<div>\n<style scoped>\n    .dataframe tbody tr th:only-of-type {\n        vertical-align: middle;\n    }\n\n    .dataframe tbody tr th {\n        vertical-align: top;\n    }\n\n    .dataframe thead th {\n        text-align: right;\n    }\n</style>\n<table border=\"1\" class=\"dataframe\">\n  <thead>\n    <tr style=\"text-align: right;\">\n      <th></th>\n      <th>predicted</th>\n      <th>real</th>\n    </tr>\n  </thead>\n  <tbody>\n    <tr>\n      <th>20</th>\n      <td>10.164299</td>\n      <td>10.200</td>\n    </tr>\n    <tr>\n      <th>21</th>\n      <td>10.209466</td>\n      <td>10.100</td>\n    </tr>\n    <tr>\n      <th>22</th>\n      <td>10.230348</td>\n      <td>10.200</td>\n    </tr>\n    <tr>\n      <th>23</th>\n      <td>10.233242</td>\n      <td>10.100</td>\n    </tr>\n    <tr>\n      <th>24</th>\n      <td>10.257479</td>\n      <td>10.100</td>\n    </tr>\n    <tr>\n      <th>...</th>\n      <td>...</td>\n      <td>...</td>\n    </tr>\n    <tr>\n      <th>1185</th>\n      <td>231.369919</td>\n      <td>226.421</td>\n    </tr>\n    <tr>\n      <th>1186</th>\n      <td>231.446075</td>\n      <td>226.230</td>\n    </tr>\n    <tr>\n      <th>1187</th>\n      <td>231.855331</td>\n      <td>225.672</td>\n    </tr>\n    <tr>\n      <th>1188</th>\n      <td>232.428711</td>\n      <td>226.665</td>\n    </tr>\n    <tr>\n      <th>1189</th>\n      <td>232.631638</td>\n      <td>227.663</td>\n    </tr>\n  </tbody>\n</table>\n<p>1170 rows × 2 columns</p>\n</div>"
     },
     "metadata": {}
    }
   ],
   "execution_count": null
  },
  {
   "cell_type": "code",
   "source": "df",
   "metadata": {
    "cell_id": "29cec237ec904c818234ecbbb6342a27",
    "tags": [],
    "deepnote_to_be_reexecuted": false,
    "source_hash": "f804c160",
    "execution_start": 1659751428974,
    "execution_millis": 4,
    "deepnote_table_state": {
     "pageSize": 10,
     "pageIndex": 2,
     "filters": [],
     "sortBy": []
    },
    "deepnote_table_loading": false,
    "deepnote_app_coordinates": {
     "x": 0,
     "y": 103,
     "w": 12,
     "h": 5
    },
    "deepnote_cell_type": "code",
    "deepnote_cell_height": 595
   },
   "outputs": [
    {
     "output_type": "execute_result",
     "execution_count": 17,
     "data": {
      "application/vnd.deepnote.dataframe.v3+json": {
       "column_count": 2,
       "row_count": 1170,
       "columns": [
        {
         "name": "predicted",
         "dtype": "float32",
         "stats": {
          "unique_count": 1169,
          "nan_count": 0,
          "min": "10.164299011230469",
          "max": "232.6316375732422",
          "histogram": [
           {
            "bin_start": 10.164299011230469,
            "bin_end": 32.411033630371094,
            "count": 611
           },
           {
            "bin_start": 32.411033630371094,
            "bin_end": 54.65776824951172,
            "count": 112
           },
           {
            "bin_start": 54.65776824951172,
            "bin_end": 76.90450286865234,
            "count": 52
           },
           {
            "bin_start": 76.90450286865234,
            "bin_end": 99.15123748779297,
            "count": 40
           },
           {
            "bin_start": 99.15123748779297,
            "bin_end": 121.39796447753906,
            "count": 68
           },
           {
            "bin_start": 121.39796447753906,
            "bin_end": 143.6446990966797,
            "count": 50
           },
           {
            "bin_start": 143.6446990966797,
            "bin_end": 165.8914337158203,
            "count": 73
           },
           {
            "bin_start": 165.8914337158203,
            "bin_end": 188.13816833496094,
            "count": 60
           },
           {
            "bin_start": 188.13816833496094,
            "bin_end": 210.38490295410156,
            "count": 43
           },
           {
            "bin_start": 210.38490295410156,
            "bin_end": 232.6316375732422,
            "count": 61
           }
          ]
         }
        },
        {
         "name": "real",
         "dtype": "float64",
         "stats": {
          "unique_count": 683,
          "nan_count": 0,
          "min": "9.9",
          "max": "227.663",
          "histogram": [
           {
            "bin_start": 9.9,
            "bin_end": 31.676299999999998,
            "count": 613
           },
           {
            "bin_start": 31.676299999999998,
            "bin_end": 53.4526,
            "count": 116
           },
           {
            "bin_start": 53.4526,
            "bin_end": 75.22890000000001,
            "count": 53
           },
           {
            "bin_start": 75.22890000000001,
            "bin_end": 97.0052,
            "count": 32
           },
           {
            "bin_start": 97.0052,
            "bin_end": 118.7815,
            "count": 73
           },
           {
            "bin_start": 118.7815,
            "bin_end": 140.55780000000001,
            "count": 48
           },
           {
            "bin_start": 140.55780000000001,
            "bin_end": 162.3341,
            "count": 68
           },
           {
            "bin_start": 162.3341,
            "bin_end": 184.1104,
            "count": 63
           },
           {
            "bin_start": 184.1104,
            "bin_end": 205.8867,
            "count": 45
           },
           {
            "bin_start": 205.8867,
            "bin_end": 227.663,
            "count": 59
           }
          ]
         }
        },
        {
         "name": "_deepnote_index_column",
         "dtype": "int64"
        }
       ],
       "rows": [
        {
         "predicted": 11.861725807189941,
         "real": 10.7,
         "_deepnote_index_column": 40
        },
        {
         "predicted": 11.99022388458252,
         "real": 10.8,
         "_deepnote_index_column": 41
        },
        {
         "predicted": 12.25586986541748,
         "real": 10.8,
         "_deepnote_index_column": 42
        },
        {
         "predicted": 12.516404151916504,
         "real": 10.9,
         "_deepnote_index_column": 43
        },
        {
         "predicted": 12.815726280212402,
         "real": 11.1,
         "_deepnote_index_column": 44
        },
        {
         "predicted": 12.968290328979492,
         "real": 11.3,
         "_deepnote_index_column": 45
        },
        {
         "predicted": 13.075947761535645,
         "real": 11.5,
         "_deepnote_index_column": 46
        },
        {
         "predicted": 13.17654037475586,
         "real": 11.6,
         "_deepnote_index_column": 47
        },
        {
         "predicted": 13.338262557983398,
         "real": 11.7,
         "_deepnote_index_column": 48
        },
        {
         "predicted": 13.504990577697754,
         "real": 12,
         "_deepnote_index_column": 49
        }
       ]
      },
      "text/plain": "       predicted     real\n20     10.164299   10.200\n21     10.209466   10.100\n22     10.230348   10.200\n23     10.233242   10.100\n24     10.257479   10.100\n...          ...      ...\n1185  231.369919  226.421\n1186  231.446075  226.230\n1187  231.855331  225.672\n1188  232.428711  226.665\n1189  232.631638  227.663\n\n[1170 rows x 2 columns]",
      "text/html": "<div>\n<style scoped>\n    .dataframe tbody tr th:only-of-type {\n        vertical-align: middle;\n    }\n\n    .dataframe tbody tr th {\n        vertical-align: top;\n    }\n\n    .dataframe thead th {\n        text-align: right;\n    }\n</style>\n<table border=\"1\" class=\"dataframe\">\n  <thead>\n    <tr style=\"text-align: right;\">\n      <th></th>\n      <th>predicted</th>\n      <th>real</th>\n    </tr>\n  </thead>\n  <tbody>\n    <tr>\n      <th>20</th>\n      <td>10.164299</td>\n      <td>10.200</td>\n    </tr>\n    <tr>\n      <th>21</th>\n      <td>10.209466</td>\n      <td>10.100</td>\n    </tr>\n    <tr>\n      <th>22</th>\n      <td>10.230348</td>\n      <td>10.200</td>\n    </tr>\n    <tr>\n      <th>23</th>\n      <td>10.233242</td>\n      <td>10.100</td>\n    </tr>\n    <tr>\n      <th>24</th>\n      <td>10.257479</td>\n      <td>10.100</td>\n    </tr>\n    <tr>\n      <th>...</th>\n      <td>...</td>\n      <td>...</td>\n    </tr>\n    <tr>\n      <th>1185</th>\n      <td>231.369919</td>\n      <td>226.421</td>\n    </tr>\n    <tr>\n      <th>1186</th>\n      <td>231.446075</td>\n      <td>226.230</td>\n    </tr>\n    <tr>\n      <th>1187</th>\n      <td>231.855331</td>\n      <td>225.672</td>\n    </tr>\n    <tr>\n      <th>1188</th>\n      <td>232.428711</td>\n      <td>226.665</td>\n    </tr>\n    <tr>\n      <th>1189</th>\n      <td>232.631638</td>\n      <td>227.663</td>\n    </tr>\n  </tbody>\n</table>\n<p>1170 rows × 2 columns</p>\n</div>"
     },
     "metadata": {}
    }
   ],
   "execution_count": null
  },
  {
   "cell_type": "code",
   "source": "CPI_yearly = pd.read_csv(\"CPI_yearly.csv\")\ngdp_yearly = pd.read_csv(\"gdp_yearly.csv\")\nPop_yearly = pd.read_csv(\"Pop_yearly.csv\")\n",
   "metadata": {
    "cell_id": "712be4f913d5424f86cc5705e54a56de",
    "tags": [],
    "deepnote_to_be_reexecuted": false,
    "source_hash": "76da6960",
    "execution_start": 1659751428979,
    "execution_millis": 9,
    "deepnote_app_coordinates": {
     "x": 0,
     "y": 79,
     "w": 12,
     "h": 5
    },
    "deepnote_cell_type": "code",
    "deepnote_cell_height": 130
   },
   "outputs": [],
   "execution_count": null
  },
  {
   "cell_type": "code",
   "source": "Pop_yearly[\"Population\"] = Pop_yearly[\"Population\"].astype(int)",
   "metadata": {
    "cell_id": "1362936aced1407cb001c5270c02bb88",
    "tags": [],
    "deepnote_to_be_reexecuted": false,
    "source_hash": "39cdda39",
    "execution_start": 1659751428993,
    "execution_millis": 1,
    "deepnote_app_coordinates": {
     "x": 0,
     "y": 145,
     "w": 12,
     "h": 5
    },
    "deepnote_cell_type": "code",
    "deepnote_cell_height": 76
   },
   "outputs": [],
   "execution_count": null
  },
  {
   "cell_type": "code",
   "source": "\ngdp_yearly[\"RealGDP\"] = gdp_yearly[\"RealGDP\"].str.replace(',', '')\ngdp_yearly[\"RealGDP\"] = gdp_yearly[\"RealGDP\"].str.replace('$', '')",
   "metadata": {
    "cell_id": "ee04dd3348b64d0ab0cf63b00da712d4",
    "tags": [],
    "deepnote_to_be_reexecuted": false,
    "source_hash": "e65cec0c",
    "execution_start": 1659751429022,
    "execution_millis": 7,
    "deepnote_app_coordinates": {
     "x": 0,
     "y": 109,
     "w": 12,
     "h": 5
    },
    "deepnote_cell_type": "code",
    "deepnote_cell_height": 167.375
   },
   "outputs": [
    {
     "name": "stderr",
     "text": "/tmp/ipykernel_25423/209906595.py:2: FutureWarning: The default value of regex will change from True to False in a future version. In addition, single character regular expressions will*not* be treated as literal strings when regex=True.\n  gdp_yearly[\"RealGDP\"] = gdp_yearly[\"RealGDP\"].str.replace('$', '')\n",
     "output_type": "stream"
    }
   ],
   "execution_count": null
  },
  {
   "cell_type": "code",
   "source": "gdp_yearly[\"NominalGDP\"] = gdp_yearly[\"NominalGDP\"].str.replace(',', '')\ngdp_yearly[\"NominalGDP\"] = gdp_yearly[\"NominalGDP\"].str.replace('$', '')",
   "metadata": {
    "cell_id": "af22d340ff114789bf59bef8aaf867e3",
    "tags": [],
    "deepnote_to_be_reexecuted": false,
    "source_hash": "433e07a0",
    "execution_start": 1659751429023,
    "execution_millis": 1,
    "deepnote_app_coordinates": {
     "x": 0,
     "y": 121,
     "w": 12,
     "h": 5
    },
    "deepnote_cell_type": "code",
    "deepnote_cell_height": 149.375
   },
   "outputs": [
    {
     "name": "stderr",
     "text": "/tmp/ipykernel_25423/1819036104.py:2: FutureWarning: The default value of regex will change from True to False in a future version. In addition, single character regular expressions will*not* be treated as literal strings when regex=True.\n  gdp_yearly[\"NominalGDP\"] = gdp_yearly[\"NominalGDP\"].str.replace('$', '')\n",
     "output_type": "stream"
    }
   ],
   "execution_count": null
  },
  {
   "cell_type": "code",
   "source": "gdp_yearly[\"NominalGDP\"] = gdp_yearly[\"NominalGDP\"].astype(float)\n",
   "metadata": {
    "cell_id": "86d77326f3ac448e8ea2b7689dff7a59",
    "tags": [],
    "deepnote_to_be_reexecuted": false,
    "source_hash": "6cd671be",
    "execution_start": 1659751429025,
    "execution_millis": 4,
    "deepnote_app_coordinates": {
     "x": 0,
     "y": 127,
     "w": 12,
     "h": 5
    },
    "deepnote_cell_type": "code",
    "deepnote_cell_height": 94
   },
   "outputs": [],
   "execution_count": null
  },
  {
   "cell_type": "code",
   "source": "gdp_yearly[\"RealGDP\"] = gdp_yearly[\"RealGDP\"].astype(float)",
   "metadata": {
    "cell_id": "b69ea6d8247a4985b3010956800eb402",
    "tags": [],
    "deepnote_to_be_reexecuted": false,
    "source_hash": "52425f49",
    "execution_start": 1659751429032,
    "execution_millis": 1053114,
    "deepnote_table_state": {
     "pageSize": 10,
     "pageIndex": 8,
     "filters": [],
     "sortBy": []
    },
    "deepnote_table_loading": false,
    "deepnote_app_coordinates": {
     "x": 0,
     "y": 115,
     "w": 12,
     "h": 5
    },
    "deepnote_cell_type": "code",
    "deepnote_cell_height": 76
   },
   "outputs": [],
   "execution_count": null
  },
  {
   "cell_type": "code",
   "source": "CPI_df = pd.DataFrame(data)\nCPI_df = pd.DataFrame(CPI_yearly, columns=[\"CPI\"])\nCPI_df[\"NominalGDP\"] = gdp_yearly[\"NominalGDP\"]\nCPI_df[\"RealGDP\"] = gdp_yearly[\"RealGDP\"]\nCPI_df[\"Population\"] = pd.DataFrame(Pop_yearly, columns = [\"Population\"])\n",
   "metadata": {
    "cell_id": "470b6be37162498fac0bcc77b33d6a4f",
    "tags": [],
    "deepnote_to_be_reexecuted": false,
    "source_hash": "e24ec49c",
    "execution_start": 1659751429033,
    "execution_millis": 2,
    "deepnote_app_coordinates": {
     "x": 0,
     "y": 139,
     "w": 12,
     "h": 5
    },
    "deepnote_cell_type": "code",
    "deepnote_cell_height": 166
   },
   "outputs": [],
   "execution_count": null
  },
  {
   "cell_type": "code",
   "source": "CPI_df",
   "metadata": {
    "cell_id": "7eed5db73dc3452f98a24e3287b4abd9",
    "tags": [],
    "deepnote_to_be_reexecuted": false,
    "source_hash": "957ac2e0",
    "execution_start": 1659751429064,
    "execution_millis": 3,
    "deepnote_app_coordinates": {
     "x": 0,
     "y": 133,
     "w": 12,
     "h": 5
    },
    "deepnote_cell_type": "code",
    "deepnote_cell_height": 595
   },
   "outputs": [
    {
     "output_type": "execute_result",
     "execution_count": 25,
     "data": {
      "application/vnd.deepnote.dataframe.v3+json": {
       "column_count": 4,
       "row_count": 92,
       "columns": [
        {
         "name": "CPI",
         "dtype": "float64",
         "stats": {
          "unique_count": 90,
          "nan_count": 0,
          "min": "12.9",
          "max": "258.8",
          "histogram": [
           {
            "bin_start": 12.9,
            "bin_end": 37.49,
            "count": 41
           },
           {
            "bin_start": 37.49,
            "bin_end": 62.08,
            "count": 8
           },
           {
            "bin_start": 62.08,
            "bin_end": 86.67,
            "count": 3
           },
           {
            "bin_start": 86.67,
            "bin_end": 111.26,
            "count": 6
           },
           {
            "bin_start": 111.26,
            "bin_end": 135.85,
            "count": 4
           },
           {
            "bin_start": 135.85,
            "bin_end": 160.44,
            "count": 6
           },
           {
            "bin_start": 160.44,
            "bin_end": 185.03,
            "count": 7
           },
           {
            "bin_start": 185.03,
            "bin_end": 209.62,
            "count": 4
           },
           {
            "bin_start": 209.62,
            "bin_end": 234.21,
            "count": 6
           },
           {
            "bin_start": 234.21,
            "bin_end": 258.8,
            "count": 7
           }
          ]
         }
        },
        {
         "name": "NominalGDP",
         "dtype": "float64",
         "stats": {
          "unique_count": 90,
          "nan_count": 0,
          "min": "0.057",
          "max": "21433.0",
          "histogram": [
           {
            "bin_start": 0.057,
            "bin_end": 2143.3513,
            "count": 90
           },
           {
            "bin_start": 2143.3513,
            "bin_end": 4286.6456,
            "count": 0
           },
           {
            "bin_start": 4286.6456,
            "bin_end": 6429.9399,
            "count": 0
           },
           {
            "bin_start": 6429.9399,
            "bin_end": 8573.2342,
            "count": 0
           },
           {
            "bin_start": 8573.2342,
            "bin_end": 10716.5285,
            "count": 0
           },
           {
            "bin_start": 10716.5285,
            "bin_end": 12859.822800000002,
            "count": 0
           },
           {
            "bin_start": 12859.822800000002,
            "bin_end": 15003.117100000001,
            "count": 0
           },
           {
            "bin_start": 15003.117100000001,
            "bin_end": 17146.4114,
            "count": 0
           },
           {
            "bin_start": 17146.4114,
            "bin_end": 19289.705700000002,
            "count": 0
           },
           {
            "bin_start": 19289.705700000002,
            "bin_end": 21433,
            "count": 2
           }
          ]
         }
        },
        {
         "name": "RealGDP",
         "dtype": "float64",
         "stats": {
          "unique_count": 91,
          "nan_count": 0,
          "min": "0.817",
          "max": "18384.0",
          "histogram": [
           {
            "bin_start": 0.817,
            "bin_end": 1839.1353000000001,
            "count": 90
           },
           {
            "bin_start": 1839.1353000000001,
            "bin_end": 3677.4536000000003,
            "count": 0
           },
           {
            "bin_start": 3677.4536000000003,
            "bin_end": 5515.771900000001,
            "count": 0
           },
           {
            "bin_start": 5515.771900000001,
            "bin_end": 7354.090200000001,
            "count": 0
           },
           {
            "bin_start": 7354.090200000001,
            "bin_end": 9192.4085,
            "count": 0
           },
           {
            "bin_start": 9192.4085,
            "bin_end": 11030.7268,
            "count": 0
           },
           {
            "bin_start": 11030.7268,
            "bin_end": 12869.0451,
            "count": 0
           },
           {
            "bin_start": 12869.0451,
            "bin_end": 14707.3634,
            "count": 0
           },
           {
            "bin_start": 14707.3634,
            "bin_end": 16545.6817,
            "count": 0
           },
           {
            "bin_start": 16545.6817,
            "bin_end": 18384,
            "count": 2
           }
          ]
         }
        },
        {
         "name": "Population",
         "dtype": "int64",
         "stats": {
          "unique_count": 92,
          "nan_count": 0,
          "min": "121767000",
          "max": "335942003",
          "histogram": [
           {
            "bin_start": 121767000,
            "bin_end": 143184500.3,
            "count": 18
           },
           {
            "bin_start": 143184500.3,
            "bin_end": 164602000.6,
            "count": 8
           },
           {
            "bin_start": 164602000.6,
            "bin_end": 186019500.9,
            "count": 7
           },
           {
            "bin_start": 186019500.9,
            "bin_end": 207437001.2,
            "count": 9
           },
           {
            "bin_start": 207437001.2,
            "bin_end": 228854501.5,
            "count": 10
           },
           {
            "bin_start": 228854501.5,
            "bin_end": 250272001.8,
            "count": 10
           },
           {
            "bin_start": 250272001.8,
            "bin_end": 271689502.1,
            "count": 8
           },
           {
            "bin_start": 271689502.1,
            "bin_end": 293107002.4,
            "count": 5
           },
           {
            "bin_start": 293107002.4,
            "bin_end": 314524502.70000005,
            "count": 8
           },
           {
            "bin_start": 314524502.70000005,
            "bin_end": 335942003,
            "count": 9
           }
          ]
         }
        },
        {
         "name": "_deepnote_index_column",
         "dtype": "int64"
        }
       ],
       "rows": [
        {
         "CPI": 214.5,
         "NominalGDP": 14.449,
         "RealGDP": 15.209,
         "Population": 308512035,
         "_deepnote_index_column": 80
        },
        {
         "CPI": 218.1,
         "NominalGDP": 14.992,
         "RealGDP": 15.599,
         "Population": 311182845,
         "_deepnote_index_column": 81
        },
        {
         "CPI": 224.9,
         "NominalGDP": 15.543,
         "RealGDP": 15.841,
         "Population": 313876608,
         "_deepnote_index_column": 82
        },
        {
         "CPI": 229.6,
         "NominalGDP": 16.197,
         "RealGDP": 16.197,
         "Population": 316651321,
         "_deepnote_index_column": 83
        },
        {
         "CPI": 233,
         "NominalGDP": 16.785,
         "RealGDP": 16.495,
         "Population": 319375166,
         "_deepnote_index_column": 84
        },
        {
         "CPI": 236.7,
         "NominalGDP": 17.527,
         "RealGDP": 16.912,
         "Population": 322033964,
         "_deepnote_index_column": 85
        },
        {
         "CPI": 237,
         "NominalGDP": 18.238,
         "RealGDP": 17.432,
         "Population": 324607776,
         "_deepnote_index_column": 86
        },
        {
         "CPI": 240,
         "NominalGDP": 18.745,
         "RealGDP": 17.731,
         "Population": 327210198,
         "_deepnote_index_column": 87
        },
        {
         "CPI": 245.1,
         "NominalGDP": 19.543,
         "RealGDP": 18.144,
         "Population": 329791231,
         "_deepnote_index_column": 88
        },
        {
         "CPI": 251.1,
         "NominalGDP": 20.612,
         "RealGDP": 18.688,
         "Population": 332140037,
         "_deepnote_index_column": 89
        }
       ]
      },
      "text/plain": "      CPI  NominalGDP    RealGDP  Population\n0    17.2       0.105      1.109   121767000\n1    16.7       0.092      1.015   123076741\n2    15.2       0.077      0.950   124039648\n3    13.6       0.060      0.828   124840471\n4    12.9       0.057      0.817   125578763\n..    ...         ...        ...         ...\n87  240.0      18.745     17.731   327210198\n88  245.1      19.543     18.144   329791231\n89  251.1      20.612     18.688   332140037\n90  255.7   21433.000  18384.000   334319671\n91  258.8   20893.000  18384.000   335942003\n\n[92 rows x 4 columns]",
      "text/html": "<div>\n<style scoped>\n    .dataframe tbody tr th:only-of-type {\n        vertical-align: middle;\n    }\n\n    .dataframe tbody tr th {\n        vertical-align: top;\n    }\n\n    .dataframe thead th {\n        text-align: right;\n    }\n</style>\n<table border=\"1\" class=\"dataframe\">\n  <thead>\n    <tr style=\"text-align: right;\">\n      <th></th>\n      <th>CPI</th>\n      <th>NominalGDP</th>\n      <th>RealGDP</th>\n      <th>Population</th>\n    </tr>\n  </thead>\n  <tbody>\n    <tr>\n      <th>0</th>\n      <td>17.2</td>\n      <td>0.105</td>\n      <td>1.109</td>\n      <td>121767000</td>\n    </tr>\n    <tr>\n      <th>1</th>\n      <td>16.7</td>\n      <td>0.092</td>\n      <td>1.015</td>\n      <td>123076741</td>\n    </tr>\n    <tr>\n      <th>2</th>\n      <td>15.2</td>\n      <td>0.077</td>\n      <td>0.950</td>\n      <td>124039648</td>\n    </tr>\n    <tr>\n      <th>3</th>\n      <td>13.6</td>\n      <td>0.060</td>\n      <td>0.828</td>\n      <td>124840471</td>\n    </tr>\n    <tr>\n      <th>4</th>\n      <td>12.9</td>\n      <td>0.057</td>\n      <td>0.817</td>\n      <td>125578763</td>\n    </tr>\n    <tr>\n      <th>...</th>\n      <td>...</td>\n      <td>...</td>\n      <td>...</td>\n      <td>...</td>\n    </tr>\n    <tr>\n      <th>87</th>\n      <td>240.0</td>\n      <td>18.745</td>\n      <td>17.731</td>\n      <td>327210198</td>\n    </tr>\n    <tr>\n      <th>88</th>\n      <td>245.1</td>\n      <td>19.543</td>\n      <td>18.144</td>\n      <td>329791231</td>\n    </tr>\n    <tr>\n      <th>89</th>\n      <td>251.1</td>\n      <td>20.612</td>\n      <td>18.688</td>\n      <td>332140037</td>\n    </tr>\n    <tr>\n      <th>90</th>\n      <td>255.7</td>\n      <td>21433.000</td>\n      <td>18384.000</td>\n      <td>334319671</td>\n    </tr>\n    <tr>\n      <th>91</th>\n      <td>258.8</td>\n      <td>20893.000</td>\n      <td>18384.000</td>\n      <td>335942003</td>\n    </tr>\n  </tbody>\n</table>\n<p>92 rows × 4 columns</p>\n</div>"
     },
     "metadata": {}
    }
   ],
   "execution_count": null
  },
  {
   "cell_type": "code",
   "source": "X_train, X_test, y_train, y_test = train_test_split(CPI_df[['RealGDP', 'Population']],\n                                                    CPI_df[\"CPI\"],\n                                                    test_size=0.2)",
   "metadata": {
    "cell_id": "0ddbb9f2df474798b4bd53b32f229e91",
    "tags": [],
    "deepnote_to_be_reexecuted": false,
    "source_hash": "63aa4a0d",
    "execution_start": 1659751429069,
    "execution_millis": 4,
    "deepnote_app_coordinates": {
     "x": 0,
     "y": 151,
     "w": 12,
     "h": 5
    },
    "deepnote_cell_type": "code",
    "deepnote_cell_height": 112
   },
   "outputs": [],
   "execution_count": null
  },
  {
   "cell_type": "code",
   "source": "model1 = models.Sequential()\nmodel1.add(Dense(32, input_shape=(2,), activation='relu'))\nmodel1.add(Dense(32,activation='relu'))\nmodel1.add(Dense(64,activation='relu'))\nmodel1.add(Dense(32,activation='relu'))\nmodel1.add(Dense(1,activation='relu'))\nmodel1.summary()\n\n",
   "metadata": {
    "cell_id": "39af968c2e9e454883b8a496f8842e39",
    "tags": [],
    "deepnote_to_be_reexecuted": false,
    "source_hash": "dc0ac32b",
    "execution_start": 1659751429079,
    "execution_millis": 67,
    "deepnote_app_coordinates": {
     "x": 0,
     "y": 157,
     "w": 12,
     "h": 5
    },
    "deepnote_cell_type": "code",
    "deepnote_cell_height": 614.5625
   },
   "outputs": [
    {
     "name": "stdout",
     "text": "Model: \"sequential_2\"\n_________________________________________________________________\n Layer (type)                Output Shape              Param #   \n=================================================================\n dense_3 (Dense)             (None, 32)                96        \n                                                                 \n dense_4 (Dense)             (None, 32)                1056      \n                                                                 \n dense_5 (Dense)             (None, 64)                2112      \n                                                                 \n dense_6 (Dense)             (None, 32)                2080      \n                                                                 \n dense_7 (Dense)             (None, 1)                 33        \n                                                                 \n=================================================================\nTotal params: 5,377\nTrainable params: 5,377\nNon-trainable params: 0\n_________________________________________________________________\n",
     "output_type": "stream"
    }
   ],
   "execution_count": null
  },
  {
   "cell_type": "code",
   "source": "model1.compile(loss='mse', optimizer='sgd')",
   "metadata": {
    "cell_id": "2e79607a1a8343f4b962da22aac92181",
    "tags": [],
    "deepnote_to_be_reexecuted": false,
    "source_hash": "6879ad1c",
    "execution_start": 1659751429195,
    "execution_millis": 1053017,
    "deepnote_app_coordinates": {
     "x": 0,
     "y": 163,
     "w": 12,
     "h": 5
    },
    "deepnote_cell_type": "code",
    "deepnote_cell_height": 76
   },
   "outputs": [],
   "execution_count": null
  },
  {
   "cell_type": "code",
   "source": "y_train = y_train/10**4\ny_test = y_test/10**4\n\nscaler = StandardScaler()\nX_train = scaler.fit_transform(X_train)\nX_test  = scaler.transform(X_test)",
   "metadata": {
    "cell_id": "ef5911184dcd4544a5ae50829a42663c",
    "tags": [],
    "deepnote_to_be_reexecuted": false,
    "source_hash": "156d93ab",
    "execution_start": 1659751429195,
    "execution_millis": 1,
    "deepnote_app_coordinates": {
     "x": 0,
     "y": 181,
     "w": 12,
     "h": 5
    },
    "deepnote_cell_type": "code",
    "deepnote_cell_height": 166
   },
   "outputs": [],
   "execution_count": null
  },
  {
   "cell_type": "code",
   "source": "nepochs = 400\nhistory = model1.fit(X_train, y_train,\n          batch_size=128, epochs=nepochs,\n          verbose=1,\n          validation_data=(X_test, y_test))",
   "metadata": {
    "cell_id": "264a51f8b0784b11b95d349f034d4661",
    "tags": [],
    "deepnote_to_be_reexecuted": false,
    "source_hash": "286d7107",
    "execution_start": 1659751429196,
    "execution_millis": 10002,
    "deepnote_app_coordinates": {
     "x": 0,
     "y": 169,
     "w": 12,
     "h": 5
    },
    "deepnote_cell_type": "code",
    "deepnote_cell_height": 768
   },
   "outputs": [
    {
     "name": "stdout",
     "text": "Epoch 1/400\n1/1 [==============================] - 0s 407ms/step - loss: 0.0077 - val_loss: 1.9657e-04\nEpoch 2/400\n1/1 [==============================] - 0s 20ms/step - loss: 0.0071 - val_loss: 1.8711e-04\nEpoch 3/400\n1/1 [==============================] - 0s 20ms/step - loss: 0.0065 - val_loss: 1.7927e-04\nEpoch 4/400\n1/1 [==============================] - 0s 19ms/step - loss: 0.0060 - val_loss: 1.7296e-04\nEpoch 5/400\n1/1 [==============================] - 0s 20ms/step - loss: 0.0056 - val_loss: 1.6775e-04\nEpoch 6/400\n1/1 [==============================] - 0s 20ms/step - loss: 0.0052 - val_loss: 1.6346e-04\nEpoch 7/400\n1/1 [==============================] - 0s 19ms/step - loss: 0.0049 - val_loss: 1.6005e-04\nEpoch 8/400\n1/1 [==============================] - 0s 20ms/step - loss: 0.0046 - val_loss: 1.5730e-04\nEpoch 9/400\n1/1 [==============================] - 0s 18ms/step - loss: 0.0044 - val_loss: 1.5518e-04\nEpoch 10/400\n1/1 [==============================] - 0s 19ms/step - loss: 0.0041 - val_loss: 1.5365e-04\nEpoch 11/400\n1/1 [==============================] - 0s 18ms/step - loss: 0.0039 - val_loss: 1.5264e-04\nEpoch 12/400\n1/1 [==============================] - 0s 19ms/step - loss: 0.0037 - val_loss: 1.5208e-04\nEpoch 13/400\n1/1 [==============================] - 0s 20ms/step - loss: 0.0035 - val_loss: 1.5191e-04\nEpoch 14/400\n1/1 [==============================] - 0s 19ms/step - loss: 0.0033 - val_loss: 1.5207e-04\nEpoch 15/400\n1/1 [==============================] - 0s 19ms/step - loss: 0.0031 - val_loss: 1.5243e-04\nEpoch 16/400\n1/1 [==============================] - 0s 20ms/step - loss: 0.0030 - val_loss: 1.5256e-04\nEpoch 17/400\n1/1 [==============================] - 0s 20ms/step - loss: 0.0028 - val_loss: 1.5257e-04\nEpoch 18/400\n1/1 [==============================] - 0s 19ms/step - loss: 0.0027 - val_loss: 1.5262e-04\nEpoch 19/400\n1/1 [==============================] - 0s 19ms/step - loss: 0.0025 - val_loss: 1.5265e-04\nEpoch 20/400\n1/1 [==============================] - 0s 22ms/step - loss: 0.0024 - val_loss: 1.5265e-04\nEpoch 21/400\n1/1 [==============================] - 0s 20ms/step - loss: 0.0023 - val_loss: 1.5265e-04\nEpoch 22/400\n1/1 [==============================] - 0s 31ms/step - loss: 0.0022 - val_loss: 1.5265e-04\nEpoch 23/400\n1/1 [==============================] - 0s 21ms/step - loss: 0.0021 - val_loss: 1.5265e-04\nEpoch 24/400\n1/1 [==============================] - 0s 20ms/step - loss: 0.0019 - val_loss: 1.5265e-04\nEpoch 25/400\n1/1 [==============================] - 0s 19ms/step - loss: 0.0019 - val_loss: 1.5265e-04\nEpoch 26/400\n1/1 [==============================] - 0s 25ms/step - loss: 0.0018 - val_loss: 1.5265e-04\nEpoch 27/400\n1/1 [==============================] - 0s 19ms/step - loss: 0.0017 - val_loss: 1.5265e-04\nEpoch 28/400\n1/1 [==============================] - 0s 20ms/step - loss: 0.0016 - val_loss: 1.5265e-04\nEpoch 29/400\n1/1 [==============================] - 0s 21ms/step - loss: 0.0015 - val_loss: 1.5265e-04\nEpoch 30/400\n1/1 [==============================] - 0s 27ms/step - loss: 0.0014 - val_loss: 1.5265e-04\nEpoch 31/400\n1/1 [==============================] - 0s 20ms/step - loss: 0.0014 - val_loss: 1.5265e-04\nEpoch 32/400\n1/1 [==============================] - 0s 25ms/step - loss: 0.0013 - val_loss: 1.5265e-04\nEpoch 33/400\n1/1 [==============================] - 0s 20ms/step - loss: 0.0012 - val_loss: 1.5265e-04\nEpoch 34/400\n1/1 [==============================] - 0s 20ms/step - loss: 0.0012 - val_loss: 1.5265e-04\nEpoch 35/400\n1/1 [==============================] - 0s 18ms/step - loss: 0.0011 - val_loss: 1.5265e-04\nEpoch 36/400\n1/1 [==============================] - 0s 19ms/step - loss: 0.0011 - val_loss: 1.5265e-04\nEpoch 37/400\n1/1 [==============================] - 0s 39ms/step - loss: 0.0010 - val_loss: 1.5265e-04\nEpoch 38/400\n1/1 [==============================] - 0s 27ms/step - loss: 9.8199e-04 - val_loss: 1.5265e-04\nEpoch 39/400\n1/1 [==============================] - 0s 21ms/step - loss: 9.3747e-04 - val_loss: 1.5265e-04\nEpoch 40/400\n1/1 [==============================] - 0s 20ms/step - loss: 8.9530e-04 - val_loss: 1.5265e-04\nEpoch 41/400\n1/1 [==============================] - 0s 19ms/step - loss: 8.5537e-04 - val_loss: 1.5265e-04\nEpoch 42/400\n1/1 [==============================] - 0s 31ms/step - loss: 8.1754e-04 - val_loss: 1.5265e-04\nEpoch 43/400\n1/1 [==============================] - 0s 19ms/step - loss: 7.8171e-04 - val_loss: 1.5265e-04\nEpoch 44/400\n1/1 [==============================] - 0s 19ms/step - loss: 7.4778e-04 - val_loss: 1.5265e-04\nEpoch 45/400\n1/1 [==============================] - 0s 19ms/step - loss: 7.1562e-04 - val_loss: 1.5265e-04\nEpoch 46/400\n1/1 [==============================] - 0s 19ms/step - loss: 6.8517e-04 - val_loss: 1.5265e-04\nEpoch 47/400\n1/1 [==============================] - 0s 21ms/step - loss: 6.5632e-04 - val_loss: 1.5265e-04\nEpoch 48/400\n1/1 [==============================] - 0s 19ms/step - loss: 6.2899e-04 - val_loss: 1.5265e-04\nEpoch 49/400\n1/1 [==============================] - 0s 19ms/step - loss: 6.0309e-04 - val_loss: 1.5265e-04\nEpoch 50/400\n1/1 [==============================] - 0s 24ms/step - loss: 5.7856e-04 - val_loss: 1.5265e-04\nEpoch 51/400\n1/1 [==============================] - 0s 18ms/step - loss: 5.5531e-04 - val_loss: 1.5265e-04\nEpoch 52/400\n1/1 [==============================] - 0s 20ms/step - loss: 5.3328e-04 - val_loss: 1.5265e-04\nEpoch 53/400\n1/1 [==============================] - 0s 19ms/step - loss: 5.1241e-04 - val_loss: 1.5265e-04\nEpoch 54/400\n1/1 [==============================] - 0s 18ms/step - loss: 4.9264e-04 - val_loss: 1.5265e-04\nEpoch 55/400\n1/1 [==============================] - 0s 18ms/step - loss: 4.7390e-04 - val_loss: 1.5265e-04\nEpoch 56/400\n1/1 [==============================] - 0s 19ms/step - loss: 4.5615e-04 - val_loss: 1.5265e-04\nEpoch 57/400\n1/1 [==============================] - 0s 19ms/step - loss: 4.3932e-04 - val_loss: 1.5265e-04\nEpoch 58/400\n1/1 [==============================] - 0s 20ms/step - loss: 4.2337e-04 - val_loss: 1.5265e-04\nEpoch 59/400\n1/1 [==============================] - 0s 20ms/step - loss: 4.0826e-04 - val_loss: 1.5265e-04\nEpoch 60/400\n1/1 [==============================] - 0s 20ms/step - loss: 3.9394e-04 - val_loss: 1.5265e-04\nEpoch 61/400\n1/1 [==============================] - 0s 19ms/step - loss: 3.8037e-04 - val_loss: 1.5265e-04\nEpoch 62/400\n1/1 [==============================] - 0s 22ms/step - loss: 3.6751e-04 - val_loss: 1.5265e-04\nEpoch 63/400\n1/1 [==============================] - 0s 19ms/step - loss: 3.5532e-04 - val_loss: 1.5265e-04\nEpoch 64/400\n1/1 [==============================] - 0s 19ms/step - loss: 3.4377e-04 - val_loss: 1.5265e-04\nEpoch 65/400\n1/1 [==============================] - 0s 25ms/step - loss: 3.3282e-04 - val_loss: 1.5265e-04\nEpoch 66/400\n1/1 [==============================] - 0s 19ms/step - loss: 3.2244e-04 - val_loss: 1.5265e-04\nEpoch 67/400\n1/1 [==============================] - 0s 19ms/step - loss: 3.1261e-04 - val_loss: 1.5265e-04\nEpoch 68/400\n1/1 [==============================] - 0s 20ms/step - loss: 3.0329e-04 - val_loss: 1.5265e-04\nEpoch 69/400\n1/1 [==============================] - 0s 20ms/step - loss: 2.9445e-04 - val_loss: 1.5265e-04\nEpoch 70/400\n1/1 [==============================] - 0s 19ms/step - loss: 2.8608e-04 - val_loss: 1.5265e-04\nEpoch 71/400\n1/1 [==============================] - 0s 19ms/step - loss: 2.7814e-04 - val_loss: 1.5265e-04\nEpoch 72/400\n1/1 [==============================] - 0s 18ms/step - loss: 2.7061e-04 - val_loss: 1.5265e-04\nEpoch 73/400\n1/1 [==============================] - 0s 19ms/step - loss: 2.6348e-04 - val_loss: 1.5265e-04\nEpoch 74/400\n1/1 [==============================] - 0s 19ms/step - loss: 2.5672e-04 - val_loss: 1.5265e-04\nEpoch 75/400\n1/1 [==============================] - 0s 29ms/step - loss: 2.5031e-04 - val_loss: 1.5265e-04\nEpoch 76/400\n1/1 [==============================] - 0s 27ms/step - loss: 2.4424e-04 - val_loss: 1.5265e-04\nEpoch 77/400\n1/1 [==============================] - 0s 24ms/step - loss: 2.3848e-04 - val_loss: 1.5265e-04\nEpoch 78/400\n1/1 [==============================] - 0s 20ms/step - loss: 2.3302e-04 - val_loss: 1.5265e-04\nEpoch 79/400\n1/1 [==============================] - 0s 19ms/step - loss: 2.2785e-04 - val_loss: 1.5265e-04\nEpoch 80/400\n1/1 [==============================] - 0s 19ms/step - loss: 2.2295e-04 - val_loss: 1.5265e-04\nEpoch 81/400\n1/1 [==============================] - 0s 20ms/step - loss: 2.1830e-04 - val_loss: 1.5265e-04\nEpoch 82/400\n1/1 [==============================] - 0s 19ms/step - loss: 2.1389e-04 - val_loss: 1.5265e-04\nEpoch 83/400\n1/1 [==============================] - 0s 26ms/step - loss: 2.0971e-04 - val_loss: 1.5265e-04\nEpoch 84/400\n1/1 [==============================] - 0s 19ms/step - loss: 2.0575e-04 - val_loss: 1.5265e-04\nEpoch 85/400\n1/1 [==============================] - 0s 19ms/step - loss: 2.0200e-04 - val_loss: 1.5265e-04\nEpoch 86/400\n1/1 [==============================] - 0s 20ms/step - loss: 1.9844e-04 - val_loss: 1.5265e-04\nEpoch 87/400\n1/1 [==============================] - 0s 28ms/step - loss: 1.9507e-04 - val_loss: 1.5265e-04\nEpoch 88/400\n1/1 [==============================] - 0s 34ms/step - loss: 1.9187e-04 - val_loss: 1.5265e-04\nEpoch 89/400\n1/1 [==============================] - 0s 35ms/step - loss: 1.8883e-04 - val_loss: 1.5265e-04\nEpoch 90/400\n1/1 [==============================] - 0s 27ms/step - loss: 1.8596e-04 - val_loss: 1.5265e-04\nEpoch 91/400\n1/1 [==============================] - 0s 21ms/step - loss: 1.8323e-04 - val_loss: 1.5265e-04\nEpoch 92/400\n1/1 [==============================] - 0s 21ms/step - loss: 1.8065e-04 - val_loss: 1.5265e-04\nEpoch 93/400\n1/1 [==============================] - 0s 19ms/step - loss: 1.7820e-04 - val_loss: 1.5265e-04\nEpoch 94/400\n1/1 [==============================] - 0s 20ms/step - loss: 1.7588e-04 - val_loss: 1.5265e-04\nEpoch 95/400\n1/1 [==============================] - 0s 20ms/step - loss: 1.7368e-04 - val_loss: 1.5265e-04\nEpoch 96/400\n1/1 [==============================] - 0s 19ms/step - loss: 1.7159e-04 - val_loss: 1.5265e-04\nEpoch 97/400\n1/1 [==============================] - 0s 19ms/step - loss: 1.6961e-04 - val_loss: 1.5265e-04\nEpoch 98/400\n1/1 [==============================] - 0s 19ms/step - loss: 1.6774e-04 - val_loss: 1.5265e-04\nEpoch 99/400\n1/1 [==============================] - 0s 19ms/step - loss: 1.6596e-04 - val_loss: 1.5265e-04\nEpoch 100/400\n1/1 [==============================] - 0s 19ms/step - loss: 1.6427e-04 - val_loss: 1.5265e-04\nEpoch 101/400\n1/1 [==============================] - 0s 19ms/step - loss: 1.6268e-04 - val_loss: 1.5265e-04\nEpoch 102/400\n1/1 [==============================] - 0s 18ms/step - loss: 1.6116e-04 - val_loss: 1.5265e-04\nEpoch 103/400\n1/1 [==============================] - 0s 20ms/step - loss: 1.5972e-04 - val_loss: 1.5265e-04\nEpoch 104/400\n1/1 [==============================] - 0s 19ms/step - loss: 1.5836e-04 - val_loss: 1.5265e-04\nEpoch 105/400\n1/1 [==============================] - 0s 20ms/step - loss: 1.5707e-04 - val_loss: 1.5265e-04\nEpoch 106/400\n1/1 [==============================] - 0s 28ms/step - loss: 1.5585e-04 - val_loss: 1.5265e-04\nEpoch 107/400\n1/1 [==============================] - 0s 34ms/step - loss: 1.5469e-04 - val_loss: 1.5265e-04\nEpoch 108/400\n1/1 [==============================] - 0s 36ms/step - loss: 1.5359e-04 - val_loss: 1.5265e-04\nEpoch 109/400\n1/1 [==============================] - 0s 39ms/step - loss: 1.5254e-04 - val_loss: 1.5265e-04\nEpoch 110/400\n1/1 [==============================] - 0s 23ms/step - loss: 1.5155e-04 - val_loss: 1.5265e-04\nEpoch 111/400\n1/1 [==============================] - 0s 20ms/step - loss: 1.5061e-04 - val_loss: 1.5265e-04\nEpoch 112/400\n1/1 [==============================] - 0s 19ms/step - loss: 1.4973e-04 - val_loss: 1.5265e-04\nEpoch 113/400\n1/1 [==============================] - 0s 19ms/step - loss: 1.4888e-04 - val_loss: 1.5265e-04\nEpoch 114/400\n1/1 [==============================] - 0s 18ms/step - loss: 1.4808e-04 - val_loss: 1.5265e-04\nEpoch 115/400\n1/1 [==============================] - 0s 19ms/step - loss: 1.4733e-04 - val_loss: 1.5265e-04\nEpoch 116/400\n1/1 [==============================] - 0s 20ms/step - loss: 1.4661e-04 - val_loss: 1.5265e-04\nEpoch 117/400\n1/1 [==============================] - 0s 26ms/step - loss: 1.4593e-04 - val_loss: 1.5265e-04\nEpoch 118/400\n1/1 [==============================] - 0s 20ms/step - loss: 1.4528e-04 - val_loss: 1.5265e-04\nEpoch 119/400\n1/1 [==============================] - 0s 23ms/step - loss: 1.4467e-04 - val_loss: 1.5265e-04\nEpoch 120/400\n1/1 [==============================] - 0s 23ms/step - loss: 1.4409e-04 - val_loss: 1.5265e-04\nEpoch 121/400\n1/1 [==============================] - 0s 20ms/step - loss: 1.4354e-04 - val_loss: 1.5265e-04\nEpoch 122/400\n1/1 [==============================] - 0s 20ms/step - loss: 1.4302e-04 - val_loss: 1.5265e-04\nEpoch 123/400\n1/1 [==============================] - 0s 21ms/step - loss: 1.4252e-04 - val_loss: 1.5265e-04\nEpoch 124/400\n1/1 [==============================] - 0s 26ms/step - loss: 1.4205e-04 - val_loss: 1.5265e-04\nEpoch 125/400\n1/1 [==============================] - 0s 24ms/step - loss: 1.4161e-04 - val_loss: 1.5265e-04\nEpoch 126/400\n1/1 [==============================] - 0s 24ms/step - loss: 1.4118e-04 - val_loss: 1.5265e-04\nEpoch 127/400\n1/1 [==============================] - 0s 19ms/step - loss: 1.4078e-04 - val_loss: 1.5265e-04\nEpoch 128/400\n1/1 [==============================] - 0s 18ms/step - loss: 1.4041e-04 - val_loss: 1.5265e-04\nEpoch 129/400\n1/1 [==============================] - 0s 30ms/step - loss: 1.4005e-04 - val_loss: 1.5265e-04\nEpoch 130/400\n1/1 [==============================] - 0s 34ms/step - loss: 1.3971e-04 - val_loss: 1.5265e-04\nEpoch 131/400\n1/1 [==============================] - 0s 26ms/step - loss: 1.3938e-04 - val_loss: 1.5265e-04\nEpoch 132/400\n1/1 [==============================] - 0s 27ms/step - loss: 1.3908e-04 - val_loss: 1.5265e-04\nEpoch 133/400\n1/1 [==============================] - 0s 23ms/step - loss: 1.3879e-04 - val_loss: 1.5265e-04\nEpoch 134/400\n1/1 [==============================] - 0s 21ms/step - loss: 1.3851e-04 - val_loss: 1.5265e-04\nEpoch 135/400\n1/1 [==============================] - 0s 19ms/step - loss: 1.3825e-04 - val_loss: 1.5265e-04\nEpoch 136/400\n1/1 [==============================] - 0s 19ms/step - loss: 1.3800e-04 - val_loss: 1.5265e-04\nEpoch 137/400\n1/1 [==============================] - 0s 19ms/step - loss: 1.3777e-04 - val_loss: 1.5265e-04\nEpoch 138/400\n1/1 [==============================] - 0s 21ms/step - loss: 1.3754e-04 - val_loss: 1.5265e-04\nEpoch 139/400\n1/1 [==============================] - 0s 19ms/step - loss: 1.3733e-04 - val_loss: 1.5265e-04\nEpoch 140/400\n1/1 [==============================] - 0s 19ms/step - loss: 1.3713e-04 - val_loss: 1.5265e-04\nEpoch 141/400\n1/1 [==============================] - 0s 19ms/step - loss: 1.3694e-04 - val_loss: 1.5265e-04\nEpoch 142/400\n1/1 [==============================] - 0s 19ms/step - loss: 1.3676e-04 - val_loss: 1.5265e-04\nEpoch 143/400\n1/1 [==============================] - 0s 21ms/step - loss: 1.3659e-04 - val_loss: 1.5265e-04\nEpoch 144/400\n1/1 [==============================] - 0s 20ms/step - loss: 1.3643e-04 - val_loss: 1.5265e-04\nEpoch 145/400\n1/1 [==============================] - 0s 19ms/step - loss: 1.3628e-04 - val_loss: 1.5265e-04\nEpoch 146/400\n1/1 [==============================] - 0s 20ms/step - loss: 1.3613e-04 - val_loss: 1.5265e-04\nEpoch 147/400\n1/1 [==============================] - 0s 19ms/step - loss: 1.3599e-04 - val_loss: 1.5265e-04\nEpoch 148/400\n1/1 [==============================] - 0s 20ms/step - loss: 1.3586e-04 - val_loss: 1.5265e-04\nEpoch 149/400\n1/1 [==============================] - 0s 20ms/step - loss: 1.3574e-04 - val_loss: 1.5265e-04\nEpoch 150/400\n1/1 [==============================] - 0s 18ms/step - loss: 1.3562e-04 - val_loss: 1.5265e-04\nEpoch 151/400\n1/1 [==============================] - 0s 20ms/step - loss: 1.3551e-04 - val_loss: 1.5265e-04\nEpoch 152/400\n1/1 [==============================] - 0s 20ms/step - loss: 1.3540e-04 - val_loss: 1.5265e-04\nEpoch 153/400\n1/1 [==============================] - 0s 20ms/step - loss: 1.3530e-04 - val_loss: 1.5265e-04\nEpoch 154/400\n1/1 [==============================] - 0s 19ms/step - loss: 1.3521e-04 - val_loss: 1.5265e-04\nEpoch 155/400\n1/1 [==============================] - 0s 19ms/step - loss: 1.3512e-04 - val_loss: 1.5265e-04\nEpoch 156/400\n1/1 [==============================] - 0s 19ms/step - loss: 1.3503e-04 - val_loss: 1.5265e-04\nEpoch 157/400\n1/1 [==============================] - 0s 19ms/step - loss: 1.3495e-04 - val_loss: 1.5265e-04\nEpoch 158/400\n1/1 [==============================] - 0s 23ms/step - loss: 1.3488e-04 - val_loss: 1.5265e-04\nEpoch 159/400\n1/1 [==============================] - 0s 18ms/step - loss: 1.3480e-04 - val_loss: 1.5265e-04\nEpoch 160/400\n1/1 [==============================] - 0s 19ms/step - loss: 1.3473e-04 - val_loss: 1.5265e-04\nEpoch 161/400\n1/1 [==============================] - 0s 25ms/step - loss: 1.3467e-04 - val_loss: 1.5265e-04\nEpoch 162/400\n1/1 [==============================] - 0s 24ms/step - loss: 1.3461e-04 - val_loss: 1.5265e-04\nEpoch 163/400\n1/1 [==============================] - 0s 18ms/step - loss: 1.3455e-04 - val_loss: 1.5265e-04\nEpoch 164/400\n1/1 [==============================] - 0s 18ms/step - loss: 1.3449e-04 - val_loss: 1.5265e-04\nEpoch 165/400\n1/1 [==============================] - 0s 25ms/step - loss: 1.3444e-04 - val_loss: 1.5265e-04\nEpoch 166/400\n1/1 [==============================] - 0s 21ms/step - loss: 1.3439e-04 - val_loss: 1.5265e-04\nEpoch 167/400\n1/1 [==============================] - 0s 21ms/step - loss: 1.3434e-04 - val_loss: 1.5265e-04\nEpoch 168/400\n1/1 [==============================] - 0s 20ms/step - loss: 1.3430e-04 - val_loss: 1.5265e-04\nEpoch 169/400\n1/1 [==============================] - 0s 19ms/step - loss: 1.3425e-04 - val_loss: 1.5265e-04\nEpoch 170/400\n1/1 [==============================] - 0s 19ms/step - loss: 1.3421e-04 - val_loss: 1.5265e-04\nEpoch 171/400\n1/1 [==============================] - 0s 39ms/step - loss: 1.3418e-04 - val_loss: 1.5265e-04\nEpoch 172/400\n1/1 [==============================] - 0s 19ms/step - loss: 1.3414e-04 - val_loss: 1.5265e-04\nEpoch 173/400\n1/1 [==============================] - 0s 20ms/step - loss: 1.3410e-04 - val_loss: 1.5265e-04\nEpoch 174/400\n1/1 [==============================] - 0s 18ms/step - loss: 1.3407e-04 - val_loss: 1.5265e-04\nEpoch 175/400\n1/1 [==============================] - 0s 19ms/step - loss: 1.3404e-04 - val_loss: 1.5265e-04\nEpoch 176/400\n1/1 [==============================] - 0s 18ms/step - loss: 1.3401e-04 - val_loss: 1.5265e-04\nEpoch 177/400\n1/1 [==============================] - 0s 20ms/step - loss: 1.3398e-04 - val_loss: 1.5265e-04\nEpoch 178/400\n1/1 [==============================] - 0s 19ms/step - loss: 1.3396e-04 - val_loss: 1.5265e-04\nEpoch 179/400\n1/1 [==============================] - 0s 19ms/step - loss: 1.3393e-04 - val_loss: 1.5265e-04\nEpoch 180/400\n1/1 [==============================] - 0s 19ms/step - loss: 1.3391e-04 - val_loss: 1.5265e-04\nEpoch 181/400\n1/1 [==============================] - 0s 19ms/step - loss: 1.3389e-04 - val_loss: 1.5265e-04\nEpoch 182/400\n1/1 [==============================] - 0s 18ms/step - loss: 1.3386e-04 - val_loss: 1.5265e-04\nEpoch 183/400\n1/1 [==============================] - 0s 19ms/step - loss: 1.3384e-04 - val_loss: 1.5265e-04\nEpoch 184/400\n1/1 [==============================] - 0s 18ms/step - loss: 1.3382e-04 - val_loss: 1.5265e-04\nEpoch 185/400\n1/1 [==============================] - 0s 20ms/step - loss: 1.3381e-04 - val_loss: 1.5265e-04\nEpoch 186/400\n1/1 [==============================] - 0s 20ms/step - loss: 1.3379e-04 - val_loss: 1.5265e-04\nEpoch 187/400\n1/1 [==============================] - 0s 21ms/step - loss: 1.3377e-04 - val_loss: 1.5265e-04\nEpoch 188/400\n1/1 [==============================] - 0s 19ms/step - loss: 1.3376e-04 - val_loss: 1.5265e-04\nEpoch 189/400\n1/1 [==============================] - 0s 19ms/step - loss: 1.3374e-04 - val_loss: 1.5265e-04\nEpoch 190/400\n1/1 [==============================] - 0s 20ms/step - loss: 1.3373e-04 - val_loss: 1.5265e-04\nEpoch 191/400\n1/1 [==============================] - 0s 21ms/step - loss: 1.3371e-04 - val_loss: 1.5265e-04\nEpoch 192/400\n1/1 [==============================] - 0s 19ms/step - loss: 1.3370e-04 - val_loss: 1.5265e-04\nEpoch 193/400\n1/1 [==============================] - 0s 19ms/step - loss: 1.3369e-04 - val_loss: 1.5265e-04\nEpoch 194/400\n1/1 [==============================] - 0s 19ms/step - loss: 1.3368e-04 - val_loss: 1.5265e-04\nEpoch 195/400\n1/1 [==============================] - 0s 19ms/step - loss: 1.3367e-04 - val_loss: 1.5265e-04\nEpoch 196/400\n1/1 [==============================] - 0s 18ms/step - loss: 1.3366e-04 - val_loss: 1.5265e-04\nEpoch 197/400\n1/1 [==============================] - 0s 18ms/step - loss: 1.3365e-04 - val_loss: 1.5265e-04\nEpoch 198/400\n1/1 [==============================] - 0s 20ms/step - loss: 1.3364e-04 - val_loss: 1.5265e-04\nEpoch 199/400\n1/1 [==============================] - 0s 27ms/step - loss: 1.3363e-04 - val_loss: 1.5265e-04\nEpoch 200/400\n1/1 [==============================] - 0s 19ms/step - loss: 1.3362e-04 - val_loss: 1.5265e-04\nEpoch 201/400\n1/1 [==============================] - 0s 19ms/step - loss: 1.3361e-04 - val_loss: 1.5265e-04\nEpoch 202/400\n1/1 [==============================] - 0s 19ms/step - loss: 1.3361e-04 - val_loss: 1.5265e-04\nEpoch 203/400\n1/1 [==============================] - 0s 19ms/step - loss: 1.3360e-04 - val_loss: 1.5265e-04\nEpoch 204/400\n1/1 [==============================] - 0s 20ms/step - loss: 1.3359e-04 - val_loss: 1.5265e-04\nEpoch 205/400\n1/1 [==============================] - 0s 20ms/step - loss: 1.3359e-04 - val_loss: 1.5265e-04\nEpoch 206/400\n1/1 [==============================] - 0s 20ms/step - loss: 1.3358e-04 - val_loss: 1.5265e-04\nEpoch 207/400\n1/1 [==============================] - 0s 22ms/step - loss: 1.3358e-04 - val_loss: 1.5265e-04\nEpoch 208/400\n1/1 [==============================] - 0s 26ms/step - loss: 1.3357e-04 - val_loss: 1.5265e-04\nEpoch 209/400\n1/1 [==============================] - 0s 23ms/step - loss: 1.3357e-04 - val_loss: 1.5265e-04\nEpoch 210/400\n1/1 [==============================] - 0s 19ms/step - loss: 1.3356e-04 - val_loss: 1.5265e-04\nEpoch 211/400\n1/1 [==============================] - 0s 19ms/step - loss: 1.3356e-04 - val_loss: 1.5265e-04\nEpoch 212/400\n1/1 [==============================] - 0s 25ms/step - loss: 1.3355e-04 - val_loss: 1.5265e-04\nEpoch 213/400\n1/1 [==============================] - 0s 37ms/step - loss: 1.3355e-04 - val_loss: 1.5265e-04\nEpoch 214/400\n1/1 [==============================] - 0s 20ms/step - loss: 1.3354e-04 - val_loss: 1.5265e-04\nEpoch 215/400\n1/1 [==============================] - 0s 20ms/step - loss: 1.3354e-04 - val_loss: 1.5265e-04\nEpoch 216/400\n1/1 [==============================] - 0s 19ms/step - loss: 1.3354e-04 - val_loss: 1.5265e-04\nEpoch 217/400\n1/1 [==============================] - 0s 21ms/step - loss: 1.3353e-04 - val_loss: 1.5265e-04\nEpoch 218/400\n1/1 [==============================] - 0s 28ms/step - loss: 1.3353e-04 - val_loss: 1.5265e-04\nEpoch 219/400\n1/1 [==============================] - 0s 19ms/step - loss: 1.3353e-04 - val_loss: 1.5265e-04\nEpoch 220/400\n1/1 [==============================] - 0s 20ms/step - loss: 1.3352e-04 - val_loss: 1.5265e-04\nEpoch 221/400\n1/1 [==============================] - 0s 19ms/step - loss: 1.3352e-04 - val_loss: 1.5265e-04\nEpoch 222/400\n1/1 [==============================] - 0s 18ms/step - loss: 1.3352e-04 - val_loss: 1.5265e-04\nEpoch 223/400\n1/1 [==============================] - 0s 20ms/step - loss: 1.3352e-04 - val_loss: 1.5265e-04\nEpoch 224/400\n1/1 [==============================] - 0s 20ms/step - loss: 1.3351e-04 - val_loss: 1.5265e-04\nEpoch 225/400\n1/1 [==============================] - 0s 20ms/step - loss: 1.3351e-04 - val_loss: 1.5265e-04\nEpoch 226/400\n1/1 [==============================] - 0s 19ms/step - loss: 1.3351e-04 - val_loss: 1.5265e-04\nEpoch 227/400\n1/1 [==============================] - 0s 19ms/step - loss: 1.3351e-04 - val_loss: 1.5265e-04\nEpoch 228/400\n1/1 [==============================] - 0s 18ms/step - loss: 1.3351e-04 - val_loss: 1.5265e-04\nEpoch 229/400\n1/1 [==============================] - 0s 19ms/step - loss: 1.3350e-04 - val_loss: 1.5265e-04\nEpoch 230/400\n1/1 [==============================] - 0s 19ms/step - loss: 1.3350e-04 - val_loss: 1.5265e-04\nEpoch 231/400\n1/1 [==============================] - 0s 26ms/step - loss: 1.3350e-04 - val_loss: 1.5265e-04\nEpoch 232/400\n1/1 [==============================] - 0s 20ms/step - loss: 1.3350e-04 - val_loss: 1.5265e-04\nEpoch 233/400\n1/1 [==============================] - 0s 19ms/step - loss: 1.3350e-04 - val_loss: 1.5265e-04\nEpoch 234/400\n1/1 [==============================] - 0s 19ms/step - loss: 1.3350e-04 - val_loss: 1.5265e-04\nEpoch 235/400\n1/1 [==============================] - 0s 20ms/step - loss: 1.3350e-04 - val_loss: 1.5265e-04\nEpoch 236/400\n1/1 [==============================] - 0s 20ms/step - loss: 1.3349e-04 - val_loss: 1.5265e-04\nEpoch 237/400\n1/1 [==============================] - 0s 19ms/step - loss: 1.3349e-04 - val_loss: 1.5265e-04\nEpoch 238/400\n1/1 [==============================] - 0s 20ms/step - loss: 1.3349e-04 - val_loss: 1.5265e-04\nEpoch 239/400\n1/1 [==============================] - 0s 20ms/step - loss: 1.3349e-04 - val_loss: 1.5265e-04\nEpoch 240/400\n1/1 [==============================] - 0s 19ms/step - loss: 1.3349e-04 - val_loss: 1.5265e-04\nEpoch 241/400\n1/1 [==============================] - 0s 19ms/step - loss: 1.3349e-04 - val_loss: 1.5265e-04\nEpoch 242/400\n1/1 [==============================] - 0s 19ms/step - loss: 1.3349e-04 - val_loss: 1.5265e-04\nEpoch 243/400\n1/1 [==============================] - 0s 27ms/step - loss: 1.3349e-04 - val_loss: 1.5265e-04\nEpoch 244/400\n1/1 [==============================] - 0s 22ms/step - loss: 1.3349e-04 - val_loss: 1.5265e-04\nEpoch 245/400\n1/1 [==============================] - 0s 28ms/step - loss: 1.3349e-04 - val_loss: 1.5265e-04\nEpoch 246/400\n1/1 [==============================] - 0s 31ms/step - loss: 1.3348e-04 - val_loss: 1.5265e-04\nEpoch 247/400\n1/1 [==============================] - 0s 20ms/step - loss: 1.3348e-04 - val_loss: 1.5265e-04\nEpoch 248/400\n1/1 [==============================] - 0s 20ms/step - loss: 1.3348e-04 - val_loss: 1.5265e-04\nEpoch 249/400\n1/1 [==============================] - 0s 19ms/step - loss: 1.3348e-04 - val_loss: 1.5265e-04\nEpoch 250/400\n1/1 [==============================] - 0s 19ms/step - loss: 1.3348e-04 - val_loss: 1.5265e-04\nEpoch 251/400\n1/1 [==============================] - 0s 30ms/step - loss: 1.3348e-04 - val_loss: 1.5265e-04\nEpoch 252/400\n1/1 [==============================] - 0s 34ms/step - loss: 1.3348e-04 - val_loss: 1.5265e-04\nEpoch 253/400\n1/1 [==============================] - 0s 20ms/step - loss: 1.3348e-04 - val_loss: 1.5265e-04\nEpoch 254/400\n1/1 [==============================] - 0s 18ms/step - loss: 1.3348e-04 - val_loss: 1.5265e-04\nEpoch 255/400\n1/1 [==============================] - 0s 19ms/step - loss: 1.3348e-04 - val_loss: 1.5265e-04\nEpoch 256/400\n1/1 [==============================] - 0s 24ms/step - loss: 1.3348e-04 - val_loss: 1.5265e-04\nEpoch 257/400\n1/1 [==============================] - 0s 19ms/step - loss: 1.3348e-04 - val_loss: 1.5265e-04\nEpoch 258/400\n1/1 [==============================] - 0s 24ms/step - loss: 1.3348e-04 - val_loss: 1.5265e-04\nEpoch 259/400\n1/1 [==============================] - 0s 47ms/step - loss: 1.3348e-04 - val_loss: 1.5265e-04\nEpoch 260/400\n1/1 [==============================] - 0s 28ms/step - loss: 1.3348e-04 - val_loss: 1.5265e-04\nEpoch 261/400\n1/1 [==============================] - 0s 29ms/step - loss: 1.3348e-04 - val_loss: 1.5265e-04\nEpoch 262/400\n1/1 [==============================] - 0s 22ms/step - loss: 1.3348e-04 - val_loss: 1.5265e-04\nEpoch 263/400\n1/1 [==============================] - 0s 23ms/step - loss: 1.3348e-04 - val_loss: 1.5265e-04\nEpoch 264/400\n1/1 [==============================] - 0s 19ms/step - loss: 1.3348e-04 - val_loss: 1.5265e-04\nEpoch 265/400\n1/1 [==============================] - 0s 19ms/step - loss: 1.3348e-04 - val_loss: 1.5265e-04\nEpoch 266/400\n1/1 [==============================] - 0s 19ms/step - loss: 1.3348e-04 - val_loss: 1.5265e-04\nEpoch 267/400\n1/1 [==============================] - 0s 20ms/step - loss: 1.3348e-04 - val_loss: 1.5265e-04\nEpoch 268/400\n1/1 [==============================] - 0s 23ms/step - loss: 1.3348e-04 - val_loss: 1.5265e-04\nEpoch 269/400\n1/1 [==============================] - 0s 20ms/step - loss: 1.3348e-04 - val_loss: 1.5265e-04\nEpoch 270/400\n1/1 [==============================] - 0s 19ms/step - loss: 1.3348e-04 - val_loss: 1.5265e-04\nEpoch 271/400\n1/1 [==============================] - 0s 24ms/step - loss: 1.3348e-04 - val_loss: 1.5265e-04\nEpoch 272/400\n1/1 [==============================] - 0s 26ms/step - loss: 1.3348e-04 - val_loss: 1.5265e-04\nEpoch 273/400\n1/1 [==============================] - 0s 32ms/step - loss: 1.3348e-04 - val_loss: 1.5265e-04\nEpoch 274/400\n1/1 [==============================] - 0s 18ms/step - loss: 1.3347e-04 - val_loss: 1.5265e-04\nEpoch 275/400\n1/1 [==============================] - 0s 19ms/step - loss: 1.3347e-04 - val_loss: 1.5265e-04\nEpoch 276/400\n1/1 [==============================] - 0s 24ms/step - loss: 1.3347e-04 - val_loss: 1.5265e-04\nEpoch 277/400\n1/1 [==============================] - 0s 19ms/step - loss: 1.3347e-04 - val_loss: 1.5265e-04\nEpoch 278/400\n1/1 [==============================] - 0s 20ms/step - loss: 1.3347e-04 - val_loss: 1.5265e-04\nEpoch 279/400\n1/1 [==============================] - 0s 20ms/step - loss: 1.3347e-04 - val_loss: 1.5265e-04\nEpoch 280/400\n1/1 [==============================] - 0s 20ms/step - loss: 1.3347e-04 - val_loss: 1.5265e-04\nEpoch 281/400\n1/1 [==============================] - 0s 19ms/step - loss: 1.3347e-04 - val_loss: 1.5265e-04\nEpoch 282/400\n1/1 [==============================] - 0s 19ms/step - loss: 1.3347e-04 - val_loss: 1.5265e-04\nEpoch 283/400\n1/1 [==============================] - 0s 19ms/step - loss: 1.3347e-04 - val_loss: 1.5265e-04\nEpoch 284/400\n1/1 [==============================] - 0s 20ms/step - loss: 1.3347e-04 - val_loss: 1.5265e-04\nEpoch 285/400\n1/1 [==============================] - 0s 21ms/step - loss: 1.3347e-04 - val_loss: 1.5265e-04\nEpoch 286/400\n1/1 [==============================] - 0s 31ms/step - loss: 1.3347e-04 - val_loss: 1.5265e-04\nEpoch 287/400\n1/1 [==============================] - 0s 22ms/step - loss: 1.3347e-04 - val_loss: 1.5265e-04\nEpoch 288/400\n1/1 [==============================] - 0s 20ms/step - loss: 1.3347e-04 - val_loss: 1.5265e-04\nEpoch 289/400\n1/1 [==============================] - 0s 19ms/step - loss: 1.3347e-04 - val_loss: 1.5265e-04\nEpoch 290/400\n1/1 [==============================] - 0s 22ms/step - loss: 1.3347e-04 - val_loss: 1.5265e-04\nEpoch 291/400\n1/1 [==============================] - 0s 19ms/step - loss: 1.3347e-04 - val_loss: 1.5265e-04\nEpoch 292/400\n1/1 [==============================] - 0s 18ms/step - loss: 1.3347e-04 - val_loss: 1.5265e-04\nEpoch 293/400\n1/1 [==============================] - 0s 19ms/step - loss: 1.3347e-04 - val_loss: 1.5265e-04\nEpoch 294/400\n1/1 [==============================] - 0s 31ms/step - loss: 1.3347e-04 - val_loss: 1.5265e-04\nEpoch 295/400\n1/1 [==============================] - 0s 21ms/step - loss: 1.3347e-04 - val_loss: 1.5265e-04\nEpoch 296/400\n1/1 [==============================] - 0s 20ms/step - loss: 1.3347e-04 - val_loss: 1.5265e-04\nEpoch 297/400\n1/1 [==============================] - 0s 19ms/step - loss: 1.3347e-04 - val_loss: 1.5265e-04\nEpoch 298/400\n1/1 [==============================] - 0s 19ms/step - loss: 1.3347e-04 - val_loss: 1.5265e-04\nEpoch 299/400\n1/1 [==============================] - 0s 26ms/step - loss: 1.3347e-04 - val_loss: 1.5265e-04\nEpoch 300/400\n1/1 [==============================] - 0s 21ms/step - loss: 1.3347e-04 - val_loss: 1.5265e-04\nEpoch 301/400\n1/1 [==============================] - 0s 20ms/step - loss: 1.3347e-04 - val_loss: 1.5265e-04\nEpoch 302/400\n1/1 [==============================] - 0s 20ms/step - loss: 1.3347e-04 - val_loss: 1.5265e-04\nEpoch 303/400\n1/1 [==============================] - 0s 29ms/step - loss: 1.3347e-04 - val_loss: 1.5265e-04\nEpoch 304/400\n1/1 [==============================] - 0s 19ms/step - loss: 1.3347e-04 - val_loss: 1.5265e-04\nEpoch 305/400\n1/1 [==============================] - 0s 20ms/step - loss: 1.3347e-04 - val_loss: 1.5265e-04\nEpoch 306/400\n1/1 [==============================] - 0s 27ms/step - loss: 1.3347e-04 - val_loss: 1.5265e-04\nEpoch 307/400\n1/1 [==============================] - 0s 20ms/step - loss: 1.3347e-04 - val_loss: 1.5265e-04\nEpoch 308/400\n1/1 [==============================] - 0s 40ms/step - loss: 1.3347e-04 - val_loss: 1.5265e-04\nEpoch 309/400\n1/1 [==============================] - 0s 19ms/step - loss: 1.3347e-04 - val_loss: 1.5265e-04\nEpoch 310/400\n1/1 [==============================] - 0s 20ms/step - loss: 1.3347e-04 - val_loss: 1.5265e-04\nEpoch 311/400\n1/1 [==============================] - 0s 23ms/step - loss: 1.3347e-04 - val_loss: 1.5265e-04\nEpoch 312/400\n1/1 [==============================] - 0s 20ms/step - loss: 1.3347e-04 - val_loss: 1.5265e-04\nEpoch 313/400\n1/1 [==============================] - 0s 20ms/step - loss: 1.3347e-04 - val_loss: 1.5265e-04\nEpoch 314/400\n1/1 [==============================] - 0s 19ms/step - loss: 1.3347e-04 - val_loss: 1.5265e-04\nEpoch 315/400\n1/1 [==============================] - 0s 18ms/step - loss: 1.3347e-04 - val_loss: 1.5265e-04\nEpoch 316/400\n1/1 [==============================] - 0s 23ms/step - loss: 1.3347e-04 - val_loss: 1.5265e-04\nEpoch 317/400\n1/1 [==============================] - 0s 21ms/step - loss: 1.3347e-04 - val_loss: 1.5265e-04\nEpoch 318/400\n1/1 [==============================] - 0s 20ms/step - loss: 1.3347e-04 - val_loss: 1.5265e-04\nEpoch 319/400\n1/1 [==============================] - 0s 20ms/step - loss: 1.3347e-04 - val_loss: 1.5265e-04\nEpoch 320/400\n1/1 [==============================] - 0s 20ms/step - loss: 1.3347e-04 - val_loss: 1.5265e-04\nEpoch 321/400\n1/1 [==============================] - 0s 23ms/step - loss: 1.3347e-04 - val_loss: 1.5265e-04\nEpoch 322/400\n1/1 [==============================] - 0s 20ms/step - loss: 1.3347e-04 - val_loss: 1.5265e-04\nEpoch 323/400\n1/1 [==============================] - 0s 19ms/step - loss: 1.3347e-04 - val_loss: 1.5265e-04\nEpoch 324/400\n1/1 [==============================] - 0s 19ms/step - loss: 1.3347e-04 - val_loss: 1.5265e-04\nEpoch 325/400\n1/1 [==============================] - 0s 22ms/step - loss: 1.3347e-04 - val_loss: 1.5265e-04\nEpoch 326/400\n1/1 [==============================] - 0s 20ms/step - loss: 1.3347e-04 - val_loss: 1.5265e-04\nEpoch 327/400\n1/1 [==============================] - 0s 23ms/step - loss: 1.3347e-04 - val_loss: 1.5265e-04\nEpoch 328/400\n1/1 [==============================] - 0s 19ms/step - loss: 1.3347e-04 - val_loss: 1.5265e-04\nEpoch 329/400\n1/1 [==============================] - 0s 21ms/step - loss: 1.3347e-04 - val_loss: 1.5265e-04\nEpoch 330/400\n1/1 [==============================] - 0s 20ms/step - loss: 1.3347e-04 - val_loss: 1.5265e-04\nEpoch 331/400\n1/1 [==============================] - 0s 19ms/step - loss: 1.3347e-04 - val_loss: 1.5265e-04\nEpoch 332/400\n1/1 [==============================] - 0s 19ms/step - loss: 1.3347e-04 - val_loss: 1.5265e-04\nEpoch 333/400\n1/1 [==============================] - 0s 18ms/step - loss: 1.3347e-04 - val_loss: 1.5265e-04\nEpoch 334/400\n1/1 [==============================] - 0s 19ms/step - loss: 1.3347e-04 - val_loss: 1.5265e-04\nEpoch 335/400\n1/1 [==============================] - 0s 23ms/step - loss: 1.3347e-04 - val_loss: 1.5265e-04\nEpoch 336/400\n1/1 [==============================] - 0s 20ms/step - loss: 1.3347e-04 - val_loss: 1.5265e-04\nEpoch 337/400\n1/1 [==============================] - 0s 20ms/step - loss: 1.3347e-04 - val_loss: 1.5265e-04\nEpoch 338/400\n1/1 [==============================] - 0s 21ms/step - loss: 1.3347e-04 - val_loss: 1.5265e-04\nEpoch 339/400\n1/1 [==============================] - 0s 28ms/step - loss: 1.3347e-04 - val_loss: 1.5265e-04\nEpoch 340/400\n1/1 [==============================] - 0s 20ms/step - loss: 1.3347e-04 - val_loss: 1.5265e-04\nEpoch 341/400\n1/1 [==============================] - 0s 21ms/step - loss: 1.3347e-04 - val_loss: 1.5265e-04\nEpoch 342/400\n1/1 [==============================] - 0s 20ms/step - loss: 1.3347e-04 - val_loss: 1.5265e-04\nEpoch 343/400\n1/1 [==============================] - 0s 19ms/step - loss: 1.3347e-04 - val_loss: 1.5265e-04\nEpoch 344/400\n1/1 [==============================] - 0s 29ms/step - loss: 1.3347e-04 - val_loss: 1.5265e-04\nEpoch 345/400\n1/1 [==============================] - 0s 20ms/step - loss: 1.3347e-04 - val_loss: 1.5265e-04\nEpoch 346/400\n1/1 [==============================] - 0s 20ms/step - loss: 1.3347e-04 - val_loss: 1.5265e-04\nEpoch 347/400\n1/1 [==============================] - 0s 21ms/step - loss: 1.3347e-04 - val_loss: 1.5265e-04\nEpoch 348/400\n1/1 [==============================] - 0s 22ms/step - loss: 1.3347e-04 - val_loss: 1.5265e-04\nEpoch 349/400\n1/1 [==============================] - 0s 19ms/step - loss: 1.3347e-04 - val_loss: 1.5265e-04\nEpoch 350/400\n1/1 [==============================] - 0s 19ms/step - loss: 1.3347e-04 - val_loss: 1.5265e-04\nEpoch 351/400\n1/1 [==============================] - 0s 19ms/step - loss: 1.3347e-04 - val_loss: 1.5265e-04\nEpoch 352/400\n1/1 [==============================] - 0s 28ms/step - loss: 1.3347e-04 - val_loss: 1.5265e-04\nEpoch 353/400\n1/1 [==============================] - 0s 19ms/step - loss: 1.3347e-04 - val_loss: 1.5265e-04\nEpoch 354/400\n1/1 [==============================] - 0s 18ms/step - loss: 1.3347e-04 - val_loss: 1.5265e-04\nEpoch 355/400\n1/1 [==============================] - 0s 20ms/step - loss: 1.3347e-04 - val_loss: 1.5265e-04\nEpoch 356/400\n1/1 [==============================] - 0s 19ms/step - loss: 1.3347e-04 - val_loss: 1.5265e-04\nEpoch 357/400\n1/1 [==============================] - 0s 22ms/step - loss: 1.3347e-04 - val_loss: 1.5265e-04\nEpoch 358/400\n1/1 [==============================] - 0s 19ms/step - loss: 1.3347e-04 - val_loss: 1.5265e-04\nEpoch 359/400\n1/1 [==============================] - 0s 19ms/step - loss: 1.3347e-04 - val_loss: 1.5265e-04\nEpoch 360/400\n1/1 [==============================] - 0s 19ms/step - loss: 1.3347e-04 - val_loss: 1.5265e-04\nEpoch 361/400\n1/1 [==============================] - 0s 20ms/step - loss: 1.3347e-04 - val_loss: 1.5265e-04\nEpoch 362/400\n1/1 [==============================] - 0s 22ms/step - loss: 1.3347e-04 - val_loss: 1.5265e-04\nEpoch 363/400\n1/1 [==============================] - 0s 21ms/step - loss: 1.3347e-04 - val_loss: 1.5265e-04\nEpoch 364/400\n1/1 [==============================] - 0s 20ms/step - loss: 1.3347e-04 - val_loss: 1.5265e-04\nEpoch 365/400\n1/1 [==============================] - 0s 20ms/step - loss: 1.3347e-04 - val_loss: 1.5265e-04\nEpoch 366/400\n1/1 [==============================] - 0s 19ms/step - loss: 1.3347e-04 - val_loss: 1.5265e-04\nEpoch 367/400\n1/1 [==============================] - 0s 20ms/step - loss: 1.3347e-04 - val_loss: 1.5265e-04\nEpoch 368/400\n1/1 [==============================] - 0s 20ms/step - loss: 1.3347e-04 - val_loss: 1.5265e-04\nEpoch 369/400\n1/1 [==============================] - 0s 20ms/step - loss: 1.3347e-04 - val_loss: 1.5265e-04\nEpoch 370/400\n1/1 [==============================] - 0s 21ms/step - loss: 1.3347e-04 - val_loss: 1.5265e-04\nEpoch 371/400\n1/1 [==============================] - 0s 19ms/step - loss: 1.3347e-04 - val_loss: 1.5265e-04\nEpoch 372/400\n1/1 [==============================] - 0s 24ms/step - loss: 1.3347e-04 - val_loss: 1.5265e-04\nEpoch 373/400\n1/1 [==============================] - 0s 19ms/step - loss: 1.3347e-04 - val_loss: 1.5265e-04\nEpoch 374/400\n1/1 [==============================] - 0s 20ms/step - loss: 1.3347e-04 - val_loss: 1.5265e-04\nEpoch 375/400\n1/1 [==============================] - 0s 24ms/step - loss: 1.3347e-04 - val_loss: 1.5265e-04\nEpoch 376/400\n1/1 [==============================] - 0s 31ms/step - loss: 1.3347e-04 - val_loss: 1.5265e-04\nEpoch 377/400\n1/1 [==============================] - 0s 20ms/step - loss: 1.3347e-04 - val_loss: 1.5265e-04\nEpoch 378/400\n1/1 [==============================] - 0s 18ms/step - loss: 1.3347e-04 - val_loss: 1.5265e-04\nEpoch 379/400\n1/1 [==============================] - 0s 19ms/step - loss: 1.3347e-04 - val_loss: 1.5265e-04\nEpoch 380/400\n1/1 [==============================] - 0s 20ms/step - loss: 1.3347e-04 - val_loss: 1.5265e-04\nEpoch 381/400\n1/1 [==============================] - 0s 19ms/step - loss: 1.3347e-04 - val_loss: 1.5265e-04\nEpoch 382/400\n1/1 [==============================] - 0s 21ms/step - loss: 1.3347e-04 - val_loss: 1.5265e-04\nEpoch 383/400\n1/1 [==============================] - 0s 20ms/step - loss: 1.3347e-04 - val_loss: 1.5265e-04\nEpoch 384/400\n1/1 [==============================] - 0s 21ms/step - loss: 1.3347e-04 - val_loss: 1.5265e-04\nEpoch 385/400\n1/1 [==============================] - 0s 29ms/step - loss: 1.3347e-04 - val_loss: 1.5265e-04\nEpoch 386/400\n1/1 [==============================] - 0s 21ms/step - loss: 1.3347e-04 - val_loss: 1.5265e-04\nEpoch 387/400\n1/1 [==============================] - 0s 18ms/step - loss: 1.3347e-04 - val_loss: 1.5265e-04\nEpoch 388/400\n1/1 [==============================] - 0s 18ms/step - loss: 1.3347e-04 - val_loss: 1.5265e-04\nEpoch 389/400\n1/1 [==============================] - 0s 20ms/step - loss: 1.3347e-04 - val_loss: 1.5265e-04\nEpoch 390/400\n1/1 [==============================] - 0s 45ms/step - loss: 1.3347e-04 - val_loss: 1.5265e-04\nEpoch 391/400\n1/1 [==============================] - 0s 43ms/step - loss: 1.3347e-04 - val_loss: 1.5265e-04\nEpoch 392/400\n1/1 [==============================] - 0s 25ms/step - loss: 1.3347e-04 - val_loss: 1.5265e-04\nEpoch 393/400\n1/1 [==============================] - 0s 20ms/step - loss: 1.3347e-04 - val_loss: 1.5265e-04\nEpoch 394/400\n1/1 [==============================] - 0s 20ms/step - loss: 1.3347e-04 - val_loss: 1.5265e-04\nEpoch 395/400\n1/1 [==============================] - 0s 19ms/step - loss: 1.3347e-04 - val_loss: 1.5265e-04\nEpoch 396/400\n1/1 [==============================] - 0s 25ms/step - loss: 1.3347e-04 - val_loss: 1.5265e-04\nEpoch 397/400\n1/1 [==============================] - 0s 21ms/step - loss: 1.3347e-04 - val_loss: 1.5265e-04\nEpoch 398/400\n1/1 [==============================] - 0s 20ms/step - loss: 1.3347e-04 - val_loss: 1.5265e-04\nEpoch 399/400\n1/1 [==============================] - 0s 19ms/step - loss: 1.3347e-04 - val_loss: 1.5265e-04\nEpoch 400/400\n1/1 [==============================] - 0s 20ms/step - loss: 1.3347e-04 - val_loss: 1.5265e-04\n",
     "output_type": "stream"
    }
   ],
   "execution_count": null
  },
  {
   "cell_type": "code",
   "source": "plt.clf()\nloss = history.history['loss']\nval_loss = history.history['val_loss']\nprint(min(val_loss))\nplt.figure(figsize=(16,6))\nplt.plot(range(1,nepochs+1), loss, 'b', label='loss',color=\"blue\")\nplt.plot(range(1,nepochs+1), val_loss, 'b', label='validation loss',color=\"red\")\n\nplt.xlabel('Epochs',fontsize=16)\nplt.ylabel('Loss',fontsize=16)\nplt.grid(True)\nplt.legend(loc = 'upper right',fontsize=16)\n\nplt.show()",
   "metadata": {
    "cell_id": "57fb7758a594447ca3a71545b41bf178",
    "tags": [],
    "deepnote_to_be_reexecuted": false,
    "source_hash": "438f3b35",
    "execution_start": 1659751438690,
    "execution_millis": 516,
    "deepnote_app_coordinates": {
     "x": 0,
     "y": 175,
     "w": 12,
     "h": 5
    },
    "deepnote_cell_type": "code",
    "deepnote_cell_height": 836.09375,
    "deepnote_output_heights": [
     null,
     21.1875,
     326.96875,
     341.6875
    ]
   },
   "outputs": [
    {
     "name": "stdout",
     "text": "0.00015191052807494998\n/tmp/ipykernel_25423/3151056627.py:6: UserWarning: color is redundantly defined by the 'color' keyword argument and the fmt string \"b\" (-> color=(0.0, 0.0, 1.0, 1)). The keyword argument will take precedence.\n  plt.plot(range(1,nepochs+1), loss, 'b', label='loss',color=\"blue\")\n/tmp/ipykernel_25423/3151056627.py:7: UserWarning: color is redundantly defined by the 'color' keyword argument and the fmt string \"b\" (-> color=(0.0, 0.0, 1.0, 1)). The keyword argument will take precedence.\n  plt.plot(range(1,nepochs+1), val_loss, 'b', label='validation loss',color=\"red\")\n",
     "output_type": "stream"
    },
    {
     "data": {
      "text/plain": "<Figure size 432x288 with 0 Axes>"
     },
     "metadata": {},
     "output_type": "display_data"
    },
    {
     "data": {
      "text/plain": "<Figure size 1152x432 with 1 Axes>",
      "image/png": "[encoded data removed]"
     },
     "metadata": {
      "needs_background": "light",
      "image/png": {
       "width": 961,
       "height": 379
      }
     },
     "output_type": "display_data"
    }
   ],
   "execution_count": null
  },
  {
   "cell_type": "code",
   "source": "Gold_monthly = pd.read_csv(\"gold_monthly.csv\")\nGold_monthly['Date']=pd.to_datetime(Gold_monthly['Date'])\nGold_monthly = Gold_monthly.set_index('Date').resample('M').last().fillna(method='ffill').reset_index()\nCPI_monthly = pd.read_csv(\"CPI_monthly.csv\")\nCPI_monthly[\"Goldprice\"] = pd.DataFrame(Gold_monthly, columns = [\"Goldprice\"])\n",
   "metadata": {
    "cell_id": "b9f02f4731264165bc537f9f1b788626",
    "tags": [],
    "deepnote_to_be_reexecuted": false,
    "source_hash": "2422aff1",
    "execution_start": 1659751438937,
    "execution_millis": 1,
    "deepnote_app_coordinates": {
     "x": 0,
     "y": 187,
     "w": 12,
     "h": 5
    },
    "deepnote_cell_type": "code",
    "deepnote_cell_height": 171
   },
   "outputs": [],
   "execution_count": null
  },
  {
   "cell_type": "code",
   "source": "X_train, X_test, y_train, y_test = train_test_split(CPI_monthly[\"Goldprice\"],\n                                                    CPI_monthly[\"CPI\"],\n                                                    test_size=0.2)",
   "metadata": {
    "cell_id": "d605d8e5890b414296cecc3f7a8e6a50",
    "tags": [],
    "deepnote_to_be_reexecuted": false,
    "source_hash": "d1a7616",
    "execution_start": 1659751438938,
    "execution_millis": 43,
    "deepnote_app_coordinates": {
     "x": 0,
     "y": 193,
     "w": 12,
     "h": 5
    },
    "deepnote_cell_type": "code",
    "deepnote_cell_height": 112
   },
   "outputs": [],
   "execution_count": null
  },
  {
   "cell_type": "code",
   "source": "y_train = y_train/10**4\ny_test = y_test/10**4\n\nX_train = X_train.values.reshape(-1,1)\nX_test = X_test.values.reshape(-1,1)\nscaler = StandardScaler()\nX_train = scaler.fit_transform(X_train)\nX_test  = scaler.transform(X_test)",
   "metadata": {
    "cell_id": "1e901d6708844196b81caf0b7a2c4407",
    "tags": [],
    "deepnote_to_be_reexecuted": false,
    "source_hash": "5e8ff51b",
    "execution_start": 1659751438982,
    "execution_millis": 0,
    "deepnote_app_coordinates": {
     "x": 0,
     "y": 217,
     "w": 12,
     "h": 5
    },
    "deepnote_cell_type": "code",
    "deepnote_cell_height": 202
   },
   "outputs": [],
   "execution_count": null
  },
  {
   "cell_type": "code",
   "source": "model2 = models.Sequential()\nmodel2.add(Dense(32, input_shape=(1,), activation='relu'))\nmodel2.add(Dense(32,activation='relu'))\nmodel2.add(Dense(64,activation='relu'))\nmodel2.add(Dense(32,activation='relu'))\nmodel2.summary()",
   "metadata": {
    "cell_id": "beab42d334c3406ab44cef31f18e46dd",
    "tags": [],
    "deepnote_to_be_reexecuted": false,
    "source_hash": "f4fb2e30",
    "execution_start": 1659751438982,
    "execution_millis": 226,
    "deepnote_app_coordinates": {
     "x": 0,
     "y": 199,
     "w": 12,
     "h": 5
    },
    "deepnote_cell_type": "code",
    "deepnote_cell_height": 520.1875
   },
   "outputs": [
    {
     "name": "stdout",
     "text": "Model: \"sequential_3\"\n_________________________________________________________________\n Layer (type)                Output Shape              Param #   \n=================================================================\n dense_8 (Dense)             (None, 32)                64        \n                                                                 \n dense_9 (Dense)             (None, 32)                1056      \n                                                                 \n dense_10 (Dense)            (None, 64)                2112      \n                                                                 \n dense_11 (Dense)            (None, 32)                2080      \n                                                                 \n=================================================================\nTotal params: 5,312\nTrainable params: 5,312\nNon-trainable params: 0\n_________________________________________________________________\n",
     "output_type": "stream"
    }
   ],
   "execution_count": null
  },
  {
   "cell_type": "code",
   "source": "model2.compile(loss='mse', optimizer='Adam')",
   "metadata": {
    "cell_id": "cc624ed4b4b44dae926a8d9275739eef",
    "tags": [],
    "deepnote_to_be_reexecuted": false,
    "source_hash": "86e6c840",
    "execution_start": 1659751439054,
    "execution_millis": 1,
    "deepnote_app_coordinates": {
     "x": 0,
     "y": 205,
     "w": 12,
     "h": 5
    },
    "deepnote_cell_type": "code",
    "deepnote_cell_height": 76
   },
   "outputs": [],
   "execution_count": null
  },
  {
   "cell_type": "code",
   "source": "nepochs = 400\nhistory2 = model2.fit(X_train, y_train,\n          batch_size=128, epochs=nepochs,\n          verbose=1,\n          validation_data=(X_test, y_test))",
   "metadata": {
    "cell_id": "bcfa4a927f3642f7861723fa8d17f31e",
    "tags": [],
    "deepnote_to_be_reexecuted": false,
    "source_hash": "81fa3162",
    "execution_start": 1659751439055,
    "execution_millis": 20793,
    "deepnote_app_coordinates": {
     "x": 0,
     "y": 211,
     "w": 12,
     "h": 5
    },
    "deepnote_cell_type": "code",
    "deepnote_cell_height": 768
   },
   "outputs": [
    {
     "name": "stdout",
     "text": "Epoch 1/400\n9/9 [==============================] - 0s 14ms/step - loss: 0.0020 - val_loss: 5.8033e-04\nEpoch 2/400\n9/9 [==============================] - 0s 4ms/step - loss: 3.5248e-04 - val_loss: 1.6107e-04\nEpoch 3/400\n9/9 [==============================] - 0s 5ms/step - loss: 1.2094e-04 - val_loss: 9.6677e-05\nEpoch 4/400\n9/9 [==============================] - 0s 4ms/step - loss: 9.0859e-05 - val_loss: 9.1479e-05\nEpoch 5/400\n9/9 [==============================] - 0s 4ms/step - loss: 8.4710e-05 - val_loss: 8.9087e-05\nEpoch 6/400\n9/9 [==============================] - 0s 4ms/step - loss: 8.2764e-05 - val_loss: 8.7870e-05\nEpoch 7/400\n9/9 [==============================] - 0s 4ms/step - loss: 8.1412e-05 - val_loss: 8.5075e-05\nEpoch 8/400\n9/9 [==============================] - 0s 4ms/step - loss: 7.7759e-05 - val_loss: 7.9928e-05\nEpoch 9/400\n9/9 [==============================] - 0s 4ms/step - loss: 7.5033e-05 - val_loss: 7.6818e-05\nEpoch 10/400\n9/9 [==============================] - 0s 4ms/step - loss: 7.2566e-05 - val_loss: 7.5290e-05\nEpoch 11/400\n9/9 [==============================] - 0s 4ms/step - loss: 7.1606e-05 - val_loss: 7.4054e-05\nEpoch 12/400\n9/9 [==============================] - 0s 4ms/step - loss: 7.0371e-05 - val_loss: 7.1871e-05\nEpoch 13/400\n9/9 [==============================] - 0s 4ms/step - loss: 6.8297e-05 - val_loss: 6.8798e-05\nEpoch 14/400\n9/9 [==============================] - 0s 4ms/step - loss: 6.4730e-05 - val_loss: 6.5644e-05\nEpoch 15/400\n9/9 [==============================] - 0s 4ms/step - loss: 6.3468e-05 - val_loss: 6.5349e-05\nEpoch 16/400\n9/9 [==============================] - 0s 4ms/step - loss: 6.2509e-05 - val_loss: 6.4251e-05\nEpoch 17/400\n9/9 [==============================] - 0s 5ms/step - loss: 6.1568e-05 - val_loss: 6.3971e-05\nEpoch 18/400\n9/9 [==============================] - 0s 4ms/step - loss: 6.1127e-05 - val_loss: 6.3353e-05\nEpoch 19/400\n9/9 [==============================] - 0s 4ms/step - loss: 6.0779e-05 - val_loss: 6.2661e-05\nEpoch 20/400\n9/9 [==============================] - 0s 4ms/step - loss: 5.9561e-05 - val_loss: 6.1543e-05\nEpoch 21/400\n9/9 [==============================] - 0s 4ms/step - loss: 5.8581e-05 - val_loss: 6.0076e-05\nEpoch 22/400\n9/9 [==============================] - 0s 4ms/step - loss: 5.6706e-05 - val_loss: 5.8918e-05\nEpoch 23/400\n9/9 [==============================] - 0s 4ms/step - loss: 5.5702e-05 - val_loss: 5.7548e-05\nEpoch 24/400\n9/9 [==============================] - 0s 4ms/step - loss: 5.5302e-05 - val_loss: 5.7530e-05\nEpoch 25/400\n9/9 [==============================] - 0s 5ms/step - loss: 5.5008e-05 - val_loss: 5.7373e-05\nEpoch 26/400\n9/9 [==============================] - 0s 4ms/step - loss: 5.3663e-05 - val_loss: 5.3699e-05\nEpoch 27/400\n9/9 [==============================] - 0s 4ms/step - loss: 5.0259e-05 - val_loss: 5.1083e-05\nEpoch 28/400\n9/9 [==============================] - 0s 6ms/step - loss: 4.7972e-05 - val_loss: 5.0600e-05\nEpoch 29/400\n9/9 [==============================] - 0s 4ms/step - loss: 4.7255e-05 - val_loss: 4.9890e-05\nEpoch 30/400\n9/9 [==============================] - 0s 5ms/step - loss: 4.5653e-05 - val_loss: 4.7024e-05\nEpoch 31/400\n9/9 [==============================] - 0s 4ms/step - loss: 4.4654e-05 - val_loss: 4.6891e-05\nEpoch 32/400\n9/9 [==============================] - 0s 4ms/step - loss: 4.4342e-05 - val_loss: 4.6628e-05\nEpoch 33/400\n9/9 [==============================] - 0s 4ms/step - loss: 4.4096e-05 - val_loss: 4.6316e-05\nEpoch 34/400\n9/9 [==============================] - 0s 5ms/step - loss: 4.3658e-05 - val_loss: 4.6149e-05\nEpoch 35/400\n9/9 [==============================] - 0s 4ms/step - loss: 4.3606e-05 - val_loss: 4.5894e-05\nEpoch 36/400\n9/9 [==============================] - 0s 4ms/step - loss: 4.3159e-05 - val_loss: 4.5548e-05\nEpoch 37/400\n9/9 [==============================] - 0s 4ms/step - loss: 4.2596e-05 - val_loss: 4.2882e-05\nEpoch 38/400\n9/9 [==============================] - 0s 4ms/step - loss: 3.9988e-05 - val_loss: 4.1903e-05\nEpoch 39/400\n9/9 [==============================] - 0s 4ms/step - loss: 3.9229e-05 - val_loss: 4.1249e-05\nEpoch 40/400\n9/9 [==============================] - 0s 4ms/step - loss: 3.7915e-05 - val_loss: 3.9027e-05\nEpoch 41/400\n9/9 [==============================] - 0s 4ms/step - loss: 3.7074e-05 - val_loss: 3.8751e-05\nEpoch 42/400\n9/9 [==============================] - 0s 4ms/step - loss: 3.6725e-05 - val_loss: 3.8464e-05\nEpoch 43/400\n9/9 [==============================] - 0s 4ms/step - loss: 3.6527e-05 - val_loss: 3.8299e-05\nEpoch 44/400\n9/9 [==============================] - 0s 4ms/step - loss: 3.5990e-05 - val_loss: 3.6415e-05\nEpoch 45/400\n9/9 [==============================] - 0s 4ms/step - loss: 3.4690e-05 - val_loss: 3.5947e-05\nEpoch 46/400\n9/9 [==============================] - 0s 4ms/step - loss: 3.4187e-05 - val_loss: 3.4910e-05\nEpoch 47/400\n9/9 [==============================] - 0s 4ms/step - loss: 3.3070e-05 - val_loss: 3.4546e-05\nEpoch 48/400\n9/9 [==============================] - 0s 5ms/step - loss: 3.2784e-05 - val_loss: 3.4360e-05\nEpoch 49/400\n9/9 [==============================] - 0s 4ms/step - loss: 3.2735e-05 - val_loss: 3.4237e-05\nEpoch 50/400\n9/9 [==============================] - 0s 4ms/step - loss: 3.2602e-05 - val_loss: 3.4396e-05\nEpoch 51/400\n9/9 [==============================] - 0s 4ms/step - loss: 3.2607e-05 - val_loss: 3.4242e-05\nEpoch 52/400\n9/9 [==============================] - 0s 4ms/step - loss: 3.2585e-05 - val_loss: 3.4262e-05\nEpoch 53/400\n9/9 [==============================] - 0s 4ms/step - loss: 3.2520e-05 - val_loss: 3.4025e-05\nEpoch 54/400\n9/9 [==============================] - 0s 4ms/step - loss: 3.2469e-05 - val_loss: 3.4054e-05\nEpoch 55/400\n9/9 [==============================] - 0s 7ms/step - loss: 3.2432e-05 - val_loss: 3.4151e-05\nEpoch 56/400\n9/9 [==============================] - 0s 6ms/step - loss: 3.2476e-05 - val_loss: 3.3977e-05\nEpoch 57/400\n9/9 [==============================] - 0s 7ms/step - loss: 3.2377e-05 - val_loss: 3.3909e-05\nEpoch 58/400\n9/9 [==============================] - 0s 4ms/step - loss: 3.2345e-05 - val_loss: 3.3862e-05\nEpoch 59/400\n9/9 [==============================] - 0s 4ms/step - loss: 3.2256e-05 - val_loss: 3.3783e-05\nEpoch 60/400\n9/9 [==============================] - 0s 4ms/step - loss: 3.2241e-05 - val_loss: 3.3819e-05\nEpoch 61/400\n9/9 [==============================] - 0s 4ms/step - loss: 3.2185e-05 - val_loss: 3.3844e-05\nEpoch 62/400\n9/9 [==============================] - 0s 4ms/step - loss: 3.2165e-05 - val_loss: 3.3652e-05\nEpoch 63/400\n9/9 [==============================] - 0s 4ms/step - loss: 3.2050e-05 - val_loss: 3.3548e-05\nEpoch 64/400\n9/9 [==============================] - 0s 4ms/step - loss: 3.1882e-05 - val_loss: 3.3378e-05\nEpoch 65/400\n9/9 [==============================] - 0s 4ms/step - loss: 3.1867e-05 - val_loss: 3.3572e-05\nEpoch 66/400\n9/9 [==============================] - 0s 4ms/step - loss: 3.1889e-05 - val_loss: 3.3402e-05\nEpoch 67/400\n9/9 [==============================] - 0s 4ms/step - loss: 3.1741e-05 - val_loss: 3.3347e-05\nEpoch 68/400\n9/9 [==============================] - 0s 5ms/step - loss: 3.1713e-05 - val_loss: 3.3279e-05\nEpoch 69/400\n9/9 [==============================] - 0s 4ms/step - loss: 3.1704e-05 - val_loss: 3.3303e-05\nEpoch 70/400\n9/9 [==============================] - 0s 4ms/step - loss: 3.1666e-05 - val_loss: 3.3246e-05\nEpoch 71/400\n9/9 [==============================] - 0s 4ms/step - loss: 3.1663e-05 - val_loss: 3.3302e-05\nEpoch 72/400\n9/9 [==============================] - 0s 4ms/step - loss: 3.1691e-05 - val_loss: 3.3350e-05\nEpoch 73/400\n9/9 [==============================] - 0s 5ms/step - loss: 3.1689e-05 - val_loss: 3.3535e-05\nEpoch 74/400\n9/9 [==============================] - 0s 4ms/step - loss: 3.1836e-05 - val_loss: 3.3895e-05\nEpoch 75/400\n9/9 [==============================] - 0s 4ms/step - loss: 3.1919e-05 - val_loss: 3.3568e-05\nEpoch 76/400\n9/9 [==============================] - 0s 4ms/step - loss: 3.1864e-05 - val_loss: 3.3308e-05\nEpoch 77/400\n9/9 [==============================] - 0s 5ms/step - loss: 3.1832e-05 - val_loss: 3.3358e-05\nEpoch 78/400\n9/9 [==============================] - 0s 4ms/step - loss: 3.1736e-05 - val_loss: 3.3344e-05\nEpoch 79/400\n9/9 [==============================] - 0s 4ms/step - loss: 3.1653e-05 - val_loss: 3.3295e-05\nEpoch 80/400\n9/9 [==============================] - 0s 5ms/step - loss: 3.1627e-05 - val_loss: 3.3241e-05\nEpoch 81/400\n9/9 [==============================] - 0s 7ms/step - loss: 3.1675e-05 - val_loss: 3.3306e-05\nEpoch 82/400\n9/9 [==============================] - 0s 6ms/step - loss: 3.1567e-05 - val_loss: 3.3105e-05\nEpoch 83/400\n9/9 [==============================] - 0s 4ms/step - loss: 3.1528e-05 - val_loss: 3.3179e-05\nEpoch 84/400\n9/9 [==============================] - 0s 4ms/step - loss: 3.1503e-05 - val_loss: 3.3137e-05\nEpoch 85/400\n9/9 [==============================] - 0s 4ms/step - loss: 3.1524e-05 - val_loss: 3.3161e-05\nEpoch 86/400\n9/9 [==============================] - 0s 4ms/step - loss: 3.1571e-05 - val_loss: 3.3178e-05\nEpoch 87/400\n9/9 [==============================] - 0s 4ms/step - loss: 3.1562e-05 - val_loss: 3.3251e-05\nEpoch 88/400\n9/9 [==============================] - 0s 4ms/step - loss: 3.1844e-05 - val_loss: 3.3234e-05\nEpoch 89/400\n9/9 [==============================] - 0s 4ms/step - loss: 3.1587e-05 - val_loss: 3.3108e-05\nEpoch 90/400\n9/9 [==============================] - 0s 4ms/step - loss: 3.1567e-05 - val_loss: 3.3263e-05\nEpoch 91/400\n9/9 [==============================] - 0s 4ms/step - loss: 3.1553e-05 - val_loss: 3.3153e-05\nEpoch 92/400\n9/9 [==============================] - 0s 4ms/step - loss: 3.1492e-05 - val_loss: 3.3244e-05\nEpoch 93/400\n9/9 [==============================] - 0s 4ms/step - loss: 3.1493e-05 - val_loss: 3.3085e-05\nEpoch 94/400\n9/9 [==============================] - 0s 4ms/step - loss: 3.1508e-05 - val_loss: 3.3219e-05\nEpoch 95/400\n9/9 [==============================] - 0s 4ms/step - loss: 3.1429e-05 - val_loss: 3.3067e-05\nEpoch 96/400\n9/9 [==============================] - 0s 4ms/step - loss: 3.1411e-05 - val_loss: 3.2997e-05\nEpoch 97/400\n9/9 [==============================] - 0s 4ms/step - loss: 3.1393e-05 - val_loss: 3.3112e-05\nEpoch 98/400\n9/9 [==============================] - 0s 4ms/step - loss: 3.1447e-05 - val_loss: 3.3082e-05\nEpoch 99/400\n9/9 [==============================] - 0s 5ms/step - loss: 3.1412e-05 - val_loss: 3.2993e-05\nEpoch 100/400\n9/9 [==============================] - 0s 4ms/step - loss: 3.1326e-05 - val_loss: 3.2943e-05\nEpoch 101/400\n9/9 [==============================] - 0s 6ms/step - loss: 3.1319e-05 - val_loss: 3.2971e-05\nEpoch 102/400\n9/9 [==============================] - 0s 5ms/step - loss: 3.1294e-05 - val_loss: 3.2938e-05\nEpoch 103/400\n9/9 [==============================] - 0s 4ms/step - loss: 3.1331e-05 - val_loss: 3.3128e-05\nEpoch 104/400\n9/9 [==============================] - 0s 4ms/step - loss: 3.1311e-05 - val_loss: 3.3085e-05\nEpoch 105/400\n9/9 [==============================] - 0s 4ms/step - loss: 3.1373e-05 - val_loss: 3.2864e-05\nEpoch 106/400\n9/9 [==============================] - 0s 4ms/step - loss: 3.1285e-05 - val_loss: 3.3062e-05\nEpoch 107/400\n9/9 [==============================] - 0s 4ms/step - loss: 3.1270e-05 - val_loss: 3.2911e-05\nEpoch 108/400\n9/9 [==============================] - 0s 4ms/step - loss: 3.1280e-05 - val_loss: 3.3112e-05\nEpoch 109/400\n9/9 [==============================] - 0s 5ms/step - loss: 3.1613e-05 - val_loss: 3.3279e-05\nEpoch 110/400\n9/9 [==============================] - 0s 4ms/step - loss: 3.1553e-05 - val_loss: 3.3072e-05\nEpoch 111/400\n9/9 [==============================] - 0s 4ms/step - loss: 3.1400e-05 - val_loss: 3.3024e-05\nEpoch 112/400\n9/9 [==============================] - 0s 4ms/step - loss: 3.1350e-05 - val_loss: 3.2955e-05\nEpoch 113/400\n9/9 [==============================] - 0s 4ms/step - loss: 3.1312e-05 - val_loss: 3.2931e-05\nEpoch 114/400\n9/9 [==============================] - 0s 4ms/step - loss: 3.1263e-05 - val_loss: 3.2888e-05\nEpoch 115/400\n9/9 [==============================] - 0s 7ms/step - loss: 3.1233e-05 - val_loss: 3.2929e-05\nEpoch 116/400\n9/9 [==============================] - 0s 6ms/step - loss: 3.1284e-05 - val_loss: 3.3053e-05\nEpoch 117/400\n9/9 [==============================] - 0s 4ms/step - loss: 3.1390e-05 - val_loss: 3.2953e-05\nEpoch 118/400\n9/9 [==============================] - 0s 4ms/step - loss: 3.1371e-05 - val_loss: 3.2900e-05\nEpoch 119/400\n9/9 [==============================] - 0s 6ms/step - loss: 3.1236e-05 - val_loss: 3.2837e-05\nEpoch 120/400\n9/9 [==============================] - 0s 4ms/step - loss: 3.1212e-05 - val_loss: 3.2926e-05\nEpoch 121/400\n9/9 [==============================] - 0s 4ms/step - loss: 3.1215e-05 - val_loss: 3.2925e-05\nEpoch 122/400\n9/9 [==============================] - 0s 4ms/step - loss: 3.1195e-05 - val_loss: 3.2996e-05\nEpoch 123/400\n9/9 [==============================] - 0s 4ms/step - loss: 3.1524e-05 - val_loss: 3.2953e-05\nEpoch 124/400\n9/9 [==============================] - 0s 5ms/step - loss: 3.1260e-05 - val_loss: 3.2882e-05\nEpoch 125/400\n9/9 [==============================] - 0s 4ms/step - loss: 3.1248e-05 - val_loss: 3.2953e-05\nEpoch 126/400\n9/9 [==============================] - 0s 4ms/step - loss: 3.1455e-05 - val_loss: 3.2882e-05\nEpoch 127/400\n9/9 [==============================] - 0s 4ms/step - loss: 3.1295e-05 - val_loss: 3.2910e-05\nEpoch 128/400\n9/9 [==============================] - 0s 5ms/step - loss: 3.1267e-05 - val_loss: 3.2837e-05\nEpoch 129/400\n9/9 [==============================] - 0s 8ms/step - loss: 3.1247e-05 - val_loss: 3.2959e-05\nEpoch 130/400\n9/9 [==============================] - 0s 5ms/step - loss: 3.1346e-05 - val_loss: 3.3037e-05\nEpoch 131/400\n9/9 [==============================] - 0s 4ms/step - loss: 3.1245e-05 - val_loss: 3.3230e-05\nEpoch 132/400\n9/9 [==============================] - 0s 4ms/step - loss: 3.1424e-05 - val_loss: 3.3066e-05\nEpoch 133/400\n9/9 [==============================] - 0s 5ms/step - loss: 3.1419e-05 - val_loss: 3.2974e-05\nEpoch 134/400\n9/9 [==============================] - 0s 4ms/step - loss: 3.1289e-05 - val_loss: 3.2906e-05\nEpoch 135/400\n9/9 [==============================] - 0s 4ms/step - loss: 3.1226e-05 - val_loss: 3.3159e-05\nEpoch 136/400\n9/9 [==============================] - 0s 4ms/step - loss: 3.1377e-05 - val_loss: 3.2962e-05\nEpoch 137/400\n9/9 [==============================] - 0s 4ms/step - loss: 3.1284e-05 - val_loss: 3.2947e-05\nEpoch 138/400\n9/9 [==============================] - 0s 4ms/step - loss: 3.1273e-05 - val_loss: 3.3235e-05\nEpoch 139/400\n9/9 [==============================] - 0s 4ms/step - loss: 3.1250e-05 - val_loss: 3.2994e-05\nEpoch 140/400\n9/9 [==============================] - 0s 4ms/step - loss: 3.1186e-05 - val_loss: 3.2883e-05\nEpoch 141/400\n9/9 [==============================] - 0s 4ms/step - loss: 3.1171e-05 - val_loss: 3.2861e-05\nEpoch 142/400\n9/9 [==============================] - 0s 4ms/step - loss: 3.1228e-05 - val_loss: 3.2874e-05\nEpoch 143/400\n9/9 [==============================] - 0s 4ms/step - loss: 3.1196e-05 - val_loss: 3.2920e-05\nEpoch 144/400\n9/9 [==============================] - 0s 4ms/step - loss: 3.1276e-05 - val_loss: 3.2854e-05\nEpoch 145/400\n9/9 [==============================] - 0s 4ms/step - loss: 3.1362e-05 - val_loss: 3.2963e-05\nEpoch 146/400\n9/9 [==============================] - 0s 4ms/step - loss: 3.1317e-05 - val_loss: 3.2908e-05\nEpoch 147/400\n9/9 [==============================] - 0s 4ms/step - loss: 3.1194e-05 - val_loss: 3.2873e-05\nEpoch 148/400\n9/9 [==============================] - 0s 4ms/step - loss: 3.1128e-05 - val_loss: 3.2816e-05\nEpoch 149/400\n9/9 [==============================] - 0s 5ms/step - loss: 3.1229e-05 - val_loss: 3.3429e-05\nEpoch 150/400\n9/9 [==============================] - 0s 4ms/step - loss: 3.1628e-05 - val_loss: 3.2990e-05\nEpoch 151/400\n9/9 [==============================] - 0s 4ms/step - loss: 3.1311e-05 - val_loss: 3.2940e-05\nEpoch 152/400\n9/9 [==============================] - 0s 4ms/step - loss: 3.1210e-05 - val_loss: 3.2895e-05\nEpoch 153/400\n9/9 [==============================] - 0s 5ms/step - loss: 3.1178e-05 - val_loss: 3.2905e-05\nEpoch 154/400\n9/9 [==============================] - 0s 8ms/step - loss: 3.1288e-05 - val_loss: 3.2860e-05\nEpoch 155/400\n9/9 [==============================] - 0s 4ms/step - loss: 3.1211e-05 - val_loss: 3.2913e-05\nEpoch 156/400\n9/9 [==============================] - 0s 4ms/step - loss: 3.1145e-05 - val_loss: 3.2877e-05\nEpoch 157/400\n9/9 [==============================] - 0s 4ms/step - loss: 3.1135e-05 - val_loss: 3.2945e-05\nEpoch 158/400\n9/9 [==============================] - 0s 4ms/step - loss: 3.1146e-05 - val_loss: 3.2823e-05\nEpoch 159/400\n9/9 [==============================] - 0s 5ms/step - loss: 3.1113e-05 - val_loss: 3.2934e-05\nEpoch 160/400\n9/9 [==============================] - 0s 4ms/step - loss: 3.1429e-05 - val_loss: 3.3009e-05\nEpoch 161/400\n9/9 [==============================] - 0s 5ms/step - loss: 3.1220e-05 - val_loss: 3.2845e-05\nEpoch 162/400\n9/9 [==============================] - 0s 4ms/step - loss: 3.1159e-05 - val_loss: 3.2843e-05\nEpoch 163/400\n9/9 [==============================] - 0s 4ms/step - loss: 3.1128e-05 - val_loss: 3.3068e-05\nEpoch 164/400\n9/9 [==============================] - 0s 4ms/step - loss: 3.1143e-05 - val_loss: 3.2846e-05\nEpoch 165/400\n9/9 [==============================] - 0s 4ms/step - loss: 3.1195e-05 - val_loss: 3.2894e-05\nEpoch 166/400\n9/9 [==============================] - 0s 4ms/step - loss: 3.1218e-05 - val_loss: 3.3266e-05\nEpoch 167/400\n9/9 [==============================] - 0s 4ms/step - loss: 3.1302e-05 - val_loss: 3.2974e-05\nEpoch 168/400\n9/9 [==============================] - 0s 4ms/step - loss: 3.1184e-05 - val_loss: 3.2975e-05\nEpoch 169/400\n9/9 [==============================] - 0s 6ms/step - loss: 3.1101e-05 - val_loss: 3.2992e-05\nEpoch 170/400\n9/9 [==============================] - 0s 4ms/step - loss: 3.1145e-05 - val_loss: 3.2789e-05\nEpoch 171/400\n9/9 [==============================] - 0s 4ms/step - loss: 3.1148e-05 - val_loss: 3.2801e-05\nEpoch 172/400\n9/9 [==============================] - 0s 4ms/step - loss: 3.1060e-05 - val_loss: 3.2849e-05\nEpoch 173/400\n9/9 [==============================] - 0s 4ms/step - loss: 3.1168e-05 - val_loss: 3.2824e-05\nEpoch 174/400\n9/9 [==============================] - 0s 5ms/step - loss: 3.1111e-05 - val_loss: 3.2812e-05\nEpoch 175/400\n9/9 [==============================] - 0s 4ms/step - loss: 3.1102e-05 - val_loss: 3.2802e-05\nEpoch 176/400\n9/9 [==============================] - 0s 4ms/step - loss: 3.1171e-05 - val_loss: 3.2889e-05\nEpoch 177/400\n9/9 [==============================] - 0s 4ms/step - loss: 3.1216e-05 - val_loss: 3.2878e-05\nEpoch 178/400\n9/9 [==============================] - 0s 4ms/step - loss: 3.1125e-05 - val_loss: 3.2774e-05\nEpoch 179/400\n9/9 [==============================] - 0s 5ms/step - loss: 3.1057e-05 - val_loss: 3.2821e-05\nEpoch 180/400\n9/9 [==============================] - 0s 4ms/step - loss: 3.1016e-05 - val_loss: 3.2763e-05\nEpoch 181/400\n9/9 [==============================] - 0s 4ms/step - loss: 3.1045e-05 - val_loss: 3.2830e-05\nEpoch 182/400\n9/9 [==============================] - 0s 4ms/step - loss: 3.1155e-05 - val_loss: 3.2903e-05\nEpoch 183/400\n9/9 [==============================] - 0s 4ms/step - loss: 3.1148e-05 - val_loss: 3.2738e-05\nEpoch 184/400\n9/9 [==============================] - 0s 4ms/step - loss: 3.1215e-05 - val_loss: 3.2789e-05\nEpoch 185/400\n9/9 [==============================] - 0s 7ms/step - loss: 3.1125e-05 - val_loss: 3.2776e-05\nEpoch 186/400\n9/9 [==============================] - 0s 6ms/step - loss: 3.1163e-05 - val_loss: 3.2747e-05\nEpoch 187/400\n9/9 [==============================] - 0s 4ms/step - loss: 3.1083e-05 - val_loss: 3.2982e-05\nEpoch 188/400\n9/9 [==============================] - 0s 4ms/step - loss: 3.1097e-05 - val_loss: 3.2768e-05\nEpoch 189/400\n9/9 [==============================] - 0s 4ms/step - loss: 3.0997e-05 - val_loss: 3.2676e-05\nEpoch 190/400\n9/9 [==============================] - 0s 4ms/step - loss: 3.1014e-05 - val_loss: 3.2729e-05\nEpoch 191/400\n9/9 [==============================] - 0s 4ms/step - loss: 3.0982e-05 - val_loss: 3.2840e-05\nEpoch 192/400\n9/9 [==============================] - 0s 4ms/step - loss: 3.1073e-05 - val_loss: 3.2762e-05\nEpoch 193/400\n9/9 [==============================] - 0s 4ms/step - loss: 3.1099e-05 - val_loss: 3.2740e-05\nEpoch 194/400\n9/9 [==============================] - 0s 4ms/step - loss: 3.1016e-05 - val_loss: 3.2892e-05\nEpoch 195/400\n9/9 [==============================] - 0s 4ms/step - loss: 3.1074e-05 - val_loss: 3.2786e-05\nEpoch 196/400\n9/9 [==============================] - 0s 4ms/step - loss: 3.0999e-05 - val_loss: 3.3004e-05\nEpoch 197/400\n9/9 [==============================] - 0s 4ms/step - loss: 3.1253e-05 - val_loss: 3.2904e-05\nEpoch 198/400\n9/9 [==============================] - 0s 4ms/step - loss: 3.1092e-05 - val_loss: 3.2623e-05\nEpoch 199/400\n9/9 [==============================] - 0s 5ms/step - loss: 3.0939e-05 - val_loss: 3.2929e-05\nEpoch 200/400\n9/9 [==============================] - 0s 4ms/step - loss: 3.1014e-05 - val_loss: 3.2724e-05\nEpoch 201/400\n9/9 [==============================] - 0s 4ms/step - loss: 3.0923e-05 - val_loss: 3.3075e-05\nEpoch 202/400\n9/9 [==============================] - 0s 4ms/step - loss: 3.1247e-05 - val_loss: 3.2786e-05\nEpoch 203/400\n9/9 [==============================] - 0s 4ms/step - loss: 3.1121e-05 - val_loss: 3.2881e-05\nEpoch 204/400\n9/9 [==============================] - 0s 4ms/step - loss: 3.1114e-05 - val_loss: 3.2882e-05\nEpoch 205/400\n9/9 [==============================] - 0s 5ms/step - loss: 3.1006e-05 - val_loss: 3.2575e-05\nEpoch 206/400\n9/9 [==============================] - 0s 4ms/step - loss: 3.0901e-05 - val_loss: 3.2595e-05\nEpoch 207/400\n9/9 [==============================] - 0s 4ms/step - loss: 3.0964e-05 - val_loss: 3.2727e-05\nEpoch 208/400\n9/9 [==============================] - 0s 4ms/step - loss: 3.0944e-05 - val_loss: 3.2692e-05\nEpoch 209/400\n9/9 [==============================] - 0s 4ms/step - loss: 3.0911e-05 - val_loss: 3.3009e-05\nEpoch 210/400\n9/9 [==============================] - 0s 5ms/step - loss: 3.0969e-05 - val_loss: 3.3105e-05\nEpoch 211/400\n9/9 [==============================] - 0s 5ms/step - loss: 3.1224e-05 - val_loss: 3.2914e-05\nEpoch 212/400\n9/9 [==============================] - 0s 4ms/step - loss: 3.1152e-05 - val_loss: 3.2898e-05\nEpoch 213/400\n9/9 [==============================] - 0s 4ms/step - loss: 3.1095e-05 - val_loss: 3.2868e-05\nEpoch 214/400\n9/9 [==============================] - 0s 4ms/step - loss: 3.1057e-05 - val_loss: 3.2909e-05\nEpoch 215/400\n9/9 [==============================] - 0s 4ms/step - loss: 3.1061e-05 - val_loss: 3.2723e-05\nEpoch 216/400\n9/9 [==============================] - 0s 4ms/step - loss: 3.0971e-05 - val_loss: 3.2714e-05\nEpoch 217/400\n9/9 [==============================] - 0s 4ms/step - loss: 3.1022e-05 - val_loss: 3.2602e-05\nEpoch 218/400\n9/9 [==============================] - 0s 4ms/step - loss: 3.0901e-05 - val_loss: 3.3019e-05\nEpoch 219/400\n9/9 [==============================] - 0s 4ms/step - loss: 3.1090e-05 - val_loss: 3.2679e-05\nEpoch 220/400\n9/9 [==============================] - 0s 4ms/step - loss: 3.1008e-05 - val_loss: 3.2776e-05\nEpoch 221/400\n9/9 [==============================] - 0s 6ms/step - loss: 3.0896e-05 - val_loss: 3.2638e-05\nEpoch 222/400\n9/9 [==============================] - 0s 4ms/step - loss: 3.0855e-05 - val_loss: 3.2651e-05\nEpoch 223/400\n9/9 [==============================] - 0s 4ms/step - loss: 3.0846e-05 - val_loss: 3.2637e-05\nEpoch 224/400\n9/9 [==============================] - 0s 4ms/step - loss: 3.0848e-05 - val_loss: 3.2624e-05\nEpoch 225/400\n9/9 [==============================] - 0s 4ms/step - loss: 3.0886e-05 - val_loss: 3.2607e-05\nEpoch 226/400\n9/9 [==============================] - 0s 4ms/step - loss: 3.0858e-05 - val_loss: 3.2744e-05\nEpoch 227/400\n9/9 [==============================] - 0s 4ms/step - loss: 3.1008e-05 - val_loss: 3.2883e-05\nEpoch 228/400\n9/9 [==============================] - 0s 4ms/step - loss: 3.1028e-05 - val_loss: 3.2691e-05\nEpoch 229/400\n9/9 [==============================] - 0s 4ms/step - loss: 3.0976e-05 - val_loss: 3.2817e-05\nEpoch 230/400\n9/9 [==============================] - 0s 4ms/step - loss: 3.0966e-05 - val_loss: 3.2681e-05\nEpoch 231/400\n9/9 [==============================] - 0s 5ms/step - loss: 3.0933e-05 - val_loss: 3.2967e-05\nEpoch 232/400\n9/9 [==============================] - 0s 6ms/step - loss: 3.1230e-05 - val_loss: 3.2814e-05\nEpoch 233/400\n9/9 [==============================] - 0s 4ms/step - loss: 3.0937e-05 - val_loss: 3.2629e-05\nEpoch 234/400\n9/9 [==============================] - 0s 4ms/step - loss: 3.0910e-05 - val_loss: 3.2576e-05\nEpoch 235/400\n9/9 [==============================] - 0s 4ms/step - loss: 3.0990e-05 - val_loss: 3.2706e-05\nEpoch 236/400\n9/9 [==============================] - 0s 4ms/step - loss: 3.0943e-05 - val_loss: 3.2803e-05\nEpoch 237/400\n9/9 [==============================] - 0s 4ms/step - loss: 3.0983e-05 - val_loss: 3.2738e-05\nEpoch 238/400\n9/9 [==============================] - 0s 5ms/step - loss: 3.0914e-05 - val_loss: 3.2963e-05\nEpoch 239/400\n9/9 [==============================] - 0s 4ms/step - loss: 3.1167e-05 - val_loss: 3.2724e-05\nEpoch 240/400\n9/9 [==============================] - 0s 4ms/step - loss: 3.0979e-05 - val_loss: 3.2721e-05\nEpoch 241/400\n9/9 [==============================] - 0s 4ms/step - loss: 3.0969e-05 - val_loss: 3.2802e-05\nEpoch 242/400\n9/9 [==============================] - 0s 4ms/step - loss: 3.1023e-05 - val_loss: 3.2931e-05\nEpoch 243/400\n9/9 [==============================] - 0s 4ms/step - loss: 3.1043e-05 - val_loss: 3.2734e-05\nEpoch 244/400\n9/9 [==============================] - 0s 4ms/step - loss: 3.0988e-05 - val_loss: 3.2735e-05\nEpoch 245/400\n9/9 [==============================] - 0s 4ms/step - loss: 3.0955e-05 - val_loss: 3.2654e-05\nEpoch 246/400\n9/9 [==============================] - 0s 4ms/step - loss: 3.0825e-05 - val_loss: 3.2629e-05\nEpoch 247/400\n9/9 [==============================] - 0s 4ms/step - loss: 3.0930e-05 - val_loss: 3.2653e-05\nEpoch 248/400\n9/9 [==============================] - 0s 4ms/step - loss: 3.1030e-05 - val_loss: 3.2755e-05\nEpoch 249/400\n9/9 [==============================] - 0s 4ms/step - loss: 3.1110e-05 - val_loss: 3.2696e-05\nEpoch 250/400\n9/9 [==============================] - 0s 4ms/step - loss: 3.0933e-05 - val_loss: 3.2685e-05\nEpoch 251/400\n9/9 [==============================] - 0s 4ms/step - loss: 3.0903e-05 - val_loss: 3.2650e-05\nEpoch 252/400\n9/9 [==============================] - 0s 5ms/step - loss: 3.0883e-05 - val_loss: 3.2687e-05\nEpoch 253/400\n9/9 [==============================] - 0s 4ms/step - loss: 3.0895e-05 - val_loss: 3.2859e-05\nEpoch 254/400\n9/9 [==============================] - 0s 6ms/step - loss: 3.0971e-05 - val_loss: 3.2724e-05\nEpoch 255/400\n9/9 [==============================] - 0s 4ms/step - loss: 3.0849e-05 - val_loss: 3.2613e-05\nEpoch 256/400\n9/9 [==============================] - 0s 5ms/step - loss: 3.0878e-05 - val_loss: 3.2657e-05\nEpoch 257/400\n9/9 [==============================] - 0s 4ms/step - loss: 3.0853e-05 - val_loss: 3.2686e-05\nEpoch 258/400\n9/9 [==============================] - 0s 6ms/step - loss: 3.0835e-05 - val_loss: 3.2693e-05\nEpoch 259/400\n9/9 [==============================] - 0s 4ms/step - loss: 3.0849e-05 - val_loss: 3.2629e-05\nEpoch 260/400\n9/9 [==============================] - 0s 4ms/step - loss: 3.0839e-05 - val_loss: 3.2616e-05\nEpoch 261/400\n9/9 [==============================] - 0s 4ms/step - loss: 3.0863e-05 - val_loss: 3.2700e-05\nEpoch 262/400\n9/9 [==============================] - 0s 4ms/step - loss: 3.0926e-05 - val_loss: 3.2980e-05\nEpoch 263/400\n9/9 [==============================] - 0s 4ms/step - loss: 3.0993e-05 - val_loss: 3.2718e-05\nEpoch 264/400\n9/9 [==============================] - 0s 4ms/step - loss: 3.0940e-05 - val_loss: 3.2929e-05\nEpoch 265/400\n9/9 [==============================] - 0s 4ms/step - loss: 3.1025e-05 - val_loss: 3.2868e-05\nEpoch 266/400\n9/9 [==============================] - 0s 6ms/step - loss: 3.0925e-05 - val_loss: 3.2696e-05\nEpoch 267/400\n9/9 [==============================] - 0s 4ms/step - loss: 3.1045e-05 - val_loss: 3.3034e-05\nEpoch 268/400\n9/9 [==============================] - 0s 4ms/step - loss: 3.1597e-05 - val_loss: 3.3088e-05\nEpoch 269/400\n9/9 [==============================] - 0s 4ms/step - loss: 3.1269e-05 - val_loss: 3.2881e-05\nEpoch 270/400\n9/9 [==============================] - 0s 4ms/step - loss: 3.1046e-05 - val_loss: 3.2883e-05\nEpoch 271/400\n9/9 [==============================] - 0s 4ms/step - loss: 3.0944e-05 - val_loss: 3.2941e-05\nEpoch 272/400\n9/9 [==============================] - 0s 5ms/step - loss: 3.0910e-05 - val_loss: 3.2574e-05\nEpoch 273/400\n9/9 [==============================] - 0s 4ms/step - loss: 3.0913e-05 - val_loss: 3.2732e-05\nEpoch 274/400\n9/9 [==============================] - 0s 4ms/step - loss: 3.0927e-05 - val_loss: 3.2852e-05\nEpoch 275/400\n9/9 [==============================] - 0s 4ms/step - loss: 3.0998e-05 - val_loss: 3.2765e-05\nEpoch 276/400\n9/9 [==============================] - 0s 4ms/step - loss: 3.0884e-05 - val_loss: 3.2710e-05\nEpoch 277/400\n9/9 [==============================] - 0s 4ms/step - loss: 3.0903e-05 - val_loss: 3.2902e-05\nEpoch 278/400\n9/9 [==============================] - 0s 4ms/step - loss: 3.1001e-05 - val_loss: 3.2895e-05\nEpoch 279/400\n9/9 [==============================] - 0s 4ms/step - loss: 3.0958e-05 - val_loss: 3.2695e-05\nEpoch 280/400\n9/9 [==============================] - 0s 4ms/step - loss: 3.0994e-05 - val_loss: 3.2819e-05\nEpoch 281/400\n9/9 [==============================] - 0s 4ms/step - loss: 3.1017e-05 - val_loss: 3.3176e-05\nEpoch 282/400\n9/9 [==============================] - 0s 4ms/step - loss: 3.1416e-05 - val_loss: 3.2902e-05\nEpoch 283/400\n9/9 [==============================] - 0s 4ms/step - loss: 3.1195e-05 - val_loss: 3.2829e-05\nEpoch 284/400\n9/9 [==============================] - 0s 4ms/step - loss: 3.1014e-05 - val_loss: 3.3045e-05\nEpoch 285/400\n9/9 [==============================] - 0s 6ms/step - loss: 3.1254e-05 - val_loss: 3.2848e-05\nEpoch 286/400\n9/9 [==============================] - 0s 4ms/step - loss: 3.1116e-05 - val_loss: 3.2875e-05\nEpoch 287/400\n9/9 [==============================] - 0s 4ms/step - loss: 3.0994e-05 - val_loss: 3.2742e-05\nEpoch 288/400\n9/9 [==============================] - 0s 4ms/step - loss: 3.0995e-05 - val_loss: 3.2911e-05\nEpoch 289/400\n9/9 [==============================] - 0s 4ms/step - loss: 3.0987e-05 - val_loss: 3.2812e-05\nEpoch 290/400\n9/9 [==============================] - 0s 5ms/step - loss: 3.0901e-05 - val_loss: 3.2759e-05\nEpoch 291/400\n9/9 [==============================] - 0s 5ms/step - loss: 3.0976e-05 - val_loss: 3.2721e-05\nEpoch 292/400\n9/9 [==============================] - 0s 4ms/step - loss: 3.0967e-05 - val_loss: 3.2896e-05\nEpoch 293/400\n9/9 [==============================] - 0s 4ms/step - loss: 3.0964e-05 - val_loss: 3.2707e-05\nEpoch 294/400\n9/9 [==============================] - 0s 4ms/step - loss: 3.0950e-05 - val_loss: 3.2817e-05\nEpoch 295/400\n9/9 [==============================] - 0s 4ms/step - loss: 3.1142e-05 - val_loss: 3.2788e-05\nEpoch 296/400\n9/9 [==============================] - 0s 5ms/step - loss: 3.0952e-05 - val_loss: 3.2560e-05\nEpoch 297/400\n9/9 [==============================] - 0s 4ms/step - loss: 3.0807e-05 - val_loss: 3.2643e-05\nEpoch 298/400\n9/9 [==============================] - 0s 6ms/step - loss: 3.0823e-05 - val_loss: 3.2681e-05\nEpoch 299/400\n9/9 [==============================] - 0s 4ms/step - loss: 3.0870e-05 - val_loss: 3.2713e-05\nEpoch 300/400\n9/9 [==============================] - 0s 4ms/step - loss: 3.0928e-05 - val_loss: 3.2805e-05\nEpoch 301/400\n9/9 [==============================] - 0s 4ms/step - loss: 3.0971e-05 - val_loss: 3.2682e-05\nEpoch 302/400\n9/9 [==============================] - 0s 4ms/step - loss: 3.0841e-05 - val_loss: 3.2649e-05\nEpoch 303/400\n9/9 [==============================] - 0s 5ms/step - loss: 3.0807e-05 - val_loss: 3.2665e-05\nEpoch 304/400\n9/9 [==============================] - 0s 4ms/step - loss: 3.0852e-05 - val_loss: 3.2653e-05\nEpoch 305/400\n9/9 [==============================] - 0s 4ms/step - loss: 3.0980e-05 - val_loss: 3.2774e-05\nEpoch 306/400\n9/9 [==============================] - 0s 4ms/step - loss: 3.1009e-05 - val_loss: 3.2830e-05\nEpoch 307/400\n9/9 [==============================] - 0s 4ms/step - loss: 3.1017e-05 - val_loss: 3.2837e-05\nEpoch 308/400\n9/9 [==============================] - 0s 4ms/step - loss: 3.1006e-05 - val_loss: 3.2844e-05\nEpoch 309/400\n9/9 [==============================] - 0s 4ms/step - loss: 3.1023e-05 - val_loss: 3.2683e-05\nEpoch 310/400\n9/9 [==============================] - 0s 6ms/step - loss: 3.0974e-05 - val_loss: 3.2684e-05\nEpoch 311/400\n9/9 [==============================] - 0s 7ms/step - loss: 3.0834e-05 - val_loss: 3.2727e-05\nEpoch 312/400\n9/9 [==============================] - 0s 4ms/step - loss: 3.0926e-05 - val_loss: 3.2604e-05\nEpoch 313/400\n9/9 [==============================] - 0s 4ms/step - loss: 3.0904e-05 - val_loss: 3.2654e-05\nEpoch 314/400\n9/9 [==============================] - 0s 4ms/step - loss: 3.0830e-05 - val_loss: 3.2833e-05\nEpoch 315/400\n9/9 [==============================] - 0s 4ms/step - loss: 3.0967e-05 - val_loss: 3.2884e-05\nEpoch 316/400\n9/9 [==============================] - 0s 6ms/step - loss: 3.1079e-05 - val_loss: 3.2909e-05\nEpoch 317/400\n9/9 [==============================] - 0s 4ms/step - loss: 3.0941e-05 - val_loss: 3.2849e-05\nEpoch 318/400\n9/9 [==============================] - 0s 4ms/step - loss: 3.0928e-05 - val_loss: 3.2758e-05\nEpoch 319/400\n9/9 [==============================] - 0s 4ms/step - loss: 3.0872e-05 - val_loss: 3.2926e-05\nEpoch 320/400\n9/9 [==============================] - 0s 4ms/step - loss: 3.0925e-05 - val_loss: 3.2778e-05\nEpoch 321/400\n9/9 [==============================] - 0s 4ms/step - loss: 3.0926e-05 - val_loss: 3.2731e-05\nEpoch 322/400\n9/9 [==============================] - 0s 4ms/step - loss: 3.0900e-05 - val_loss: 3.2983e-05\nEpoch 323/400\n9/9 [==============================] - 0s 5ms/step - loss: 3.1280e-05 - val_loss: 3.2815e-05\nEpoch 324/400\n9/9 [==============================] - 0s 4ms/step - loss: 3.1082e-05 - val_loss: 3.2823e-05\nEpoch 325/400\n9/9 [==============================] - 0s 4ms/step - loss: 3.1129e-05 - val_loss: 3.2737e-05\nEpoch 326/400\n9/9 [==============================] - 0s 4ms/step - loss: 3.0906e-05 - val_loss: 3.2684e-05\nEpoch 327/400\n9/9 [==============================] - 0s 4ms/step - loss: 3.0789e-05 - val_loss: 3.3059e-05\nEpoch 328/400\n9/9 [==============================] - 0s 5ms/step - loss: 3.1189e-05 - val_loss: 3.3082e-05\nEpoch 329/400\n9/9 [==============================] - 0s 4ms/step - loss: 3.1068e-05 - val_loss: 3.2622e-05\nEpoch 330/400\n9/9 [==============================] - 0s 4ms/step - loss: 3.0906e-05 - val_loss: 3.2842e-05\nEpoch 331/400\n9/9 [==============================] - 0s 4ms/step - loss: 3.1018e-05 - val_loss: 3.2958e-05\nEpoch 332/400\n9/9 [==============================] - 0s 4ms/step - loss: 3.1001e-05 - val_loss: 3.3134e-05\nEpoch 333/400\n9/9 [==============================] - 0s 4ms/step - loss: 3.1097e-05 - val_loss: 3.2939e-05\nEpoch 334/400\n9/9 [==============================] - 0s 4ms/step - loss: 3.1039e-05 - val_loss: 3.2650e-05\nEpoch 335/400\n9/9 [==============================] - 0s 4ms/step - loss: 3.0923e-05 - val_loss: 3.2974e-05\nEpoch 336/400\n9/9 [==============================] - 0s 6ms/step - loss: 3.0982e-05 - val_loss: 3.2911e-05\nEpoch 337/400\n9/9 [==============================] - 0s 7ms/step - loss: 3.1100e-05 - val_loss: 3.2781e-05\nEpoch 338/400\n9/9 [==============================] - 0s 4ms/step - loss: 3.1087e-05 - val_loss: 3.2897e-05\nEpoch 339/400\n9/9 [==============================] - 0s 4ms/step - loss: 3.1125e-05 - val_loss: 3.2851e-05\nEpoch 340/400\n9/9 [==============================] - 0s 4ms/step - loss: 3.1383e-05 - val_loss: 3.3064e-05\nEpoch 341/400\n9/9 [==============================] - 0s 4ms/step - loss: 3.1325e-05 - val_loss: 3.3153e-05\nEpoch 342/400\n9/9 [==============================] - 0s 5ms/step - loss: 3.1105e-05 - val_loss: 3.2750e-05\nEpoch 343/400\n9/9 [==============================] - 0s 4ms/step - loss: 3.0862e-05 - val_loss: 3.2909e-05\nEpoch 344/400\n9/9 [==============================] - 0s 4ms/step - loss: 3.0856e-05 - val_loss: 3.2598e-05\nEpoch 345/400\n9/9 [==============================] - 0s 4ms/step - loss: 3.0958e-05 - val_loss: 3.2563e-05\nEpoch 346/400\n9/9 [==============================] - 0s 4ms/step - loss: 3.0863e-05 - val_loss: 3.2641e-05\nEpoch 347/400\n9/9 [==============================] - 0s 4ms/step - loss: 3.0834e-05 - val_loss: 3.2699e-05\nEpoch 348/400\n9/9 [==============================] - 0s 4ms/step - loss: 3.0866e-05 - val_loss: 3.2751e-05\nEpoch 349/400\n9/9 [==============================] - 0s 4ms/step - loss: 3.0892e-05 - val_loss: 3.2931e-05\nEpoch 350/400\n9/9 [==============================] - 0s 4ms/step - loss: 3.0938e-05 - val_loss: 3.2638e-05\nEpoch 351/400\n9/9 [==============================] - 0s 4ms/step - loss: 3.0885e-05 - val_loss: 3.2704e-05\nEpoch 352/400\n9/9 [==============================] - 0s 4ms/step - loss: 3.0964e-05 - val_loss: 3.2714e-05\nEpoch 353/400\n9/9 [==============================] - 0s 4ms/step - loss: 3.0863e-05 - val_loss: 3.2629e-05\nEpoch 354/400\n9/9 [==============================] - 0s 5ms/step - loss: 3.0775e-05 - val_loss: 3.2731e-05\nEpoch 355/400\n9/9 [==============================] - 0s 5ms/step - loss: 3.0876e-05 - val_loss: 3.2783e-05\nEpoch 356/400\n9/9 [==============================] - 0s 4ms/step - loss: 3.0941e-05 - val_loss: 3.2666e-05\nEpoch 357/400\n9/9 [==============================] - 0s 4ms/step - loss: 3.0835e-05 - val_loss: 3.3082e-05\nEpoch 358/400\n9/9 [==============================] - 0s 4ms/step - loss: 3.0979e-05 - val_loss: 3.2908e-05\nEpoch 359/400\n9/9 [==============================] - 0s 4ms/step - loss: 3.1020e-05 - val_loss: 3.2761e-05\nEpoch 360/400\n9/9 [==============================] - 0s 4ms/step - loss: 3.0887e-05 - val_loss: 3.2810e-05\nEpoch 361/400\n9/9 [==============================] - 0s 4ms/step - loss: 3.1002e-05 - val_loss: 3.2810e-05\nEpoch 362/400\n9/9 [==============================] - 0s 4ms/step - loss: 3.0896e-05 - val_loss: 3.2613e-05\nEpoch 363/400\n9/9 [==============================] - 0s 4ms/step - loss: 3.0952e-05 - val_loss: 3.2720e-05\nEpoch 364/400\n9/9 [==============================] - 0s 4ms/step - loss: 3.0925e-05 - val_loss: 3.2671e-05\nEpoch 365/400\n9/9 [==============================] - 0s 4ms/step - loss: 3.0941e-05 - val_loss: 3.2735e-05\nEpoch 366/400\n9/9 [==============================] - 0s 4ms/step - loss: 3.0870e-05 - val_loss: 3.2613e-05\nEpoch 367/400\n9/9 [==============================] - 0s 4ms/step - loss: 3.0872e-05 - val_loss: 3.2738e-05\nEpoch 368/400\n9/9 [==============================] - 0s 4ms/step - loss: 3.0864e-05 - val_loss: 3.2963e-05\nEpoch 369/400\n9/9 [==============================] - 0s 6ms/step - loss: 3.1091e-05 - val_loss: 3.2954e-05\nEpoch 370/400\n9/9 [==============================] - 0s 4ms/step - loss: 3.1136e-05 - val_loss: 3.2691e-05\nEpoch 371/400\n9/9 [==============================] - 0s 4ms/step - loss: 3.0978e-05 - val_loss: 3.2770e-05\nEpoch 372/400\n9/9 [==============================] - 0s 4ms/step - loss: 3.0927e-05 - val_loss: 3.2692e-05\nEpoch 373/400\n9/9 [==============================] - 0s 4ms/step - loss: 3.0921e-05 - val_loss: 3.2780e-05\nEpoch 374/400\n9/9 [==============================] - 0s 4ms/step - loss: 3.0942e-05 - val_loss: 3.2739e-05\nEpoch 375/400\n9/9 [==============================] - 0s 5ms/step - loss: 3.1014e-05 - val_loss: 3.2733e-05\nEpoch 376/400\n9/9 [==============================] - 0s 4ms/step - loss: 3.0889e-05 - val_loss: 3.2749e-05\nEpoch 377/400\n9/9 [==============================] - 0s 4ms/step - loss: 3.0899e-05 - val_loss: 3.2829e-05\nEpoch 378/400\n9/9 [==============================] - 0s 4ms/step - loss: 3.0961e-05 - val_loss: 3.2838e-05\nEpoch 379/400\n9/9 [==============================] - 0s 4ms/step - loss: 3.0976e-05 - val_loss: 3.2911e-05\nEpoch 380/400\n9/9 [==============================] - 0s 5ms/step - loss: 3.0981e-05 - val_loss: 3.3100e-05\nEpoch 381/400\n9/9 [==============================] - 0s 4ms/step - loss: 3.1862e-05 - val_loss: 3.3526e-05\nEpoch 382/400\n9/9 [==============================] - 0s 4ms/step - loss: 3.1430e-05 - val_loss: 3.3131e-05\nEpoch 383/400\n9/9 [==============================] - 0s 4ms/step - loss: 3.1122e-05 - val_loss: 3.2687e-05\nEpoch 384/400\n9/9 [==============================] - 0s 4ms/step - loss: 3.0969e-05 - val_loss: 3.2623e-05\nEpoch 385/400\n9/9 [==============================] - 0s 4ms/step - loss: 3.0878e-05 - val_loss: 3.2704e-05\nEpoch 386/400\n9/9 [==============================] - 0s 4ms/step - loss: 3.0952e-05 - val_loss: 3.2749e-05\nEpoch 387/400\n9/9 [==============================] - 0s 4ms/step - loss: 3.0902e-05 - val_loss: 3.2631e-05\nEpoch 388/400\n9/9 [==============================] - 0s 4ms/step - loss: 3.0826e-05 - val_loss: 3.2677e-05\nEpoch 389/400\n9/9 [==============================] - 0s 4ms/step - loss: 3.0912e-05 - val_loss: 3.2645e-05\nEpoch 390/400\n9/9 [==============================] - 0s 4ms/step - loss: 3.0838e-05 - val_loss: 3.2650e-05\nEpoch 391/400\n9/9 [==============================] - 0s 4ms/step - loss: 3.0828e-05 - val_loss: 3.2650e-05\nEpoch 392/400\n9/9 [==============================] - 0s 4ms/step - loss: 3.0822e-05 - val_loss: 3.2945e-05\nEpoch 393/400\n9/9 [==============================] - 0s 4ms/step - loss: 3.0948e-05 - val_loss: 3.2784e-05\nEpoch 394/400\n9/9 [==============================] - 0s 4ms/step - loss: 3.0900e-05 - val_loss: 3.2664e-05\nEpoch 395/400\n9/9 [==============================] - 0s 4ms/step - loss: 3.0983e-05 - val_loss: 3.2972e-05\nEpoch 396/400\n9/9 [==============================] - 0s 5ms/step - loss: 3.0991e-05 - val_loss: 3.2861e-05\nEpoch 397/400\n9/9 [==============================] - 0s 4ms/step - loss: 3.0929e-05 - val_loss: 3.2921e-05\nEpoch 398/400\n9/9 [==============================] - 0s 4ms/step - loss: 3.0880e-05 - val_loss: 3.2751e-05\nEpoch 399/400\n9/9 [==============================] - 0s 4ms/step - loss: 3.0940e-05 - val_loss: 3.2793e-05\nEpoch 400/400\n9/9 [==============================] - 0s 4ms/step - loss: 3.0902e-05 - val_loss: 3.2891e-05\n",
     "output_type": "stream"
    }
   ],
   "execution_count": null
  },
  {
   "cell_type": "code",
   "source": "plt.clf()\nloss = history2.history['loss']\nval_loss = history2.history['val_loss']\nprint(min(val_loss))\nplt.figure(figsize=(16,6))\nplt.plot(range(1,nepochs+1), loss, 'b', label='loss',color=\"blue\")\nplt.plot(range(1,nepochs+1), val_loss, 'b', label='validation loss',color=\"red\")\n\nplt.xlabel('Epochs',fontsize=16)\nplt.ylabel('Loss',fontsize=16)\nplt.grid(True)\nplt.legend(loc = 'upper right',fontsize=16)\n\nplt.show()",
   "metadata": {
    "cell_id": "c16d95eb0d984e968d44c782c3658ff3",
    "tags": [],
    "deepnote_to_be_reexecuted": false,
    "source_hash": "9a1b8a23",
    "execution_start": 1659751459890,
    "execution_millis": 227,
    "deepnote_app_coordinates": {
     "x": 0,
     "y": 223,
     "w": 12,
     "h": 5
    },
    "deepnote_cell_type": "code",
    "deepnote_cell_height": 829.125,
    "deepnote_output_heights": [
     null,
     21.1875,
     320
    ]
   },
   "outputs": [
    {
     "name": "stdout",
     "text": "3.2560117688262835e-05\n/tmp/ipykernel_25423/388196841.py:6: UserWarning: color is redundantly defined by the 'color' keyword argument and the fmt string \"b\" (-> color=(0.0, 0.0, 1.0, 1)). The keyword argument will take precedence.\n  plt.plot(range(1,nepochs+1), loss, 'b', label='loss',color=\"blue\")\n/tmp/ipykernel_25423/388196841.py:7: UserWarning: color is redundantly defined by the 'color' keyword argument and the fmt string \"b\" (-> color=(0.0, 0.0, 1.0, 1)). The keyword argument will take precedence.\n  plt.plot(range(1,nepochs+1), val_loss, 'b', label='validation loss',color=\"red\")\n",
     "output_type": "stream"
    },
    {
     "data": {
      "text/plain": "<Figure size 432x288 with 0 Axes>"
     },
     "metadata": {},
     "output_type": "display_data"
    },
    {
     "data": {
      "text/plain": "<Figure size 1152x432 with 1 Axes>",
      "image/png": "[encoded data removed]"
     },
     "metadata": {
      "needs_background": "light",
      "image/png": {
       "width": 974,
       "height": 376
      }
     },
     "output_type": "display_data"
    }
   ],
   "execution_count": null
  },
  {
   "cell_type": "code",
   "source": "X_train, X_test, y_train, y_test = train_test_split(CPI_monthly[[\"CPI\",\"Goldprice\"]],\n                                                    CPI_monthly[\"CPI\"],\n                                                    test_size=0.2)",
   "metadata": {
    "cell_id": "45a0ea3e5adf46c2b7e82d8b54ac5784",
    "tags": [],
    "deepnote_to_be_reexecuted": false,
    "source_hash": "91cb5536",
    "execution_start": 1659751460121,
    "execution_millis": 5,
    "deepnote_app_coordinates": {
     "x": 0,
     "y": 229,
     "w": 12,
     "h": 5
    },
    "deepnote_cell_type": "code",
    "deepnote_cell_height": 112
   },
   "outputs": [],
   "execution_count": null
  },
  {
   "cell_type": "code",
   "source": "model3 = models.Sequential()\nmodel3.add(Dense(32, input_shape=(2,), activation='relu'))\nmodel3.add(Dense(32,activation='relu'))\nmodel3.add(Dense(64,activation='relu'))\nmodel3.add(Dense(32,activation='relu'))\nmodel3.summary()\n",
   "metadata": {
    "cell_id": "3825cce6e3f4465fa354bcf3c022e0ad",
    "tags": [],
    "deepnote_to_be_reexecuted": false,
    "source_hash": "aeb1a416",
    "execution_start": 1659751460131,
    "execution_millis": 58,
    "deepnote_app_coordinates": {
     "x": 0,
     "y": 235,
     "w": 12,
     "h": 5
    },
    "deepnote_cell_type": "code",
    "deepnote_cell_height": 538.1875
   },
   "outputs": [
    {
     "name": "stdout",
     "text": "Model: \"sequential_4\"\n_________________________________________________________________\n Layer (type)                Output Shape              Param #   \n=================================================================\n dense_12 (Dense)            (None, 32)                96        \n                                                                 \n dense_13 (Dense)            (None, 32)                1056      \n                                                                 \n dense_14 (Dense)            (None, 64)                2112      \n                                                                 \n dense_15 (Dense)            (None, 32)                2080      \n                                                                 \n=================================================================\nTotal params: 5,344\nTrainable params: 5,344\nNon-trainable params: 0\n_________________________________________________________________\n",
     "output_type": "stream"
    }
   ],
   "execution_count": null
  },
  {
   "cell_type": "code",
   "source": "y_train = y_train/10**4\ny_test = y_test/10**4\n\nscaler = StandardScaler()\nX_train = scaler.fit_transform(X_train)\nX_test  = scaler.transform(X_test)",
   "metadata": {
    "cell_id": "2d7f4fdb89344ec0ba8652c4b8ea1b05",
    "tags": [],
    "deepnote_to_be_reexecuted": false,
    "source_hash": "156d93ab",
    "execution_start": 1659751460237,
    "execution_millis": 1,
    "deepnote_app_coordinates": {
     "x": 0,
     "y": 241,
     "w": 12,
     "h": 5
    },
    "deepnote_cell_type": "code",
    "deepnote_cell_height": 166
   },
   "outputs": [],
   "execution_count": null
  },
  {
   "cell_type": "code",
   "source": "model3.compile(loss='mse', optimizer='Adam')",
   "metadata": {
    "cell_id": "88c832daa6f14901933d9583c72a16a7",
    "tags": [],
    "deepnote_to_be_reexecuted": false,
    "source_hash": "9184fac5",
    "execution_start": 1659751460238,
    "execution_millis": 0,
    "deepnote_app_coordinates": {
     "x": 0,
     "y": 247,
     "w": 12,
     "h": 5
    },
    "deepnote_cell_type": "code",
    "deepnote_cell_height": 76
   },
   "outputs": [],
   "execution_count": null
  },
  {
   "cell_type": "code",
   "source": "nepochs = 400\nhistory3 = model3.fit(X_train, y_train,\n          batch_size=128, epochs=nepochs,\n          verbose=1,\n          validation_data=(X_test, y_test))",
   "metadata": {
    "cell_id": "ba863d4e2c664fdf8bd3b16649d131b0",
    "tags": [],
    "deepnote_to_be_reexecuted": false,
    "source_hash": "27741a1b",
    "execution_start": 1659751460238,
    "execution_millis": 16186,
    "deepnote_app_coordinates": {
     "x": 0,
     "y": 253,
     "w": 12,
     "h": 5
    },
    "deepnote_cell_type": "code",
    "deepnote_cell_height": 768
   },
   "outputs": [
    {
     "name": "stdout",
     "text": "Epoch 1/400\n9/9 [==============================] - 0s 16ms/step - loss: 0.0034 - val_loss: 8.6696e-04\nEpoch 2/400\n9/9 [==============================] - 0s 4ms/step - loss: 4.2654e-04 - val_loss: 1.5832e-04\nEpoch 3/400\n9/9 [==============================] - 0s 5ms/step - loss: 1.1998e-04 - val_loss: 1.1294e-04\nEpoch 4/400\n9/9 [==============================] - 0s 4ms/step - loss: 9.7111e-05 - val_loss: 1.0489e-04\nEpoch 5/400\n9/9 [==============================] - 0s 4ms/step - loss: 8.8978e-05 - val_loss: 9.5767e-05\nEpoch 6/400\n9/9 [==============================] - 0s 4ms/step - loss: 8.3553e-05 - val_loss: 9.1378e-05\nEpoch 7/400\n9/9 [==============================] - 0s 6ms/step - loss: 7.8737e-05 - val_loss: 8.2934e-05\nEpoch 8/400\n9/9 [==============================] - 0s 4ms/step - loss: 7.4149e-05 - val_loss: 7.9999e-05\nEpoch 9/400\n9/9 [==============================] - 0s 4ms/step - loss: 7.1709e-05 - val_loss: 7.8287e-05\nEpoch 10/400\n9/9 [==============================] - 0s 4ms/step - loss: 6.9957e-05 - val_loss: 7.4351e-05\nEpoch 11/400\n9/9 [==============================] - 0s 4ms/step - loss: 6.6583e-05 - val_loss: 6.9560e-05\nEpoch 12/400\n9/9 [==============================] - 0s 4ms/step - loss: 6.2326e-05 - val_loss: 6.6483e-05\nEpoch 13/400\n9/9 [==============================] - 0s 4ms/step - loss: 5.9857e-05 - val_loss: 6.3722e-05\nEpoch 14/400\n9/9 [==============================] - 0s 4ms/step - loss: 5.8196e-05 - val_loss: 6.1946e-05\nEpoch 15/400\n9/9 [==============================] - 0s 4ms/step - loss: 5.6814e-05 - val_loss: 5.8639e-05\nEpoch 16/400\n9/9 [==============================] - 0s 5ms/step - loss: 5.4360e-05 - val_loss: 5.6950e-05\nEpoch 17/400\n9/9 [==============================] - 0s 4ms/step - loss: 5.2785e-05 - val_loss: 5.5036e-05\nEpoch 18/400\n9/9 [==============================] - 0s 4ms/step - loss: 5.1005e-05 - val_loss: 5.2651e-05\nEpoch 19/400\n9/9 [==============================] - 0s 4ms/step - loss: 4.8540e-05 - val_loss: 4.9698e-05\nEpoch 20/400\n9/9 [==============================] - 0s 4ms/step - loss: 4.6606e-05 - val_loss: 4.7998e-05\nEpoch 21/400\n9/9 [==============================] - 0s 4ms/step - loss: 4.4815e-05 - val_loss: 4.6668e-05\nEpoch 22/400\n9/9 [==============================] - 0s 4ms/step - loss: 4.3080e-05 - val_loss: 4.5196e-05\nEpoch 23/400\n9/9 [==============================] - 0s 5ms/step - loss: 4.0679e-05 - val_loss: 4.2418e-05\nEpoch 24/400\n9/9 [==============================] - 0s 8ms/step - loss: 3.7576e-05 - val_loss: 3.9711e-05\nEpoch 25/400\n9/9 [==============================] - 0s 4ms/step - loss: 3.5522e-05 - val_loss: 3.8215e-05\nEpoch 26/400\n9/9 [==============================] - 0s 4ms/step - loss: 3.3776e-05 - val_loss: 3.6723e-05\nEpoch 27/400\n9/9 [==============================] - 0s 4ms/step - loss: 3.2146e-05 - val_loss: 3.5332e-05\nEpoch 28/400\n9/9 [==============================] - 0s 5ms/step - loss: 3.0496e-05 - val_loss: 3.3749e-05\nEpoch 29/400\n9/9 [==============================] - 0s 4ms/step - loss: 2.9392e-05 - val_loss: 3.2895e-05\nEpoch 30/400\n9/9 [==============================] - 0s 4ms/step - loss: 2.7957e-05 - val_loss: 3.0244e-05\nEpoch 31/400\n9/9 [==============================] - 0s 4ms/step - loss: 2.6135e-05 - val_loss: 2.8799e-05\nEpoch 32/400\n9/9 [==============================] - 0s 4ms/step - loss: 2.5019e-05 - val_loss: 2.7982e-05\nEpoch 33/400\n9/9 [==============================] - 0s 7ms/step - loss: 2.4288e-05 - val_loss: 2.7292e-05\nEpoch 34/400\n9/9 [==============================] - 0s 8ms/step - loss: 2.2973e-05 - val_loss: 2.5568e-05\nEpoch 35/400\n9/9 [==============================] - 0s 5ms/step - loss: 2.1366e-05 - val_loss: 2.3416e-05\nEpoch 36/400\n9/9 [==============================] - 0s 4ms/step - loss: 2.0442e-05 - val_loss: 2.2861e-05\nEpoch 37/400\n9/9 [==============================] - 0s 4ms/step - loss: 1.9947e-05 - val_loss: 2.2499e-05\nEpoch 38/400\n9/9 [==============================] - 0s 4ms/step - loss: 1.9670e-05 - val_loss: 2.2257e-05\nEpoch 39/400\n9/9 [==============================] - 0s 4ms/step - loss: 1.9502e-05 - val_loss: 2.2138e-05\nEpoch 40/400\n9/9 [==============================] - 0s 5ms/step - loss: 1.9364e-05 - val_loss: 2.1946e-05\nEpoch 41/400\n9/9 [==============================] - 0s 4ms/step - loss: 1.9198e-05 - val_loss: 2.1764e-05\nEpoch 42/400\n9/9 [==============================] - 0s 4ms/step - loss: 1.9075e-05 - val_loss: 2.1681e-05\nEpoch 43/400\n9/9 [==============================] - 0s 4ms/step - loss: 1.8999e-05 - val_loss: 2.1654e-05\nEpoch 44/400\n9/9 [==============================] - 0s 4ms/step - loss: 1.8863e-05 - val_loss: 2.1331e-05\nEpoch 45/400\n9/9 [==============================] - 0s 4ms/step - loss: 1.8124e-05 - val_loss: 2.0754e-05\nEpoch 46/400\n9/9 [==============================] - 0s 4ms/step - loss: 1.7610e-05 - val_loss: 2.0503e-05\nEpoch 47/400\n9/9 [==============================] - 0s 7ms/step - loss: 1.7255e-05 - val_loss: 1.8790e-05\nEpoch 48/400\n9/9 [==============================] - 0s 4ms/step - loss: 1.5769e-05 - val_loss: 1.7492e-05\nEpoch 49/400\n9/9 [==============================] - 0s 5ms/step - loss: 1.5215e-05 - val_loss: 1.7334e-05\nEpoch 50/400\n9/9 [==============================] - 0s 4ms/step - loss: 1.5059e-05 - val_loss: 1.7164e-05\nEpoch 51/400\n9/9 [==============================] - 0s 4ms/step - loss: 1.4932e-05 - val_loss: 1.6970e-05\nEpoch 52/400\n9/9 [==============================] - 0s 4ms/step - loss: 1.4784e-05 - val_loss: 1.6863e-05\nEpoch 53/400\n9/9 [==============================] - 0s 4ms/step - loss: 1.4709e-05 - val_loss: 1.6829e-05\nEpoch 54/400\n9/9 [==============================] - 0s 4ms/step - loss: 1.4663e-05 - val_loss: 1.6770e-05\nEpoch 55/400\n9/9 [==============================] - 0s 4ms/step - loss: 1.4614e-05 - val_loss: 1.6707e-05\nEpoch 56/400\n9/9 [==============================] - 0s 4ms/step - loss: 1.4575e-05 - val_loss: 1.6721e-05\nEpoch 57/400\n9/9 [==============================] - 0s 4ms/step - loss: 1.4557e-05 - val_loss: 1.6625e-05\nEpoch 58/400\n9/9 [==============================] - 0s 5ms/step - loss: 1.4534e-05 - val_loss: 1.6634e-05\nEpoch 59/400\n9/9 [==============================] - 0s 4ms/step - loss: 1.4477e-05 - val_loss: 1.6561e-05\nEpoch 60/400\n9/9 [==============================] - 0s 4ms/step - loss: 1.4479e-05 - val_loss: 1.6568e-05\nEpoch 61/400\n9/9 [==============================] - 0s 4ms/step - loss: 1.4445e-05 - val_loss: 1.6525e-05\nEpoch 62/400\n9/9 [==============================] - 0s 4ms/step - loss: 1.4424e-05 - val_loss: 1.6520e-05\nEpoch 63/400\n9/9 [==============================] - 0s 4ms/step - loss: 1.4397e-05 - val_loss: 1.6487e-05\nEpoch 64/400\n9/9 [==============================] - 0s 4ms/step - loss: 1.4384e-05 - val_loss: 1.6432e-05\nEpoch 65/400\n9/9 [==============================] - 0s 4ms/step - loss: 1.4372e-05 - val_loss: 1.6402e-05\nEpoch 66/400\n9/9 [==============================] - 0s 5ms/step - loss: 1.4330e-05 - val_loss: 1.6369e-05\nEpoch 67/400\n9/9 [==============================] - 0s 4ms/step - loss: 1.4271e-05 - val_loss: 1.6332e-05\nEpoch 68/400\n9/9 [==============================] - 0s 4ms/step - loss: 1.4243e-05 - val_loss: 1.6286e-05\nEpoch 69/400\n9/9 [==============================] - 0s 4ms/step - loss: 1.4209e-05 - val_loss: 1.6276e-05\nEpoch 70/400\n9/9 [==============================] - 0s 4ms/step - loss: 1.4196e-05 - val_loss: 1.6270e-05\nEpoch 71/400\n9/9 [==============================] - 0s 4ms/step - loss: 1.4177e-05 - val_loss: 1.6244e-05\nEpoch 72/400\n9/9 [==============================] - 0s 4ms/step - loss: 1.4176e-05 - val_loss: 1.6233e-05\nEpoch 73/400\n9/9 [==============================] - 0s 4ms/step - loss: 1.4160e-05 - val_loss: 1.6212e-05\nEpoch 74/400\n9/9 [==============================] - 0s 4ms/step - loss: 1.4141e-05 - val_loss: 1.6215e-05\nEpoch 75/400\n9/9 [==============================] - 0s 4ms/step - loss: 1.4154e-05 - val_loss: 1.6168e-05\nEpoch 76/400\n9/9 [==============================] - 0s 4ms/step - loss: 1.4118e-05 - val_loss: 1.6170e-05\nEpoch 77/400\n9/9 [==============================] - 0s 4ms/step - loss: 1.4115e-05 - val_loss: 1.6132e-05\nEpoch 78/400\n9/9 [==============================] - 0s 4ms/step - loss: 1.4089e-05 - val_loss: 1.6136e-05\nEpoch 79/400\n9/9 [==============================] - 0s 4ms/step - loss: 1.4092e-05 - val_loss: 1.6076e-05\nEpoch 80/400\n9/9 [==============================] - 0s 4ms/step - loss: 1.4055e-05 - val_loss: 1.6069e-05\nEpoch 81/400\n9/9 [==============================] - 0s 4ms/step - loss: 1.4028e-05 - val_loss: 1.6071e-05\nEpoch 82/400\n9/9 [==============================] - 0s 4ms/step - loss: 1.4026e-05 - val_loss: 1.6009e-05\nEpoch 83/400\n9/9 [==============================] - 0s 4ms/step - loss: 1.3995e-05 - val_loss: 1.5969e-05\nEpoch 84/400\n9/9 [==============================] - 0s 4ms/step - loss: 1.3980e-05 - val_loss: 1.5982e-05\nEpoch 85/400\n9/9 [==============================] - 0s 7ms/step - loss: 1.3540e-05 - val_loss: 1.5178e-05\nEpoch 86/400\n9/9 [==============================] - 0s 4ms/step - loss: 1.2713e-05 - val_loss: 1.5054e-05\nEpoch 87/400\n9/9 [==============================] - 0s 7ms/step - loss: 1.2496e-05 - val_loss: 1.4881e-05\nEpoch 88/400\n9/9 [==============================] - 0s 5ms/step - loss: 1.2316e-05 - val_loss: 1.4733e-05\nEpoch 89/400\n9/9 [==============================] - 0s 5ms/step - loss: 1.2230e-05 - val_loss: 1.4648e-05\nEpoch 90/400\n9/9 [==============================] - 0s 4ms/step - loss: 1.2159e-05 - val_loss: 1.4583e-05\nEpoch 91/400\n9/9 [==============================] - 0s 6ms/step - loss: 1.2098e-05 - val_loss: 1.4589e-05\nEpoch 92/400\n9/9 [==============================] - 0s 4ms/step - loss: 1.2045e-05 - val_loss: 1.3191e-05\nEpoch 93/400\n9/9 [==============================] - 0s 4ms/step - loss: 1.1044e-05 - val_loss: 1.2178e-05\nEpoch 94/400\n9/9 [==============================] - 0s 4ms/step - loss: 1.0631e-05 - val_loss: 1.1931e-05\nEpoch 95/400\n9/9 [==============================] - 0s 4ms/step - loss: 1.0413e-05 - val_loss: 1.1797e-05\nEpoch 96/400\n9/9 [==============================] - 0s 4ms/step - loss: 1.0279e-05 - val_loss: 1.1668e-05\nEpoch 97/400\n9/9 [==============================] - 0s 4ms/step - loss: 1.0221e-05 - val_loss: 1.1594e-05\nEpoch 98/400\n9/9 [==============================] - 0s 4ms/step - loss: 1.0181e-05 - val_loss: 1.1558e-05\nEpoch 99/400\n9/9 [==============================] - 0s 4ms/step - loss: 1.0159e-05 - val_loss: 1.1578e-05\nEpoch 100/400\n9/9 [==============================] - 0s 4ms/step - loss: 1.0164e-05 - val_loss: 1.1509e-05\nEpoch 101/400\n9/9 [==============================] - 0s 4ms/step - loss: 1.0139e-05 - val_loss: 1.1534e-05\nEpoch 102/400\n9/9 [==============================] - 0s 5ms/step - loss: 1.0100e-05 - val_loss: 1.1553e-05\nEpoch 103/400\n9/9 [==============================] - 0s 4ms/step - loss: 1.0101e-05 - val_loss: 1.1463e-05\nEpoch 104/400\n9/9 [==============================] - 0s 4ms/step - loss: 1.0070e-05 - val_loss: 1.1410e-05\nEpoch 105/400\n9/9 [==============================] - 0s 4ms/step - loss: 1.0018e-05 - val_loss: 1.1345e-05\nEpoch 106/400\n9/9 [==============================] - 0s 4ms/step - loss: 9.9576e-06 - val_loss: 1.1317e-05\nEpoch 107/400\n9/9 [==============================] - 0s 4ms/step - loss: 9.9015e-06 - val_loss: 1.1248e-05\nEpoch 108/400\n9/9 [==============================] - 0s 4ms/step - loss: 9.8617e-06 - val_loss: 1.1196e-05\nEpoch 109/400\n9/9 [==============================] - 0s 4ms/step - loss: 9.8337e-06 - val_loss: 1.1155e-05\nEpoch 110/400\n9/9 [==============================] - 0s 4ms/step - loss: 9.8074e-06 - val_loss: 1.1130e-05\nEpoch 111/400\n9/9 [==============================] - 0s 5ms/step - loss: 9.7809e-06 - val_loss: 1.1166e-05\nEpoch 112/400\n9/9 [==============================] - 0s 4ms/step - loss: 9.8102e-06 - val_loss: 1.1129e-05\nEpoch 113/400\n9/9 [==============================] - 0s 4ms/step - loss: 9.7639e-06 - val_loss: 1.1125e-05\nEpoch 114/400\n9/9 [==============================] - 0s 4ms/step - loss: 9.7529e-06 - val_loss: 1.1051e-05\nEpoch 115/400\n9/9 [==============================] - 0s 4ms/step - loss: 9.7047e-06 - val_loss: 1.1044e-05\nEpoch 116/400\n9/9 [==============================] - 0s 4ms/step - loss: 9.6954e-06 - val_loss: 1.1028e-05\nEpoch 117/400\n9/9 [==============================] - 0s 4ms/step - loss: 9.6813e-06 - val_loss: 1.1022e-05\nEpoch 118/400\n9/9 [==============================] - 0s 4ms/step - loss: 9.6865e-06 - val_loss: 1.1023e-05\nEpoch 119/400\n9/9 [==============================] - 0s 4ms/step - loss: 9.6525e-06 - val_loss: 1.0989e-05\nEpoch 120/400\n9/9 [==============================] - 0s 4ms/step - loss: 9.6436e-06 - val_loss: 1.0991e-05\nEpoch 121/400\n9/9 [==============================] - 0s 4ms/step - loss: 9.6291e-06 - val_loss: 1.0943e-05\nEpoch 122/400\n9/9 [==============================] - 0s 7ms/step - loss: 9.5984e-06 - val_loss: 1.0913e-05\nEpoch 123/400\n9/9 [==============================] - 0s 5ms/step - loss: 9.5760e-06 - val_loss: 1.0904e-05\nEpoch 124/400\n9/9 [==============================] - 0s 4ms/step - loss: 9.5576e-06 - val_loss: 1.0887e-05\nEpoch 125/400\n9/9 [==============================] - 0s 4ms/step - loss: 9.5369e-06 - val_loss: 1.0858e-05\nEpoch 126/400\n9/9 [==============================] - 0s 4ms/step - loss: 9.5220e-06 - val_loss: 1.0902e-05\nEpoch 127/400\n9/9 [==============================] - 0s 4ms/step - loss: 9.5405e-06 - val_loss: 1.0871e-05\nEpoch 128/400\n9/9 [==============================] - 0s 5ms/step - loss: 9.5175e-06 - val_loss: 1.0903e-05\nEpoch 129/400\n9/9 [==============================] - 0s 4ms/step - loss: 9.6863e-06 - val_loss: 1.0976e-05\nEpoch 130/400\n9/9 [==============================] - 0s 4ms/step - loss: 9.6111e-06 - val_loss: 1.0842e-05\nEpoch 131/400\n9/9 [==============================] - 0s 5ms/step - loss: 9.5338e-06 - val_loss: 1.0860e-05\nEpoch 132/400\n9/9 [==============================] - 0s 4ms/step - loss: 9.5048e-06 - val_loss: 1.0779e-05\nEpoch 133/400\n9/9 [==============================] - 0s 4ms/step - loss: 9.4546e-06 - val_loss: 1.0786e-05\nEpoch 134/400\n9/9 [==============================] - 0s 4ms/step - loss: 9.4495e-06 - val_loss: 1.0760e-05\nEpoch 135/400\n9/9 [==============================] - 0s 4ms/step - loss: 9.4136e-06 - val_loss: 1.0719e-05\nEpoch 136/400\n9/9 [==============================] - 0s 4ms/step - loss: 9.3969e-06 - val_loss: 1.0751e-05\nEpoch 137/400\n9/9 [==============================] - 0s 6ms/step - loss: 9.4041e-06 - val_loss: 1.0709e-05\nEpoch 138/400\n9/9 [==============================] - 0s 5ms/step - loss: 9.3632e-06 - val_loss: 1.0650e-05\nEpoch 139/400\n9/9 [==============================] - 0s 4ms/step - loss: 9.3459e-06 - val_loss: 1.0650e-05\nEpoch 140/400\n9/9 [==============================] - 0s 4ms/step - loss: 9.3365e-06 - val_loss: 1.0726e-05\nEpoch 141/400\n9/9 [==============================] - 0s 4ms/step - loss: 9.3920e-06 - val_loss: 1.0648e-05\nEpoch 142/400\n9/9 [==============================] - 0s 4ms/step - loss: 9.3571e-06 - val_loss: 1.0696e-05\nEpoch 143/400\n9/9 [==============================] - 0s 5ms/step - loss: 9.3433e-06 - val_loss: 1.0657e-05\nEpoch 144/400\n9/9 [==============================] - 0s 4ms/step - loss: 9.3507e-06 - val_loss: 1.0632e-05\nEpoch 145/400\n9/9 [==============================] - 0s 4ms/step - loss: 9.3177e-06 - val_loss: 1.0586e-05\nEpoch 146/400\n9/9 [==============================] - 0s 4ms/step - loss: 9.2994e-06 - val_loss: 1.0568e-05\nEpoch 147/400\n9/9 [==============================] - 0s 4ms/step - loss: 9.2782e-06 - val_loss: 1.0551e-05\nEpoch 148/400\n9/9 [==============================] - 0s 4ms/step - loss: 9.2690e-06 - val_loss: 1.0550e-05\nEpoch 149/400\n9/9 [==============================] - 0s 4ms/step - loss: 9.2703e-06 - val_loss: 1.0547e-05\nEpoch 150/400\n9/9 [==============================] - 0s 4ms/step - loss: 9.2752e-06 - val_loss: 1.0600e-05\nEpoch 151/400\n9/9 [==============================] - 0s 4ms/step - loss: 9.2618e-06 - val_loss: 1.0530e-05\nEpoch 152/400\n9/9 [==============================] - 0s 4ms/step - loss: 9.2431e-06 - val_loss: 1.0512e-05\nEpoch 153/400\n9/9 [==============================] - 0s 4ms/step - loss: 9.2203e-06 - val_loss: 1.0491e-05\nEpoch 154/400\n9/9 [==============================] - 0s 5ms/step - loss: 9.2180e-06 - val_loss: 1.0491e-05\nEpoch 155/400\n9/9 [==============================] - 0s 4ms/step - loss: 9.2023e-06 - val_loss: 1.0491e-05\nEpoch 156/400\n9/9 [==============================] - 0s 4ms/step - loss: 9.1947e-06 - val_loss: 1.0478e-05\nEpoch 157/400\n9/9 [==============================] - 0s 4ms/step - loss: 9.1894e-06 - val_loss: 1.0485e-05\nEpoch 158/400\n9/9 [==============================] - 0s 4ms/step - loss: 9.2046e-06 - val_loss: 1.0482e-05\nEpoch 159/400\n9/9 [==============================] - 0s 4ms/step - loss: 9.1933e-06 - val_loss: 1.0458e-05\nEpoch 160/400\n9/9 [==============================] - 0s 4ms/step - loss: 9.1642e-06 - val_loss: 1.0437e-05\nEpoch 161/400\n9/9 [==============================] - 0s 4ms/step - loss: 9.1570e-06 - val_loss: 1.0435e-05\nEpoch 162/400\n9/9 [==============================] - 0s 4ms/step - loss: 9.1650e-06 - val_loss: 1.0432e-05\nEpoch 163/400\n9/9 [==============================] - 0s 4ms/step - loss: 9.1543e-06 - val_loss: 1.0443e-05\nEpoch 164/400\n9/9 [==============================] - 0s 5ms/step - loss: 9.1612e-06 - val_loss: 1.0456e-05\nEpoch 165/400\n9/9 [==============================] - 0s 4ms/step - loss: 9.1789e-06 - val_loss: 1.0505e-05\nEpoch 166/400\n9/9 [==============================] - 0s 4ms/step - loss: 9.1837e-06 - val_loss: 1.0468e-05\nEpoch 167/400\n9/9 [==============================] - 0s 4ms/step - loss: 9.1579e-06 - val_loss: 1.0415e-05\nEpoch 168/400\n9/9 [==============================] - 0s 4ms/step - loss: 9.1409e-06 - val_loss: 1.0409e-05\nEpoch 169/400\n9/9 [==============================] - 0s 4ms/step - loss: 9.1276e-06 - val_loss: 1.0436e-05\nEpoch 170/400\n9/9 [==============================] - 0s 5ms/step - loss: 9.1449e-06 - val_loss: 1.0446e-05\nEpoch 171/400\n9/9 [==============================] - 0s 4ms/step - loss: 9.1400e-06 - val_loss: 1.0449e-05\nEpoch 172/400\n9/9 [==============================] - 0s 4ms/step - loss: 9.1520e-06 - val_loss: 1.0441e-05\nEpoch 173/400\n9/9 [==============================] - 0s 4ms/step - loss: 9.1352e-06 - val_loss: 1.0447e-05\nEpoch 174/400\n9/9 [==============================] - 0s 11ms/step - loss: 9.1628e-06 - val_loss: 1.0395e-05\nEpoch 175/400\n9/9 [==============================] - 0s 4ms/step - loss: 9.0759e-06 - val_loss: 1.0317e-05\nEpoch 176/400\n9/9 [==============================] - 0s 4ms/step - loss: 9.0350e-06 - val_loss: 1.0294e-05\nEpoch 177/400\n9/9 [==============================] - 0s 4ms/step - loss: 9.0335e-06 - val_loss: 1.0292e-05\nEpoch 178/400\n9/9 [==============================] - 0s 4ms/step - loss: 9.0205e-06 - val_loss: 1.0287e-05\nEpoch 179/400\n9/9 [==============================] - 0s 4ms/step - loss: 9.0115e-06 - val_loss: 1.0318e-05\nEpoch 180/400\n9/9 [==============================] - 0s 4ms/step - loss: 9.0208e-06 - val_loss: 1.0264e-05\nEpoch 181/400\n9/9 [==============================] - 0s 4ms/step - loss: 9.0130e-06 - val_loss: 1.0257e-05\nEpoch 182/400\n9/9 [==============================] - 0s 4ms/step - loss: 9.0063e-06 - val_loss: 1.0253e-05\nEpoch 183/400\n9/9 [==============================] - 0s 4ms/step - loss: 9.0039e-06 - val_loss: 1.0263e-05\nEpoch 184/400\n9/9 [==============================] - 0s 4ms/step - loss: 8.9957e-06 - val_loss: 1.0246e-05\nEpoch 185/400\n9/9 [==============================] - 0s 4ms/step - loss: 8.9971e-06 - val_loss: 1.0247e-05\nEpoch 186/400\n9/9 [==============================] - 0s 4ms/step - loss: 8.9989e-06 - val_loss: 1.0251e-05\nEpoch 187/400\n9/9 [==============================] - 0s 4ms/step - loss: 8.9941e-06 - val_loss: 1.0243e-05\nEpoch 188/400\n9/9 [==============================] - 0s 5ms/step - loss: 8.9927e-06 - val_loss: 1.0238e-05\nEpoch 189/400\n9/9 [==============================] - 0s 4ms/step - loss: 8.9817e-06 - val_loss: 1.0237e-05\nEpoch 190/400\n9/9 [==============================] - 0s 8ms/step - loss: 8.9896e-06 - val_loss: 1.0226e-05\nEpoch 191/400\n9/9 [==============================] - 0s 4ms/step - loss: 8.9783e-06 - val_loss: 1.0233e-05\nEpoch 192/400\n9/9 [==============================] - 0s 4ms/step - loss: 8.9733e-06 - val_loss: 1.0217e-05\nEpoch 193/400\n9/9 [==============================] - 0s 4ms/step - loss: 8.9723e-06 - val_loss: 1.0224e-05\nEpoch 194/400\n9/9 [==============================] - 0s 7ms/step - loss: 8.9929e-06 - val_loss: 1.0217e-05\nEpoch 195/400\n9/9 [==============================] - 0s 4ms/step - loss: 8.9806e-06 - val_loss: 1.0212e-05\nEpoch 196/400\n9/9 [==============================] - 0s 4ms/step - loss: 8.9693e-06 - val_loss: 1.0210e-05\nEpoch 197/400\n9/9 [==============================] - 0s 4ms/step - loss: 8.9644e-06 - val_loss: 1.0225e-05\nEpoch 198/400\n9/9 [==============================] - 0s 4ms/step - loss: 8.9698e-06 - val_loss: 1.0221e-05\nEpoch 199/400\n9/9 [==============================] - 0s 4ms/step - loss: 8.9685e-06 - val_loss: 1.0207e-05\nEpoch 200/400\n9/9 [==============================] - 0s 4ms/step - loss: 8.9695e-06 - val_loss: 1.0201e-05\nEpoch 201/400\n9/9 [==============================] - 0s 4ms/step - loss: 8.9618e-06 - val_loss: 1.0178e-05\nEpoch 202/400\n9/9 [==============================] - 0s 5ms/step - loss: 8.9499e-06 - val_loss: 1.0179e-05\nEpoch 203/400\n9/9 [==============================] - 0s 4ms/step - loss: 8.9476e-06 - val_loss: 1.0186e-05\nEpoch 204/400\n9/9 [==============================] - 0s 5ms/step - loss: 8.9438e-06 - val_loss: 1.0164e-05\nEpoch 205/400\n9/9 [==============================] - 0s 4ms/step - loss: 8.9388e-06 - val_loss: 1.0169e-05\nEpoch 206/400\n9/9 [==============================] - 0s 4ms/step - loss: 8.9417e-06 - val_loss: 1.0198e-05\nEpoch 207/400\n9/9 [==============================] - 0s 4ms/step - loss: 8.9456e-06 - val_loss: 1.0189e-05\nEpoch 208/400\n9/9 [==============================] - 0s 4ms/step - loss: 8.9443e-06 - val_loss: 1.0198e-05\nEpoch 209/400\n9/9 [==============================] - 0s 4ms/step - loss: 8.9513e-06 - val_loss: 1.0207e-05\nEpoch 210/400\n9/9 [==============================] - 0s 4ms/step - loss: 8.9600e-06 - val_loss: 1.0194e-05\nEpoch 211/400\n9/9 [==============================] - 0s 4ms/step - loss: 8.9553e-06 - val_loss: 1.0168e-05\nEpoch 212/400\n9/9 [==============================] - 0s 4ms/step - loss: 8.9315e-06 - val_loss: 1.0185e-05\nEpoch 213/400\n9/9 [==============================] - 0s 4ms/step - loss: 8.9410e-06 - val_loss: 1.0152e-05\nEpoch 214/400\n9/9 [==============================] - 0s 4ms/step - loss: 8.9306e-06 - val_loss: 1.0187e-05\nEpoch 215/400\n9/9 [==============================] - 0s 4ms/step - loss: 8.9393e-06 - val_loss: 1.0167e-05\nEpoch 216/400\n9/9 [==============================] - 0s 5ms/step - loss: 8.9290e-06 - val_loss: 1.0154e-05\nEpoch 217/400\n9/9 [==============================] - 0s 4ms/step - loss: 8.9210e-06 - val_loss: 1.0162e-05\nEpoch 218/400\n9/9 [==============================] - 0s 4ms/step - loss: 8.9098e-06 - val_loss: 1.0129e-05\nEpoch 219/400\n9/9 [==============================] - 0s 4ms/step - loss: 8.9106e-06 - val_loss: 1.0136e-05\nEpoch 220/400\n9/9 [==============================] - 0s 7ms/step - loss: 8.9016e-06 - val_loss: 1.0132e-05\nEpoch 221/400\n9/9 [==============================] - 0s 4ms/step - loss: 8.8933e-06 - val_loss: 1.0138e-05\nEpoch 222/400\n9/9 [==============================] - 0s 4ms/step - loss: 8.8979e-06 - val_loss: 1.0142e-05\nEpoch 223/400\n9/9 [==============================] - 0s 4ms/step - loss: 8.8976e-06 - val_loss: 1.0130e-05\nEpoch 224/400\n9/9 [==============================] - 0s 4ms/step - loss: 8.8852e-06 - val_loss: 1.0107e-05\nEpoch 225/400\n9/9 [==============================] - 0s 4ms/step - loss: 8.8454e-06 - val_loss: 1.0079e-05\nEpoch 226/400\n9/9 [==============================] - 0s 4ms/step - loss: 8.8117e-06 - val_loss: 1.0035e-05\nEpoch 227/400\n9/9 [==============================] - 0s 4ms/step - loss: 8.7679e-06 - val_loss: 1.0046e-05\nEpoch 228/400\n9/9 [==============================] - 0s 4ms/step - loss: 8.7614e-06 - val_loss: 9.9608e-06\nEpoch 229/400\n9/9 [==============================] - 0s 4ms/step - loss: 8.7264e-06 - val_loss: 9.9869e-06\nEpoch 230/400\n9/9 [==============================] - 0s 4ms/step - loss: 8.7276e-06 - val_loss: 9.9525e-06\nEpoch 231/400\n9/9 [==============================] - 0s 4ms/step - loss: 8.7139e-06 - val_loss: 9.9652e-06\nEpoch 232/400\n9/9 [==============================] - 0s 4ms/step - loss: 8.7044e-06 - val_loss: 9.9274e-06\nEpoch 233/400\n9/9 [==============================] - 0s 4ms/step - loss: 8.6878e-06 - val_loss: 9.9336e-06\nEpoch 234/400\n9/9 [==============================] - 0s 4ms/step - loss: 8.6838e-06 - val_loss: 9.9423e-06\nEpoch 235/400\n9/9 [==============================] - 0s 4ms/step - loss: 8.6858e-06 - val_loss: 9.9309e-06\nEpoch 236/400\n9/9 [==============================] - 0s 4ms/step - loss: 8.6734e-06 - val_loss: 9.8997e-06\nEpoch 237/400\n9/9 [==============================] - 0s 4ms/step - loss: 8.6614e-06 - val_loss: 9.8868e-06\nEpoch 238/400\n9/9 [==============================] - 0s 4ms/step - loss: 8.6520e-06 - val_loss: 9.8855e-06\nEpoch 239/400\n9/9 [==============================] - 0s 4ms/step - loss: 8.6515e-06 - val_loss: 9.8881e-06\nEpoch 240/400\n9/9 [==============================] - 0s 4ms/step - loss: 8.6471e-06 - val_loss: 9.8711e-06\nEpoch 241/400\n9/9 [==============================] - 0s 5ms/step - loss: 8.6365e-06 - val_loss: 9.8575e-06\nEpoch 242/400\n9/9 [==============================] - 0s 4ms/step - loss: 8.6204e-06 - val_loss: 9.8717e-06\nEpoch 243/400\n9/9 [==============================] - 0s 4ms/step - loss: 8.6169e-06 - val_loss: 9.9347e-06\nEpoch 244/400\n9/9 [==============================] - 0s 4ms/step - loss: 8.6607e-06 - val_loss: 9.8640e-06\nEpoch 245/400\n9/9 [==============================] - 0s 4ms/step - loss: 8.6359e-06 - val_loss: 9.8575e-06\nEpoch 246/400\n9/9 [==============================] - 0s 5ms/step - loss: 8.6124e-06 - val_loss: 9.8349e-06\nEpoch 247/400\n9/9 [==============================] - 0s 4ms/step - loss: 8.6056e-06 - val_loss: 9.8359e-06\nEpoch 248/400\n9/9 [==============================] - 0s 4ms/step - loss: 8.6092e-06 - val_loss: 9.8117e-06\nEpoch 249/400\n9/9 [==============================] - 0s 4ms/step - loss: 8.5968e-06 - val_loss: 9.7930e-06\nEpoch 250/400\n9/9 [==============================] - 0s 4ms/step - loss: 8.5829e-06 - val_loss: 9.8029e-06\nEpoch 251/400\n9/9 [==============================] - 0s 4ms/step - loss: 8.5828e-06 - val_loss: 9.8065e-06\nEpoch 252/400\n9/9 [==============================] - 0s 4ms/step - loss: 8.5894e-06 - val_loss: 9.8412e-06\nEpoch 253/400\n9/9 [==============================] - 0s 4ms/step - loss: 8.6147e-06 - val_loss: 9.8135e-06\nEpoch 254/400\n9/9 [==============================] - 0s 4ms/step - loss: 8.5881e-06 - val_loss: 9.8054e-06\nEpoch 255/400\n9/9 [==============================] - 0s 6ms/step - loss: 8.5789e-06 - val_loss: 9.7890e-06\nEpoch 256/400\n9/9 [==============================] - 0s 4ms/step - loss: 8.5759e-06 - val_loss: 9.7881e-06\nEpoch 257/400\n9/9 [==============================] - 0s 6ms/step - loss: 8.5609e-06 - val_loss: 9.7609e-06\nEpoch 258/400\n9/9 [==============================] - 0s 4ms/step - loss: 8.5518e-06 - val_loss: 9.7573e-06\nEpoch 259/400\n9/9 [==============================] - 0s 4ms/step - loss: 8.5448e-06 - val_loss: 9.7948e-06\nEpoch 260/400\n9/9 [==============================] - 0s 4ms/step - loss: 8.5595e-06 - val_loss: 9.7623e-06\nEpoch 261/400\n9/9 [==============================] - 0s 4ms/step - loss: 8.5432e-06 - val_loss: 9.7598e-06\nEpoch 262/400\n9/9 [==============================] - 0s 4ms/step - loss: 8.5499e-06 - val_loss: 9.7797e-06\nEpoch 263/400\n9/9 [==============================] - 0s 4ms/step - loss: 8.5498e-06 - val_loss: 9.7658e-06\nEpoch 264/400\n9/9 [==============================] - 0s 6ms/step - loss: 8.5582e-06 - val_loss: 9.8016e-06\nEpoch 265/400\n9/9 [==============================] - 0s 4ms/step - loss: 8.5551e-06 - val_loss: 9.7354e-06\nEpoch 266/400\n9/9 [==============================] - 0s 4ms/step - loss: 8.5425e-06 - val_loss: 9.7821e-06\nEpoch 267/400\n9/9 [==============================] - 0s 4ms/step - loss: 8.5411e-06 - val_loss: 9.7362e-06\nEpoch 268/400\n9/9 [==============================] - 0s 6ms/step - loss: 8.5271e-06 - val_loss: 9.7505e-06\nEpoch 269/400\n9/9 [==============================] - 0s 4ms/step - loss: 8.5278e-06 - val_loss: 9.7461e-06\nEpoch 270/400\n9/9 [==============================] - 0s 4ms/step - loss: 8.5342e-06 - val_loss: 9.7211e-06\nEpoch 271/400\n9/9 [==============================] - 0s 4ms/step - loss: 8.5148e-06 - val_loss: 9.7100e-06\nEpoch 272/400\n9/9 [==============================] - 0s 5ms/step - loss: 8.5120e-06 - val_loss: 9.7225e-06\nEpoch 273/400\n9/9 [==============================] - 0s 4ms/step - loss: 8.5244e-06 - val_loss: 9.7413e-06\nEpoch 274/400\n9/9 [==============================] - 0s 4ms/step - loss: 8.5150e-06 - val_loss: 9.7129e-06\nEpoch 275/400\n9/9 [==============================] - 0s 4ms/step - loss: 8.5058e-06 - val_loss: 9.6997e-06\nEpoch 276/400\n9/9 [==============================] - 0s 4ms/step - loss: 8.4983e-06 - val_loss: 9.7107e-06\nEpoch 277/400\n9/9 [==============================] - 0s 4ms/step - loss: 8.4986e-06 - val_loss: 9.7127e-06\nEpoch 278/400\n9/9 [==============================] - 0s 5ms/step - loss: 8.4959e-06 - val_loss: 9.6910e-06\nEpoch 279/400\n9/9 [==============================] - 0s 9ms/step - loss: 8.4954e-06 - val_loss: 9.7047e-06\nEpoch 280/400\n9/9 [==============================] - 0s 4ms/step - loss: 8.4907e-06 - val_loss: 9.6957e-06\nEpoch 281/400\n9/9 [==============================] - 0s 4ms/step - loss: 8.4849e-06 - val_loss: 9.6842e-06\nEpoch 282/400\n9/9 [==============================] - 0s 4ms/step - loss: 8.4685e-06 - val_loss: 9.6732e-06\nEpoch 283/400\n9/9 [==============================] - 0s 4ms/step - loss: 8.4659e-06 - val_loss: 9.6598e-06\nEpoch 284/400\n9/9 [==============================] - 0s 4ms/step - loss: 8.4583e-06 - val_loss: 9.6739e-06\nEpoch 285/400\n9/9 [==============================] - 0s 4ms/step - loss: 8.4807e-06 - val_loss: 9.6896e-06\nEpoch 286/400\n9/9 [==============================] - 0s 4ms/step - loss: 8.4734e-06 - val_loss: 9.6467e-06\nEpoch 287/400\n9/9 [==============================] - 0s 4ms/step - loss: 8.4527e-06 - val_loss: 9.6236e-06\nEpoch 288/400\n9/9 [==============================] - 0s 4ms/step - loss: 8.4399e-06 - val_loss: 9.6284e-06\nEpoch 289/400\n9/9 [==============================] - 0s 4ms/step - loss: 8.4330e-06 - val_loss: 9.6641e-06\nEpoch 290/400\n9/9 [==============================] - 0s 4ms/step - loss: 8.4355e-06 - val_loss: 9.6210e-06\nEpoch 291/400\n9/9 [==============================] - 0s 4ms/step - loss: 8.4265e-06 - val_loss: 9.6140e-06\nEpoch 292/400\n9/9 [==============================] - 0s 5ms/step - loss: 8.4202e-06 - val_loss: 9.6170e-06\nEpoch 293/400\n9/9 [==============================] - 0s 4ms/step - loss: 8.4236e-06 - val_loss: 9.6300e-06\nEpoch 294/400\n9/9 [==============================] - 0s 5ms/step - loss: 8.4243e-06 - val_loss: 9.6044e-06\nEpoch 295/400\n9/9 [==============================] - 0s 4ms/step - loss: 8.4188e-06 - val_loss: 9.6146e-06\nEpoch 296/400\n9/9 [==============================] - 0s 4ms/step - loss: 8.4213e-06 - val_loss: 9.6170e-06\nEpoch 297/400\n9/9 [==============================] - 0s 5ms/step - loss: 8.4220e-06 - val_loss: 9.6201e-06\nEpoch 298/400\n9/9 [==============================] - 0s 4ms/step - loss: 8.4235e-06 - val_loss: 9.6079e-06\nEpoch 299/400\n9/9 [==============================] - 0s 4ms/step - loss: 8.4201e-06 - val_loss: 9.6033e-06\nEpoch 300/400\n9/9 [==============================] - 0s 4ms/step - loss: 8.4156e-06 - val_loss: 9.5995e-06\nEpoch 301/400\n9/9 [==============================] - 0s 4ms/step - loss: 8.4091e-06 - val_loss: 9.5839e-06\nEpoch 302/400\n9/9 [==============================] - 0s 4ms/step - loss: 8.4094e-06 - val_loss: 9.6159e-06\nEpoch 303/400\n9/9 [==============================] - 0s 4ms/step - loss: 8.4284e-06 - val_loss: 9.6182e-06\nEpoch 304/400\n9/9 [==============================] - 0s 7ms/step - loss: 8.4223e-06 - val_loss: 9.6187e-06\nEpoch 305/400\n9/9 [==============================] - 0s 5ms/step - loss: 8.4238e-06 - val_loss: 9.5947e-06\nEpoch 306/400\n9/9 [==============================] - 0s 4ms/step - loss: 8.4113e-06 - val_loss: 9.5958e-06\nEpoch 307/400\n9/9 [==============================] - 0s 4ms/step - loss: 8.4084e-06 - val_loss: 9.5885e-06\nEpoch 308/400\n9/9 [==============================] - 0s 4ms/step - loss: 8.4038e-06 - val_loss: 9.6027e-06\nEpoch 309/400\n9/9 [==============================] - 0s 4ms/step - loss: 8.4111e-06 - val_loss: 9.6687e-06\nEpoch 310/400\n9/9 [==============================] - 0s 4ms/step - loss: 8.4294e-06 - val_loss: 9.6428e-06\nEpoch 311/400\n9/9 [==============================] - 0s 4ms/step - loss: 8.4306e-06 - val_loss: 9.6279e-06\nEpoch 312/400\n9/9 [==============================] - 0s 4ms/step - loss: 8.4168e-06 - val_loss: 9.5919e-06\nEpoch 313/400\n9/9 [==============================] - 0s 4ms/step - loss: 8.4086e-06 - val_loss: 9.5827e-06\nEpoch 314/400\n9/9 [==============================] - 0s 4ms/step - loss: 8.4071e-06 - val_loss: 9.5995e-06\nEpoch 315/400\n9/9 [==============================] - 0s 4ms/step - loss: 8.4005e-06 - val_loss: 9.5987e-06\nEpoch 316/400\n9/9 [==============================] - 0s 4ms/step - loss: 8.3927e-06 - val_loss: 9.5666e-06\nEpoch 317/400\n9/9 [==============================] - 0s 6ms/step - loss: 8.3847e-06 - val_loss: 9.5665e-06\nEpoch 318/400\n9/9 [==============================] - 0s 4ms/step - loss: 8.3843e-06 - val_loss: 9.5681e-06\nEpoch 319/400\n9/9 [==============================] - 0s 4ms/step - loss: 8.3774e-06 - val_loss: 9.5581e-06\nEpoch 320/400\n9/9 [==============================] - 0s 5ms/step - loss: 8.3741e-06 - val_loss: 9.5571e-06\nEpoch 321/400\n9/9 [==============================] - 0s 6ms/step - loss: 8.3700e-06 - val_loss: 9.5874e-06\nEpoch 322/400\n9/9 [==============================] - 0s 8ms/step - loss: 8.3739e-06 - val_loss: 9.5305e-06\nEpoch 323/400\n9/9 [==============================] - 0s 4ms/step - loss: 8.3562e-06 - val_loss: 9.5267e-06\nEpoch 324/400\n9/9 [==============================] - 0s 4ms/step - loss: 8.3553e-06 - val_loss: 9.5317e-06\nEpoch 325/400\n9/9 [==============================] - 0s 4ms/step - loss: 8.3441e-06 - val_loss: 9.5221e-06\nEpoch 326/400\n9/9 [==============================] - 0s 4ms/step - loss: 8.3367e-06 - val_loss: 9.5031e-06\nEpoch 327/400\n9/9 [==============================] - 0s 4ms/step - loss: 8.3340e-06 - val_loss: 9.5152e-06\nEpoch 328/400\n9/9 [==============================] - 0s 4ms/step - loss: 8.3360e-06 - val_loss: 9.5252e-06\nEpoch 329/400\n9/9 [==============================] - 0s 4ms/step - loss: 8.3229e-06 - val_loss: 9.5059e-06\nEpoch 330/400\n9/9 [==============================] - 0s 4ms/step - loss: 8.3140e-06 - val_loss: 9.4802e-06\nEpoch 331/400\n9/9 [==============================] - 0s 4ms/step - loss: 8.3046e-06 - val_loss: 9.4729e-06\nEpoch 332/400\n9/9 [==============================] - 0s 4ms/step - loss: 8.3047e-06 - val_loss: 9.4717e-06\nEpoch 333/400\n9/9 [==============================] - 0s 4ms/step - loss: 8.2999e-06 - val_loss: 9.4918e-06\nEpoch 334/400\n9/9 [==============================] - 0s 4ms/step - loss: 8.3049e-06 - val_loss: 9.4647e-06\nEpoch 335/400\n9/9 [==============================] - 0s 4ms/step - loss: 8.2931e-06 - val_loss: 9.4877e-06\nEpoch 336/400\n9/9 [==============================] - 0s 4ms/step - loss: 8.3006e-06 - val_loss: 9.5048e-06\nEpoch 337/400\n9/9 [==============================] - 0s 4ms/step - loss: 8.3047e-06 - val_loss: 9.4616e-06\nEpoch 338/400\n9/9 [==============================] - 0s 4ms/step - loss: 8.2922e-06 - val_loss: 9.4476e-06\nEpoch 339/400\n9/9 [==============================] - 0s 4ms/step - loss: 8.2886e-06 - val_loss: 9.4518e-06\nEpoch 340/400\n9/9 [==============================] - 0s 4ms/step - loss: 8.2838e-06 - val_loss: 9.4434e-06\nEpoch 341/400\n9/9 [==============================] - 0s 4ms/step - loss: 8.2835e-06 - val_loss: 9.4593e-06\nEpoch 342/400\n9/9 [==============================] - 0s 7ms/step - loss: 8.2930e-06 - val_loss: 9.4505e-06\nEpoch 343/400\n9/9 [==============================] - 0s 4ms/step - loss: 8.2865e-06 - val_loss: 9.4535e-06\nEpoch 344/400\n9/9 [==============================] - 0s 4ms/step - loss: 8.2924e-06 - val_loss: 9.4709e-06\nEpoch 345/400\n9/9 [==============================] - 0s 5ms/step - loss: 8.2978e-06 - val_loss: 9.4533e-06\nEpoch 346/400\n9/9 [==============================] - 0s 4ms/step - loss: 8.2890e-06 - val_loss: 9.4480e-06\nEpoch 347/400\n9/9 [==============================] - 0s 4ms/step - loss: 8.2821e-06 - val_loss: 9.4494e-06\nEpoch 348/400\n9/9 [==============================] - 0s 5ms/step - loss: 8.2820e-06 - val_loss: 9.4474e-06\nEpoch 349/400\n9/9 [==============================] - 0s 4ms/step - loss: 8.2790e-06 - val_loss: 9.4418e-06\nEpoch 350/400\n9/9 [==============================] - 0s 4ms/step - loss: 8.2800e-06 - val_loss: 9.4636e-06\nEpoch 351/400\n9/9 [==============================] - 0s 4ms/step - loss: 8.2839e-06 - val_loss: 9.4509e-06\nEpoch 352/400\n9/9 [==============================] - 0s 4ms/step - loss: 8.2848e-06 - val_loss: 9.4585e-06\nEpoch 353/400\n9/9 [==============================] - 0s 5ms/step - loss: 8.2809e-06 - val_loss: 9.4414e-06\nEpoch 354/400\n9/9 [==============================] - 0s 4ms/step - loss: 8.2771e-06 - val_loss: 9.4422e-06\nEpoch 355/400\n9/9 [==============================] - 0s 4ms/step - loss: 8.2813e-06 - val_loss: 9.4472e-06\nEpoch 356/400\n9/9 [==============================] - 0s 4ms/step - loss: 8.2892e-06 - val_loss: 9.4677e-06\nEpoch 357/400\n9/9 [==============================] - 0s 4ms/step - loss: 8.2873e-06 - val_loss: 9.4788e-06\nEpoch 358/400\n9/9 [==============================] - 0s 4ms/step - loss: 8.2860e-06 - val_loss: 9.4347e-06\nEpoch 359/400\n9/9 [==============================] - 0s 4ms/step - loss: 8.2728e-06 - val_loss: 9.4329e-06\nEpoch 360/400\n9/9 [==============================] - 0s 4ms/step - loss: 8.2742e-06 - val_loss: 9.4232e-06\nEpoch 361/400\n9/9 [==============================] - 0s 4ms/step - loss: 8.2662e-06 - val_loss: 9.4288e-06\nEpoch 362/400\n9/9 [==============================] - 0s 4ms/step - loss: 8.2667e-06 - val_loss: 9.4302e-06\nEpoch 363/400\n9/9 [==============================] - 0s 4ms/step - loss: 8.2662e-06 - val_loss: 9.4269e-06\nEpoch 364/400\n9/9 [==============================] - 0s 4ms/step - loss: 8.2440e-06 - val_loss: 9.3926e-06\nEpoch 365/400\n9/9 [==============================] - 0s 4ms/step - loss: 8.2030e-06 - val_loss: 9.3621e-06\nEpoch 366/400\n9/9 [==============================] - 0s 4ms/step - loss: 8.1950e-06 - val_loss: 9.3474e-06\nEpoch 367/400\n9/9 [==============================] - 0s 4ms/step - loss: 8.1842e-06 - val_loss: 9.3554e-06\nEpoch 368/400\n9/9 [==============================] - 0s 4ms/step - loss: 8.1865e-06 - val_loss: 9.3504e-06\nEpoch 369/400\n9/9 [==============================] - 0s 4ms/step - loss: 8.1849e-06 - val_loss: 9.3416e-06\nEpoch 370/400\n9/9 [==============================] - 0s 4ms/step - loss: 8.1799e-06 - val_loss: 9.3523e-06\nEpoch 371/400\n9/9 [==============================] - 0s 4ms/step - loss: 8.1845e-06 - val_loss: 9.3264e-06\nEpoch 372/400\n9/9 [==============================] - 0s 5ms/step - loss: 8.1772e-06 - val_loss: 9.3512e-06\nEpoch 373/400\n9/9 [==============================] - 0s 5ms/step - loss: 8.1829e-06 - val_loss: 9.3329e-06\nEpoch 374/400\n9/9 [==============================] - 0s 5ms/step - loss: 8.1745e-06 - val_loss: 9.3295e-06\nEpoch 375/400\n9/9 [==============================] - 0s 4ms/step - loss: 8.1737e-06 - val_loss: 9.3577e-06\nEpoch 376/400\n9/9 [==============================] - 0s 4ms/step - loss: 8.1847e-06 - val_loss: 9.3292e-06\nEpoch 377/400\n9/9 [==============================] - 0s 5ms/step - loss: 8.1810e-06 - val_loss: 9.3304e-06\nEpoch 378/400\n9/9 [==============================] - 0s 9ms/step - loss: 8.1734e-06 - val_loss: 9.3517e-06\nEpoch 379/400\n9/9 [==============================] - 0s 4ms/step - loss: 8.1745e-06 - val_loss: 9.3284e-06\nEpoch 380/400\n9/9 [==============================] - 0s 4ms/step - loss: 8.1683e-06 - val_loss: 9.3389e-06\nEpoch 381/400\n9/9 [==============================] - 0s 4ms/step - loss: 8.1863e-06 - val_loss: 9.3307e-06\nEpoch 382/400\n9/9 [==============================] - 0s 4ms/step - loss: 8.1765e-06 - val_loss: 9.3445e-06\nEpoch 383/400\n9/9 [==============================] - 0s 4ms/step - loss: 8.1795e-06 - val_loss: 9.3426e-06\nEpoch 384/400\n9/9 [==============================] - 0s 4ms/step - loss: 8.1723e-06 - val_loss: 9.3251e-06\nEpoch 385/400\n9/9 [==============================] - 0s 4ms/step - loss: 8.1694e-06 - val_loss: 9.3255e-06\nEpoch 386/400\n9/9 [==============================] - 0s 5ms/step - loss: 8.1656e-06 - val_loss: 9.3163e-06\nEpoch 387/400\n9/9 [==============================] - 0s 4ms/step - loss: 8.1640e-06 - val_loss: 9.3259e-06\nEpoch 388/400\n9/9 [==============================] - 0s 4ms/step - loss: 8.1723e-06 - val_loss: 9.3857e-06\nEpoch 389/400\n9/9 [==============================] - 0s 4ms/step - loss: 8.1909e-06 - val_loss: 9.3260e-06\nEpoch 390/400\n9/9 [==============================] - 0s 4ms/step - loss: 8.1713e-06 - val_loss: 9.3275e-06\nEpoch 391/400\n9/9 [==============================] - 0s 4ms/step - loss: 8.1660e-06 - val_loss: 9.3172e-06\nEpoch 392/400\n9/9 [==============================] - 0s 4ms/step - loss: 8.1651e-06 - val_loss: 9.3708e-06\nEpoch 393/400\n9/9 [==============================] - 0s 4ms/step - loss: 8.1858e-06 - val_loss: 9.3551e-06\nEpoch 394/400\n9/9 [==============================] - 0s 4ms/step - loss: 8.1812e-06 - val_loss: 9.3305e-06\nEpoch 395/400\n9/9 [==============================] - 0s 4ms/step - loss: 8.1773e-06 - val_loss: 9.3314e-06\nEpoch 396/400\n9/9 [==============================] - 0s 4ms/step - loss: 8.1743e-06 - val_loss: 9.3247e-06\nEpoch 397/400\n9/9 [==============================] - 0s 4ms/step - loss: 8.1723e-06 - val_loss: 9.3097e-06\nEpoch 398/400\n9/9 [==============================] - 0s 5ms/step - loss: 8.1621e-06 - val_loss: 9.2999e-06\nEpoch 399/400\n9/9 [==============================] - 0s 5ms/step - loss: 8.1584e-06 - val_loss: 9.3051e-06\nEpoch 400/400\n9/9 [==============================] - 0s 4ms/step - loss: 8.1587e-06 - val_loss: 9.3137e-06\n",
     "output_type": "stream"
    }
   ],
   "execution_count": null
  },
  {
   "cell_type": "code",
   "source": "plt.clf()\nloss = history3.history['loss']\nval_loss = history3.history['val_loss']\nprint(min(val_loss))\nplt.figure(figsize=(16,6))\nplt.plot(range(1,nepochs+1), loss, 'b', label='loss',color=\"blue\")\nplt.plot(range(1,nepochs+1), val_loss, 'b', label='validation loss',color=\"red\")\n\nplt.xlabel('Epochs',fontsize=16)\nplt.ylabel('Loss',fontsize=16)\nplt.grid(True)\nplt.legend(loc = 'upper right',fontsize=16)\n\nplt.show()",
   "metadata": {
    "cell_id": "5b3f20ba6d224cd59dc1875f90daae3e",
    "tags": [],
    "deepnote_to_be_reexecuted": false,
    "source_hash": "d2fcc401",
    "execution_start": 1659751476374,
    "execution_millis": 208,
    "deepnote_app_coordinates": {
     "x": 0,
     "y": 259,
     "w": 12,
     "h": 5
    },
    "deepnote_cell_type": "code",
    "deepnote_cell_height": 832.125,
    "deepnote_output_heights": [
     null,
     21.1875,
     323
    ]
   },
   "outputs": [
    {
     "name": "stdout",
     "text": "9.2999471235089e-06\n/tmp/ipykernel_25423/814288453.py:6: UserWarning: color is redundantly defined by the 'color' keyword argument and the fmt string \"b\" (-> color=(0.0, 0.0, 1.0, 1)). The keyword argument will take precedence.\n  plt.plot(range(1,nepochs+1), loss, 'b', label='loss',color=\"blue\")\n/tmp/ipykernel_25423/814288453.py:7: UserWarning: color is redundantly defined by the 'color' keyword argument and the fmt string \"b\" (-> color=(0.0, 0.0, 1.0, 1)). The keyword argument will take precedence.\n  plt.plot(range(1,nepochs+1), val_loss, 'b', label='validation loss',color=\"red\")\n",
     "output_type": "stream"
    },
    {
     "data": {
      "text/plain": "<Figure size 432x288 with 0 Axes>"
     },
     "metadata": {},
     "output_type": "display_data"
    },
    {
     "data": {
      "text/plain": "<Figure size 1152x432 with 1 Axes>",
      "image/png": "[encoded data removed]"
     },
     "metadata": {
      "needs_background": "light",
      "image/png": {
       "width": 967,
       "height": 377
      }
     },
     "output_type": "display_data"
    }
   ],
   "execution_count": null
  },
  {
   "cell_type": "markdown",
   "source": "<a style='text-decoration:none;line-height:16px;display:flex;color:#5B5B62;padding:10px;justify-content:end;' href='https://deepnote.com?utm_source=created-in-deepnote-cell&projectId=da06c7de-90de-4eea-9ffe-050b3a97225e' target=\"_blank\">\n<img alt='Created in deepnote.com' style='display:inline;max-height:16px;margin:0px;margin-right:7.5px;' src='data:image/svg+xml;base64,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' > </img>\nCreated in <span style='font-weight:600;margin-left:4px;'>Deepnote</span></a>",
   "metadata": {
    "tags": [],
    "created_in_deepnote_cell": true,
    "deepnote_cell_type": "markdown"
   }
  }
 ],
 "nbformat": 4,
 "nbformat_minor": 2,
 "metadata": {
  "orig_nbformat": 2,
  "deepnote": {},
  "deepnote_notebook_id": "542a51b2-40ba-48f8-a5cf-14d764fdcfe8",
  "deepnote_execution_queue": [],
  "deepnote_app_layout": "article"
 }
}